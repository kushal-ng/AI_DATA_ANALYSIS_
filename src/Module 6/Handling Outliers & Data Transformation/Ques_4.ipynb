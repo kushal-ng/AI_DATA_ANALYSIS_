{
 "cells": [
  {
   "cell_type": "code",
   "execution_count": null,
   "metadata": {},
   "outputs": [],
   "source": [
    "# Question: Multivariate Outlier Detection Using Mahalanobis Distance\n",
    "# Description: Implement Mahalanobis distance to detect multivariate outliers in a dataset.\n",
    "import numpy as np\n",
    "\n",
    "def mahalanobis_outliers(data, threshold):\n",
    "    data = np.array(data)\n",
    "    mean = np.mean(data, axis=0)\n",
    "    cov = np.cov(data, rowvar=False)\n",
    "    inv_cov = np.linalg.pinv(cov)\n",
    "    diffs = data - mean\n",
    "    mdist = np.sqrt(np.sum(diffs @ inv_cov * diffs, axis=1))\n",
    "    outliers = [i for i, dist in enumerate(mdist) if dist > threshold]\n",
    "    return outliers\n",
    "\n"
   ]
  }
 ],
 "metadata": {
  "language_info": {
   "name": "python"
  }
 },
 "nbformat": 4,
 "nbformat_minor": 2
}
