{
 "cells": [
  {
   "cell_type": "code",
   "execution_count": null,
   "metadata": {},
   "outputs": [],
   "source": [
    "# Question: Combining Multiple Outlier Detection Methods\n",
    "# Description: Combine Z-score, IQR, and Boxplot methods to detect and compare outliers in adataset.\n",
    "\n",
    "import numpy as np\n",
    "import pandas as pd\n",
    "\n",
    "def detect_outliers_combined(data):\n",
    "    data = np.array(data)\n",
    "    outliers = {}\n",
    "\n",
    "    # Z-score method\n",
    "    mean = np.mean(data)\n",
    "    std = np.std(data)\n",
    "    z_outliers = [i for i, x in enumerate(data) if abs((x - mean) / std) > 3]\n",
    "    outliers['z_score'] = z_outliers\n",
    "\n",
    "    # IQR method\n",
    "    q1 = np.percentile(data, 25)\n",
    "    q3 = np.percentile(data, 75)\n",
    "    iqr = q3 - q1\n",
    "    lower_bound = q1 - 1.5 * iqr\n",
    "    upper_bound = q3 + 1.5 * iqr\n",
    "    iqr_outliers = [i for i, x in enumerate(data) if x < lower_bound or x > upper_bound]\n",
    "    outliers['iqr'] = iqr_outliers\n",
    "\n",
    "    # Boxplot method (using IQR but including whiskers)\n",
    "    # Same as IQR outliers for numeric data, included for completeness\n",
    "    boxplot_outliers = iqr_outliers\n",
    "    outliers['boxplot'] = boxplot_outliers\n",
    "\n",
    "    return outliers\n",
    "\n"
   ]
  }
 ],
 "metadata": {
  "language_info": {
   "name": "python"
  }
 },
 "nbformat": 4,
 "nbformat_minor": 2
}
