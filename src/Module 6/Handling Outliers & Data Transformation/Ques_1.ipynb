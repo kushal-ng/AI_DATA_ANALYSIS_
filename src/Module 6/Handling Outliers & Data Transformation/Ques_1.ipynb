{
 "cells": [
  {
   "cell_type": "code",
   "execution_count": null,
   "metadata": {},
   "outputs": [],
   "source": [
    "# Question: Visualizing Outliers Using Boxplots\n",
    "# Description: Use a boxplot to visually detect outliers in a dataset.\n",
    "\n",
    "\n",
    "import matplotlib.pyplot as plt\n",
    "import seaborn as sns\n",
    "\n",
    "def plot_boxplot(data):\n",
    "    sns.boxplot(x=data)\n",
    "    plt.title(\"Boxplot for Outlier Detection\")\n",
    "    plt.xlabel(\"Values\")\n",
    "    plt.show()\n"
   ]
  }
 ],
 "metadata": {
  "language_info": {
   "name": "python"
  }
 },
 "nbformat": 4,
 "nbformat_minor": 2
}
