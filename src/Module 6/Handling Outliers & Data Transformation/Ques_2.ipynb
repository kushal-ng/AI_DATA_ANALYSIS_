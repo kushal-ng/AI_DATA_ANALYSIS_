{
 "cells": [
  {
   "cell_type": "code",
   "execution_count": null,
   "metadata": {},
   "outputs": [],
   "source": [
    "# Question: Winsorization of Data\n",
    "# Description: Apply Winsorization to a given dataset to handle outliers.\n",
    "\n",
    "from scipy.stats.mstats import winsorize\n",
    "\n",
    "def apply_winsorization(data, limits=(0.05, 0.05)):\n",
    "    return list(winsorize(data, limits=limits))\n"
   ]
  }
 ],
 "metadata": {
  "language_info": {
   "name": "python"
  }
 },
 "nbformat": 4,
 "nbformat_minor": 2
}
