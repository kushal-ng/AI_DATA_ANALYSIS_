{
 "cells": [
  {
   "cell_type": "code",
   "execution_count": null,
   "metadata": {},
   "outputs": [],
   "source": [
    "# Question: Power Transformation (Box-Cox) Method\n",
    "# Description: Use Box-Cox transformation to stabilize variance and make the data more normal.\n",
    "from scipy.stats import boxcox\n",
    "import numpy as np\n",
    "\n",
    "def boxcox_transform(data):\n",
    "    data = np.array(data)\n",
    "    if np.any(data <= 0):\n",
    "        data = data - np.min(data) + 1\n",
    "    transformed_data, _ = boxcox(data)\n",
    "    return transformed_data.tolist()\n",
    "\n",
    "\n"
   ]
  }
 ],
 "metadata": {
  "language_info": {
   "name": "python"
  }
 },
 "nbformat": 4,
 "nbformat_minor": 2
}
