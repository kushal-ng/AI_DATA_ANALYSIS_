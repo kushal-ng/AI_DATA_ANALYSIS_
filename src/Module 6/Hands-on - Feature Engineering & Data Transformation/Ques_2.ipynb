{
 "cells": [
  {
   "cell_type": "code",
   "execution_count": null,
   "metadata": {},
   "outputs": [],
   "source": [
    "# Feature Scaling & Encoding\n",
    "\n",
    "# Objective: Learn to scale numerical features and encode categorical features for better model performance.\n",
    "# Instructions:\n",
    "# For each example, perform the following steps:\n",
    "#     1. Load the Dataset: Load the dataset into your environment.\n",
    "#     2. Feature Scaling: Apply scaling methods (StandardScaler or MinMaxScaler) to specified numerical columns.\n",
    "#     3. Feature Encoding: Apply encoding methods (One-Hot Encoding or Label Encoding) to specified categorical columns.\n",
    "#     4. Verify Changes: Check the data to ensure proper scaling and encoding. \n",
    "\n",
    "\n",
    "# Task:\n",
    "#     Dataset: customer_data.csv (get it by your own it includes the columns of Age , Annual_Income)\n",
    "#     Columns to scale: Age , Annual_Income\n",
    "#     Column to encode: Region\n",
    "#     Steps:\n",
    "#         1. Load customer_data.csv .\n",
    "#         2. Use MinMaxScaler on Age and Annual_Income .\n",
    "#         3. Perform One-Hot Encoding on Region .\n",
    "#         4. Verify by assessing the transformed dataset.\n",
    "\n",
    "import pandas as pd\n",
    "from sklearn.preprocessing import MinMaxScaler, OneHotEncoder\n",
    "\n",
    "# Step 1: Load the Dataset\n",
    "df = pd.read_csv('customer_data.csv')\n",
    "\n",
    "# Step 2: Feature Scaling using MinMaxScaler on 'Age' and 'Annual_Income'\n",
    "scaler = MinMaxScaler()\n",
    "df[['Age', 'Annual_Income']] = scaler.fit_transform(df[['Age', 'Annual_Income']])\n",
    "\n",
    "# Step 3: One-Hot Encoding on 'Region'\n",
    "encoder = OneHotEncoder(sparse_output=False)\n",
    "encoded_region = encoder.fit_transform(df[['Region']])\n",
    "encoded_region_df = pd.DataFrame(encoded_region, columns=encoder.get_feature_names_out(['Region']))\n",
    "\n",
    "# Drop the original 'Region' column and concatenate the encoded columns\n",
    "df = df.drop('Region', axis=1)\n",
    "df = pd.concat([df, encoded_region_df], axis=1)\n",
    "\n",
    "# Step 4: Verify the transformed dataset\n",
    "print(df.head())\n",
    "\n",
    "\n",
    "    \n",
    "    \n",
    "    "
   ]
  }
 ],
 "metadata": {
  "language_info": {
   "name": "python"
  }
 },
 "nbformat": 4,
 "nbformat_minor": 2
}
