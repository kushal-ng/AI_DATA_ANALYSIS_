{
 "cells": [
  {
   "cell_type": "code",
   "execution_count": 1,
   "metadata": {},
   "outputs": [],
   "source": [
    "# Question: Advanced Data Profiling and Outlier Detection\n",
    "# Description: Perform detailed data profiling including outlier detection for numeric columns.\n",
    "import pandas as pd\n",
    "\n",
    "def advanced_data_profiling(df):\n",
    "    if df.empty:\n",
    "        return \"DataFrame is empty.\"\n",
    "\n",
    "    profile = {}\n",
    "\n",
    "    numeric_cols = df.select_dtypes(include='number').columns\n",
    "\n",
    "    for col in numeric_cols:\n",
    "        col_data = df[col].dropna()\n",
    "        if col_data.empty:\n",
    "            profile[col] = {\n",
    "                'count': 0,\n",
    "                'mean': None,\n",
    "                'std': None,\n",
    "                'min': None,\n",
    "                '25%': None,\n",
    "                '50%': None,\n",
    "                '75%': None,\n",
    "                'max': None,\n",
    "                'outliers': []\n",
    "            }\n",
    "            continue\n",
    "\n",
    "        q1 = col_data.quantile(0.25)\n",
    "        q3 = col_data.quantile(0.75)\n",
    "        iqr = q3 - q1\n",
    "        lower_bound = q1 - 1.5 * iqr\n",
    "        upper_bound = q3 + 1.5 * iqr\n",
    "        outliers = col_data[(col_data < lower_bound) | (col_data > upper_bound)].tolist()\n",
    "\n",
    "        profile[col] = {\n",
    "            'count': col_data.count(),\n",
    "            'mean': col_data.mean(),\n",
    "            'std': col_data.std(),\n",
    "            'min': col_data.min(),\n",
    "            '25%': q1,\n",
    "            '50%': col_data.median(),\n",
    "            '75%': q3,\n",
    "            'max': col_data.max(),\n",
    "            'outliers': outliers\n",
    "        }\n",
    "\n",
    "    return profile\n"
   ]
  }
 ],
 "metadata": {
  "kernelspec": {
   "display_name": "Python 3",
   "language": "python",
   "name": "python3"
  },
  "language_info": {
   "codemirror_mode": {
    "name": "ipython",
    "version": 3
   },
   "file_extension": ".py",
   "mimetype": "text/x-python",
   "name": "python",
   "nbconvert_exporter": "python",
   "pygments_lexer": "ipython3",
   "version": "3.10.12"
  }
 },
 "nbformat": 4,
 "nbformat_minor": 2
}
