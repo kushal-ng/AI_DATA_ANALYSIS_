{
 "cells": [
  {
   "cell_type": "code",
   "execution_count": 1,
   "metadata": {},
   "outputs": [
    {
     "name": "stdout",
     "output_type": "stream",
     "text": [
      "Task 1 - Completeness, Uniqueness, Consistency: {'Completeness': np.float64(0.88), 'Uniqueness': 1.0, 'Consistency': np.float64(0.6), 'Overall Score': np.float64(0.83)}\n",
      "Task 2 - Accuracy, Timeliness, Integrity: {'Accuracy': np.float64(1.0), 'Timeliness': np.float64(0.0), 'Integrity': 0, 'Overall Score': np.float64(0.33)}\n",
      "Task 3 - Validity, Precision, Accessibility: {'Validity': np.float64(1.0), 'Precision': np.float64(0.5), 'Accessibility': np.float64(0.8), 'Overall Score': np.float64(0.77)}\n"
     ]
    }
   ],
   "source": [
    "import pandas as pd\n",
    "import numpy as np\n",
    "\n",
    "# Sample dataset for demonstration\n",
    "data = {\n",
    "    'CustomerID': [1, 2, 3, 4, 4],\n",
    "    'Name': ['Alice', 'Bob', 'Charlie', None, 'David'],\n",
    "    'Email': ['alice@example.com', 'bob@example.com', 'charlie@example', None, 'david@example.com'],\n",
    "    'JoinDate': ['2023-01-15', '2022-12-01', '2023-03-10', 'invalid_date', '2023-03-10'],\n",
    "    'PurchaseAmount': [120.50, 80.0, None, 40.25, 40.25]\n",
    "}\n",
    "df = pd.DataFrame(data)\n",
    "\n",
    "# Task 1: Completeness, Uniqueness, Consistency\n",
    "def data_quality_score_task1(df):\n",
    "    total_cells = df.size\n",
    "    missing_cells = df.isnull().sum().sum()\n",
    "    completeness_score = 1 - (missing_cells / total_cells)\n",
    "\n",
    "    total_rows = len(df)\n",
    "    unique_rows = len(df.drop_duplicates())\n",
    "    uniqueness_score = unique_rows / total_rows\n",
    "\n",
    "    email_valid = df['Email'].apply(lambda x: isinstance(x, str) and '@' in x and '.' in x)\n",
    "    date_valid = pd.to_datetime(df['JoinDate'], errors='coerce').notna()\n",
    "    consistency_score = (email_valid & date_valid).sum() / total_rows\n",
    "\n",
    "    overall_score = (completeness_score + uniqueness_score + consistency_score) / 3\n",
    "    return {\n",
    "        \"Completeness\": round(completeness_score, 2),\n",
    "        \"Uniqueness\": round(uniqueness_score, 2),\n",
    "        \"Consistency\": round(consistency_score, 2),\n",
    "        \"Overall Score\": round(overall_score, 2)\n",
    "    }\n",
    "\n",
    "# Task 2: Accuracy, Timeliness, Integrity\n",
    "def data_quality_score_task2(df):\n",
    "    accuracy_score = df['PurchaseAmount'].dropna().apply(lambda x: x >= 0).mean()\n",
    "\n",
    "    df['JoinDateParsed'] = pd.to_datetime(df['JoinDate'], errors='coerce')\n",
    "    recent_date_cutoff = pd.Timestamp.now() - pd.DateOffset(years=2)\n",
    "    timeliness_score = (df['JoinDateParsed'] >= recent_date_cutoff).mean()\n",
    "\n",
    "    integrity_score = df['CustomerID'].is_unique\n",
    "\n",
    "    overall_score = (accuracy_score + timeliness_score + integrity_score) / 3\n",
    "    return {\n",
    "        \"Accuracy\": round(accuracy_score, 2),\n",
    "        \"Timeliness\": round(timeliness_score, 2),\n",
    "        \"Integrity\": round(integrity_score, 2),\n",
    "        \"Overall Score\": round(overall_score, 2)\n",
    "    }\n",
    "\n",
    "# Task 3: Validity, Precision, Accessibility\n",
    "def data_quality_score_task3(df):\n",
    "    validity_score = df['PurchaseAmount'].dropna().apply(lambda x: isinstance(x, (float, int)) and x >= 0).mean()\n",
    "\n",
    "    precision_score = df['PurchaseAmount'].dropna().apply(lambda x: len(str(x).split('.')[-1]) == 2).mean()\n",
    "\n",
    "    accessibility_score = df[['Name', 'Email']].notnull().all(axis=1).mean()\n",
    "\n",
    "    overall_score = (validity_score + precision_score + accessibility_score) / 3\n",
    "    return {\n",
    "        \"Validity\": round(validity_score, 2),\n",
    "        \"Precision\": round(precision_score, 2),\n",
    "        \"Accessibility\": round(accessibility_score, 2),\n",
    "        \"Overall Score\": round(overall_score, 2)\n",
    "    }\n",
    "\n",
    "# Run and print results\n",
    "print(\"Task 1 - Completeness, Uniqueness, Consistency:\", data_quality_score_task1(df))\n",
    "print(\"Task 2 - Accuracy, Timeliness, Integrity:\", data_quality_score_task2(df))\n",
    "print(\"Task 3 - Validity, Precision, Accessibility:\", data_quality_score_task3(df))\n"
   ]
  }
 ],
 "metadata": {
  "kernelspec": {
   "display_name": "Python 3",
   "language": "python",
   "name": "python3"
  },
  "language_info": {
   "codemirror_mode": {
    "name": "ipython",
    "version": 3
   },
   "file_extension": ".py",
   "mimetype": "text/x-python",
   "name": "python",
   "nbconvert_exporter": "python",
   "pygments_lexer": "ipython3",
   "version": "3.10.12"
  }
 },
 "nbformat": 4,
 "nbformat_minor": 2
}
