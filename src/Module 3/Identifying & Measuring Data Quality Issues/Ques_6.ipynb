{
 "cells": [
  {
   "cell_type": "code",
   "execution_count": 1,
   "metadata": {},
   "outputs": [],
   "source": [
    "# Question: Evaluating Data Distribution\n",
    "# Description: Analyze the distribution of a numeric column using histograms and descriptive statistics.\n",
    "\n",
    "import matplotlib.pyplot as plt\n",
    "import statistics\n",
    "\n",
    "def analyze_distribution(data):\n",
    "    if not data:\n",
    "        return None\n",
    "\n",
    "    try:\n",
    "        # Descriptive statistics\n",
    "        mean_val = statistics.mean(data)\n",
    "        median_val = statistics.median(data)\n",
    "        try:\n",
    "            mode_val = statistics.mode(data)\n",
    "        except statistics.StatisticsError:\n",
    "            mode_val = None  # In case there's no unique mode\n",
    "        stdev_val = statistics.stdev(data) if len(data) > 1 else 0\n",
    "\n",
    "        # Plot histogram\n",
    "        plt.hist(data, bins=10, edgecolor='black')\n",
    "        plt.title('Data Distribution Histogram')\n",
    "        plt.xlabel('Value')\n",
    "        plt.ylabel('Frequency')\n",
    "        plt.grid(True)\n",
    "        plt.show()\n",
    "\n",
    "        return {\n",
    "            'mean': mean_val,\n",
    "            'median': median_val,\n",
    "            'mode': mode_val,\n",
    "            'std_dev': stdev_val\n",
    "        }\n",
    "\n",
    "    except Exception as e:\n",
    "        return f\"Error: {str(e)}\"\n"
   ]
  }
 ],
 "metadata": {
  "kernelspec": {
   "display_name": "Python 3",
   "language": "python",
   "name": "python3"
  },
  "language_info": {
   "codemirror_mode": {
    "name": "ipython",
    "version": 3
   },
   "file_extension": ".py",
   "mimetype": "text/x-python",
   "name": "python",
   "nbconvert_exporter": "python",
   "pygments_lexer": "ipython3",
   "version": "3.10.12"
  }
 },
 "nbformat": 4,
 "nbformat_minor": 2
}
