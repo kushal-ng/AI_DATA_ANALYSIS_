{
 "cells": [
  {
   "cell_type": "code",
   "execution_count": 1,
   "metadata": {},
   "outputs": [],
   "source": [
    "# Question: Detecting Data Drift\n",
    "# Description: Identify potential data drift between two time periods for a numeric attribute.\n",
    "from scipy.stats import ks_2samp\n",
    "import matplotlib.pyplot as plt\n",
    "\n",
    "def detect_data_drift(data_period1, data_period2, alpha=0.05):\n",
    "    if not data_period1 or not data_period2:\n",
    "        return \"One or both data periods are empty.\"\n",
    "\n",
    "    # Perform Kolmogorov–Smirnov test\n",
    "    statistic, p_value = ks_2samp(data_period1, data_period2)\n",
    "\n",
    "    # Plot histograms\n",
    "    plt.hist(data_period1, bins=20, alpha=0.5, label='Period 1', density=True)\n",
    "    plt.hist(data_period2, bins=20, alpha=0.5, label='Period 2', density=True)\n",
    "    plt.title('Data Distribution Comparison')\n",
    "    plt.xlabel('Value')\n",
    "    plt.ylabel('Density')\n",
    "    plt.legend()\n",
    "    plt.grid(True)\n",
    "    plt.show()\n",
    "\n",
    "    drift_detected = p_value < alpha\n",
    "\n",
    "    return {\n",
    "        'ks_statistic': statistic,\n",
    "        'p_value': p_value,\n",
    "        'data_drift_detected': drift_detected\n",
    "    }\n"
   ]
  }
 ],
 "metadata": {
  "kernelspec": {
   "display_name": "Python 3",
   "language": "python",
   "name": "python3"
  },
  "language_info": {
   "codemirror_mode": {
    "name": "ipython",
    "version": 3
   },
   "file_extension": ".py",
   "mimetype": "text/x-python",
   "name": "python",
   "nbconvert_exporter": "python",
   "pygments_lexer": "ipython3",
   "version": "3.10.12"
  }
 },
 "nbformat": 4,
 "nbformat_minor": 2
}
