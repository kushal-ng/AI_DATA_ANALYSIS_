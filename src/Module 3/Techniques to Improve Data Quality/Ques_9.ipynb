{
 "cells": [
  {
   "cell_type": "code",
   "execution_count": 1,
   "metadata": {},
   "outputs": [
    {
     "name": "stdout",
     "output_type": "stream",
     "text": [
      "   feature1  feature2  target\n",
      "0         1        10   100.0\n",
      "1         2        20   200.0\n",
      "2         3        30   300.0\n",
      "3         4        40   400.0\n",
      "4         5        50   500.0\n",
      "5         6        60   600.0\n"
     ]
    }
   ],
   "source": [
    "# Question: Predictive Imputation Using Machine Learning\n",
    "# Description: Use a simple predictive model to impute missing values in a column.\n",
    "\n",
    "import pandas as pd\n",
    "from sklearn.linear_model import LinearRegression\n",
    "\n",
    "# Sample data\n",
    "data = {\n",
    "    'feature1': [1, 2, 3, 4, 5, 6],\n",
    "    'feature2': [10, 20, 30, 40, 50, 60],\n",
    "    'target': [100, 200, None, 400, None, 600]\n",
    "}\n",
    "df = pd.DataFrame(data)\n",
    "\n",
    "# Split the data\n",
    "train_data = df[df['target'].notnull()]\n",
    "test_data = df[df['target'].isnull()]\n",
    "\n",
    "# Prepare training data\n",
    "X_train = train_data[['feature1', 'feature2']]\n",
    "y_train = train_data['target']\n",
    "\n",
    "# Train model\n",
    "model = LinearRegression()\n",
    "model.fit(X_train, y_train)\n",
    "\n",
    "# Predict missing values\n",
    "X_test = test_data[['feature1', 'feature2']]\n",
    "predicted = model.predict(X_test)\n",
    "\n",
    "# Fill missing values\n",
    "df.loc[df['target'].isnull(), 'target'] = predicted\n",
    "\n",
    "# Output the updated DataFrame\n",
    "print(df)\n"
   ]
  }
 ],
 "metadata": {
  "kernelspec": {
   "display_name": "Python 3",
   "language": "python",
   "name": "python3"
  },
  "language_info": {
   "codemirror_mode": {
    "name": "ipython",
    "version": 3
   },
   "file_extension": ".py",
   "mimetype": "text/x-python",
   "name": "python",
   "nbconvert_exporter": "python",
   "pygments_lexer": "ipython3",
   "version": "3.10.12"
  }
 },
 "nbformat": 4,
 "nbformat_minor": 2
}
