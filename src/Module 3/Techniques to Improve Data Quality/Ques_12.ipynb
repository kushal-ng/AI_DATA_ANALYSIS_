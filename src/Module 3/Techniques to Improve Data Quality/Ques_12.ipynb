{
 "cells": [
  {
   "cell_type": "markdown",
   "metadata": {},
   "source": [
    "gfhfh"
   ]
  },
  {
   "cell_type": "code",
   "execution_count": null,
   "metadata": {},
   "outputs": [],
   "source": [
    "import pandas as pd\n",
    "\n",
    "# Load the dataset (replace with your actual file path)\n",
    "df = pd.read_csv('employees.csv')\n",
    "\n",
    "# -------------------------------\n",
    "# 7. Identify Complete Duplicates\n",
    "# -------------------------------\n",
    "complete_duplicates = df[df.duplicated(keep=False)]\n",
    "print(\"Complete duplicate rows:\\n\", complete_duplicates)\n",
    "\n",
    "# -------------------------------\n",
    "# 8. Identify Duplicates based on Specific Columns\n",
    "# -------------------------------\n",
    "# Example: Check duplicates based on 'Name' and 'Department'\n",
    "column_duplicates = df[df.duplicated(subset=['Name', 'Department'], keep=False)]\n",
    "print(\"\\nDuplicates based on 'Name' and 'Department':\\n\", column_duplicates)\n",
    "\n",
    "# -------------------------------\n",
    "# 9. Count Duplicate Rows\n",
    "# -------------------------------\n",
    "duplicate_count = df.duplicated().sum()\n",
    "print(f\"\\nTotal number of duplicate rows: {duplicate_count}\")\n"
   ]
  },
  {
   "cell_type": "code",
   "execution_count": null,
   "metadata": {},
   "outputs": [],
   "source": [
    "import pandas as pd\n",
    "\n",
    "# Load the dataset (replace with your actual file path)\n",
    "df = pd.read_csv('employees.csv')\n",
    "\n",
    "# -------------------------------\n",
    "# 10. Remove Complete Duplicates\n",
    "# -------------------------------\n",
    "df_no_duplicates = df.drop_duplicates(keep='first')\n",
    "print(\"DataFrame after removing complete duplicates (keeping first occurrence):\\n\", df_no_duplicates)\n",
    "\n",
    "# -------------------------------\n",
    "# 11. Subset Deduplication\n",
    "# -------------------------------\n",
    "# Example: Remove duplicates based on 'Name' and 'Department'\n",
    "df_subset_dedup = df.drop_duplicates(subset=['Name', 'Department'], keep='first')\n",
    "print(\"\\nDataFrame after removing duplicates based on 'Name' and 'Department':\\n\", df_subset_dedup)\n",
    "\n",
    "# -------------------------------\n",
    "# 12. Keep Last Occurrence\n",
    "# -------------------------------\n",
    "df_keep_last = df.drop_duplicates(keep='last')\n",
    "print(\"\\nDataFrame after removing duplicates (keeping last occurrence):\\n\", df_keep_last)\n"
   ]
  }
 ],
 "metadata": {
  "kernelspec": {
   "display_name": "base",
   "language": "python",
   "name": "python3"
  },
  "language_info": {
   "codemirror_mode": {
    "name": "ipython",
    "version": 3
   },
   "file_extension": ".py",
   "mimetype": "text/x-python",
   "name": "python",
   "nbconvert_exporter": "python",
   "pygments_lexer": "ipython3",
   "version": "3.12.7"
  }
 },
 "nbformat": 4,
 "nbformat_minor": 2
}
