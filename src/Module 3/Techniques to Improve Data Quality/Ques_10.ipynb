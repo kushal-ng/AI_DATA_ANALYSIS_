{
 "cells": [
  {
   "cell_type": "code",
   "execution_count": 1,
   "metadata": {},
   "outputs": [
    {
     "name": "stdout",
     "output_type": "stream",
     "text": [
      "          record1             record2  similarity  is_duplicate\n",
      "0      Apple Inc.  Apple Incorporated    0.407945             1\n",
      "1  Meta Platforms       Facebook Inc.    0.000000             1\n"
     ]
    }
   ],
   "source": [
    "# Question: Advanced Deduplication Using Machine Learning\n",
    "# Description: Implement ML-based deduplication based on feature similarity.\n",
    "import pandas as pd\n",
    "from sklearn.feature_extraction.text import TfidfVectorizer\n",
    "from sklearn.linear_model import LogisticRegression\n",
    "from sklearn.metrics.pairwise import cosine_similarity\n",
    "from sklearn.model_selection import train_test_split\n",
    "\n",
    "# Sample data: records and whether they're duplicates (for training)\n",
    "data = pd.DataFrame({\n",
    "    'record1': ['Apple Inc.', 'Microsoft Corp.', 'Apple Incorporated', 'Google LLC', 'Microsoft Corporation'],\n",
    "    'record2': ['Apple Incorporated', 'Microsoft Corporation', 'Apple Inc.', 'Alphabet Inc.', 'Google LLC'],\n",
    "    'is_duplicate': [1, 1, 1, 0, 0]  # Labels\n",
    "})\n",
    "\n",
    "# Combine all records to fit TF-IDF\n",
    "all_texts = pd.concat([data['record1'], data['record2']])\n",
    "vectorizer = TfidfVectorizer()\n",
    "tfidf_matrix = vectorizer.fit_transform(all_texts)\n",
    "\n",
    "# Split TF-IDF back into record1 and record2 vectors\n",
    "record1_vecs = tfidf_matrix[:len(data)]\n",
    "record2_vecs = tfidf_matrix[len(data):]\n",
    "\n",
    "# Compute similarity\n",
    "similarity_scores = [cosine_similarity(record1_vecs[i], record2_vecs[i])[0][0] for i in range(len(data))]\n",
    "data['similarity'] = similarity_scores\n",
    "\n",
    "# Train model on similarity\n",
    "X = data[['similarity']]\n",
    "y = data['is_duplicate']\n",
    "X_train, X_test, y_train, y_test = train_test_split(X, y, random_state=42)\n",
    "model = LogisticRegression()\n",
    "model.fit(X_train, y_train)\n",
    "\n",
    "# Prediction on new unseen records\n",
    "new_data = pd.DataFrame({\n",
    "    'record1': ['Apple Inc.', 'Meta Platforms'],\n",
    "    'record2': ['Apple Incorporated', 'Facebook Inc.']\n",
    "})\n",
    "\n",
    "# TF-IDF transformation\n",
    "combined = pd.concat([new_data['record1'], new_data['record2']])\n",
    "tfidf_new = vectorizer.transform(combined)\n",
    "vec1 = tfidf_new[:len(new_data)]\n",
    "vec2 = tfidf_new[len(new_data):]\n",
    "\n",
    "# Compute similarity\n",
    "new_sim = [cosine_similarity(vec1[i], vec2[i])[0][0] for i in range(len(new_data))]\n",
    "new_data['similarity'] = new_sim\n",
    "\n",
    "# Predict duplication\n",
    "new_data['is_duplicate'] = model.predict(new_data[['similarity']])\n",
    "\n",
    "print(new_data)\n"
   ]
  }
 ],
 "metadata": {
  "kernelspec": {
   "display_name": "Python 3",
   "language": "python",
   "name": "python3"
  },
  "language_info": {
   "codemirror_mode": {
    "name": "ipython",
    "version": 3
   },
   "file_extension": ".py",
   "mimetype": "text/x-python",
   "name": "python",
   "nbconvert_exporter": "python",
   "pygments_lexer": "ipython3",
   "version": "3.10.12"
  }
 },
 "nbformat": 4,
 "nbformat_minor": 2
}
