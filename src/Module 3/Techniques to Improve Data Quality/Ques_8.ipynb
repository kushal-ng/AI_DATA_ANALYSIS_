{
 "cells": [
  {
   "cell_type": "code",
   "execution_count": null,
   "metadata": {},
   "outputs": [],
   "source": [
    "# Question: Data Quality Automation Tools - Introduction to Great Expectations\n",
    "# Description: Set up a simple Great Expectations check for missing values in a numeric column.\n",
    "\n",
    "import great_expectations as ge\n",
    "from great_expectations.dataset import PandasDataset\n",
    "import pandas as pd\n",
    "# Load dataset\n",
    "df = pd.read_csv(\"data/sample.csv\")\n",
    "# Wrap with GE dataset\n",
    "ge_df = ge.from_pandas(df)\n",
    "\n",
    "# Add expectation: no missing values in 'price' column\n",
    "ge_df.expect_column_values_to_not_be_null(\"price\")\n",
    "\n",
    "# Run validation\n",
    "results = ge_df.validate()\n",
    "print(results)\n"
   ]
  }
 ],
 "metadata": {
  "kernelspec": {
   "display_name": "Python 3",
   "language": "python",
   "name": "python3"
  },
  "language_info": {
   "codemirror_mode": {
    "name": "ipython",
    "version": 3
   },
   "file_extension": ".py",
   "mimetype": "text/x-python",
   "name": "python",
   "nbconvert_exporter": "python",
   "pygments_lexer": "ipython3",
   "version": "3.10.12"
  }
 },
 "nbformat": 4,
 "nbformat_minor": 2
}
