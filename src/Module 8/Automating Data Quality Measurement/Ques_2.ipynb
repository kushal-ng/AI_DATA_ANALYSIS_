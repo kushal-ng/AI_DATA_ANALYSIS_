{
 "cells": [
  {
   "cell_type": "markdown",
   "metadata": {},
   "source": [
    "### Task 1: Validate Data with a Custom Expectation in Great Expectations\n",
    "**Description**: Create a custom expectation and validate data with Great Expectations.\n",
    "\n",
    "**Load a sample DataFrame**\n",
    "\n",
    "data = {\n",
    "'age': [25, 30, 35, 40, 45],\n",
    "'income': [50000, 60000, 75000, None, 100000]\n",
    "}"
   ]
  },
  {
   "cell_type": "code",
   "execution_count": null,
   "metadata": {},
   "outputs": [],
   "source": [
    "# Write your code from here\n",
    "import great_expectations as ge\n",
    "import pandas as pd\n",
    "\n",
    "# Sample data\n",
    "data = {\n",
    "    'age': [25, 30, 35, 40, 45],\n",
    "    'income': [50000, 60000, 75000, None, 100000]\n",
    "}\n",
    "\n",
    "# Load into GE-enabled DataFrame\n",
    "df = ge.from_pandas(pd.DataFrame(data))\n",
    "\n",
    "# Validate: All ages must be between 18 and 99\n",
    "age_check = df.expect_column_values_to_be_between(\"age\", min_value=18, max_value=99)\n",
    "\n",
    "# Custom: income should not be null\n",
    "income_check = df.expect_column_values_to_not_be_null(\"income\")\n",
    "\n",
    "# Print results\n",
    "print(\"Age Expectation Result:\", age_check[\"success\"])\n",
    "print(\"Income Not Null Result:\", income_check[\"success\"])\n"
   ]
  },
  {
   "cell_type": "markdown",
   "metadata": {},
   "source": [
    "### Task 2: Implement a Basic Alert System for Data Quality Drops\n",
    "**Description**: Set up a basic alert system that triggers when data quality drops."
   ]
  },
  {
   "cell_type": "code",
   "execution_count": null,
   "metadata": {},
   "outputs": [],
   "source": [
    "# Write your code from here\n",
    "def check_data_quality(dqi, threshold=90):\n",
    "    if dqi < threshold:\n",
    "        print(f\"ALERT: Data Quality dropped below threshold! DQI = {dqi}%\")\n",
    "        return True\n",
    "    else:\n",
    "        print(f\"Data Quality is acceptable. DQI = {dqi}%\")\n",
    "        return False\n",
    "\n",
    "# Example usage\n",
    "check_data_quality(87)  # Triggers alert\n",
    "check_data_quality(95)  # Does not trigger alert\n"
   ]
  },
  {
   "cell_type": "markdown",
   "metadata": {},
   "source": [
    "### Task 3: Real-time Data Quality Monitoring with Python and Great Expectations\n",
    "**Description**: Implement a system that monitors data quality in real-time."
   ]
  },
  {
   "cell_type": "code",
   "execution_count": null,
   "metadata": {},
   "outputs": [],
   "source": [
    "# Write your code from here\n",
    "import pandas as pd\n",
    "import great_expectations as ge\n",
    "import time\n",
    "\n",
    "def simulate_streaming_data():\n",
    "    # Simulated batches of real-time data\n",
    "    return [\n",
    "        {'id': 1, 'age': 25, 'income': 50000},\n",
    "        {'id': 2, 'age': 30, 'income': None},       # Income missing\n",
    "        {'id': 3, 'age': -5, 'income': 60000},      # Invalid age\n",
    "        {'id': 4, 'age': 45, 'income': 70000}\n",
    "    ]\n",
    "\n",
    "def validate_record(record):\n",
    "    df = pd.DataFrame([record])\n",
    "    gdf = ge.from_pandas(df)\n",
    "\n",
    "    results = gdf.expect_column_values_to_not_be_null('income')\n",
    "    if not results.success:\n",
    "        return False, \"Missing income\"\n",
    "\n",
    "    results = gdf.expect_column_values_to_be_between('age', min_value=0, max_value=100)\n",
    "    if not results.success:\n",
    "        return False, \"Invalid age range\"\n",
    "\n",
    "    return True, \"Record is valid\"\n",
    "\n",
    "def monitor():\n",
    "    for record in simulate_streaming_data():\n",
    "        is_valid, message = validate_record(record)\n",
    "        print(f\"Record: {record} → Valid: {is_valid} → Message: {message}\")\n",
    "        time.sleep(1)\n",
    "\n",
    "monitor()\n"
   ]
  }
 ],
 "metadata": {
  "kernelspec": {
   "display_name": "base",
   "language": "python",
   "name": "python3"
  },
  "language_info": {
   "name": "python",
   "version": "3.12.7"
  }
 },
 "nbformat": 4,
 "nbformat_minor": 2
}
