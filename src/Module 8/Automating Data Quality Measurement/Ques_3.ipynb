{
 "cells": [
  {
   "cell_type": "markdown",
   "metadata": {},
   "source": [
    "## Using AI for Anomalies Detection in Data Quality\n",
    "**Description**: Implement an AI-based approach to detect anomalies in data quality.\n",
    "\n",
    "**Steps**:\n",
    "1. Use an Anomaly Detection Algorithm:\n",
    "    - Use sklearn's Isolation Forest for anomaly detection.\n",
    "\n",
    "**Example data:**\n",
    "\n",
    "data = np.array([[25, 50000], [30, 60000], [35, 75000], [40, None], [45, 100000]])\n",
    "\n",
    "2. Integrate with Great Expectations:\n",
    "    - Generate alerts if anomalies are detected:"
   ]
  },
  {
   "cell_type": "code",
   "execution_count": null,
   "metadata": {},
   "outputs": [],
   "source": [
    "# Write your code from here\n",
    "import numpy as np\n",
    "import pandas as pd\n",
    "from sklearn.ensemble import IsolationForest\n",
    "import great_expectations as ge\n",
    "\n",
    "# Step 1: Prepare the data\n",
    "data = np.array([\n",
    "    [25, 50000],\n",
    "    [30, 60000],\n",
    "    [35, 75000],\n",
    "    [40, np.nan],       # Contains a missing value\n",
    "    [45, 100000]\n",
    "])\n",
    "\n",
    "# Convert to DataFrame\n",
    "df = pd.DataFrame(data, columns=['age', 'income'])\n",
    "\n",
    "# Step 2: Handle missing values (e.g., imputation or drop)\n",
    "try:\n",
    "    df_cleaned = df.dropna()\n",
    "    if df_cleaned.empty:\n",
    "        raise ValueError(\"No valid data available after dropping missing values.\")\n",
    "except Exception as e:\n",
    "    print(f\"Data Cleaning Error: {e}\")\n",
    "    df_cleaned = pd.DataFrame(columns=['age', 'income'])\n",
    "\n",
    "# Step 3: Anomaly Detection using Isolation Forest\n",
    "try:\n",
    "    if not df_cleaned.empty:\n",
    "        model = IsolationForest(contamination=0.2, random_state=42)\n",
    "        model.fit(df_cleaned)\n",
    "        df_cleaned['anomaly'] = model.predict(df_cleaned)\n",
    "    else:\n",
    "        print(\"Skipping model training due to lack of data.\")\n",
    "except Exception as e:\n",
    "    print(f\"Anomaly Detection Error: {e}\")\n",
    "\n",
    "# Step 4: Integrate with Great Expectations for alerting\n",
    "try:\n",
    "    gdf = ge.from_pandas(df_cleaned)\n",
    "    # You can define additional expectations here as needed\n",
    "    anomalies = df_cleaned[df_cleaned['anomaly'] == -1]\n",
    "    if not anomalies.empty:\n",
    "        print(\"Anomalies Detected:\")\n",
    "        print(anomalies)\n",
    "    else:\n",
    "        print(\"No anomalies detected.\")\n",
    "except Exception as e:\n",
    "    print(f\"Great Expectations Error: {e}\")\n"
   ]
  }
 ],
 "metadata": {
  "kernelspec": {
   "display_name": "base",
   "language": "python",
   "name": "python3"
  },
  "language_info": {
   "name": "python",
   "version": "3.12.7"
  }
 },
 "nbformat": 4,
 "nbformat_minor": 2
}
