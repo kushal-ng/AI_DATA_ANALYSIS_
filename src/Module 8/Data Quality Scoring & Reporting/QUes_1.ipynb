{
 "cells": [
  {
   "cell_type": "markdown",
   "metadata": {},
   "source": [
    "## Read Data from CSV and Calculate DQI\n",
    "\n",
    "**Description**: Read data from a CSV file, identify errors as missing values, and calculate the DQI."
   ]
  },
  {
   "cell_type": "code",
   "execution_count": null,
   "metadata": {},
   "outputs": [],
   "source": [
    "# Write your code from here\n",
    "import csv\n",
    "\n",
    "def calculate_dqi_from_csv(file_path):\n",
    "    with open(file_path, newline='') as csvfile:\n",
    "        reader = csv.DictReader(csvfile)\n",
    "        total = 0\n",
    "        valid = 0\n",
    "        for row in reader:\n",
    "            total += 1\n",
    "            if all(value.strip() != '' for value in row.values()):\n",
    "                valid += 1\n",
    "        if total == 0:\n",
    "            return 0.0\n",
    "        return (valid / total) * 100\n"
   ]
  },
  {
   "cell_type": "markdown",
   "metadata": {},
   "source": [
    "### Visualize Basic DQI with Bar Plot\n",
    "\n",
    "**Description**: Create a bar plot for DQI and errors in a dataset."
   ]
  },
  {
   "cell_type": "code",
   "execution_count": null,
   "metadata": {},
   "outputs": [],
   "source": [
    "# Write your code from here\n",
    "import matplotlib.pyplot as plt\n",
    "\n",
    "def plot_dqi_and_errors(dqi, total, valid):\n",
    "    errors = total - valid\n",
    "    labels = ['DQI', 'Errors']\n",
    "    values = [dqi, errors]\n",
    "\n",
    "    plt.bar(labels, values, color=['green', 'red'])\n",
    "    plt.ylabel('Value')\n",
    "    plt.title('DQI and Error Count')\n",
    "    plt.ylim(0, max(values) + 10)\n",
    "    plt.show()\n"
   ]
  }
 ],
 "metadata": {
  "kernelspec": {
   "display_name": "base",
   "language": "python",
   "name": "python3"
  },
  "language_info": {
   "name": "python",
   "version": "3.12.7"
  }
 },
 "nbformat": 4,
 "nbformat_minor": 2
}
