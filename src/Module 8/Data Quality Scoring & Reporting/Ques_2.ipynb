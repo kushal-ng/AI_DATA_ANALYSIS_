{
 "cells": [
  {
   "cell_type": "markdown",
   "metadata": {},
   "source": [
    "## Build a Data Quality Dashboard\n",
    "\n",
    "**Description**: Create a simple dashboard that displays data quality metrics using a library like `dash` or `streamlit`.\n",
    "\n",
    "**Steps:**\n",
    "1. Install Streamlit: pip install streamlit\n",
    "2. Create a Python script dashboard.py.\n",
    "3. Run the dashboard: streamlit run dashboard.py"
   ]
  },
  {
   "cell_type": "code",
   "execution_count": null,
   "metadata": {},
   "outputs": [],
   "source": [
    "# Write your code from here\n",
    "import streamlit as st\n",
    "\n",
    "def calculate_dqi(total, valid):\n",
    "    return (valid / total) * 100 if total else 0\n",
    "\n",
    "st.title(\"Data Quality Dashboard\")\n",
    "\n",
    "total = st.number_input(\"Total Records\", min_value=0, value=1000)\n",
    "valid = st.number_input(\"Valid Records\", min_value=0, max_value=total, value=980)\n",
    "\n",
    "dqi = calculate_dqi(total, valid)\n",
    "errors = total - valid\n",
    "\n",
    "st.metric(\"Data Quality Index (DQI)\", f\"{dqi:.2f}%\")\n",
    "st.metric(\"Total Errors\", errors)\n"
   ]
  }
 ],
 "metadata": {
  "kernelspec": {
   "display_name": "base",
   "language": "python",
   "name": "python3"
  },
  "language_info": {
   "name": "python",
   "version": "3.12.7"
  }
 },
 "nbformat": 4,
 "nbformat_minor": 2
}
