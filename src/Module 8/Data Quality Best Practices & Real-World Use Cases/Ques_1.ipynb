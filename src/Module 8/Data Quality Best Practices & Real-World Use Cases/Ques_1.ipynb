{
 "cells": [
  {
   "cell_type": "markdown",
   "metadata": {},
   "source": [
    "### Define Data Quality KPIs\n",
    "\n",
    "**Task 1**: Identify Relevant KPIs\n",
    "\n",
    "**Objective**: Develop KPIs that align with organizational goals.\n",
    "\n",
    "**Steps**:\n",
    "1. Choose a dataset from a domain of your interest (e.g., sales data, healthcare records, or transaction logs).\n",
    "2. Identify three KPIs that would be crucial for assessing the data quality in your chosen dataset. Consider accuracy, completeness, and timeliness.\n",
    "3. Document why each KPI is important for maintaining high-quality data in your given context."
   ]
  },
  {
   "cell_type": "code",
   "execution_count": null,
   "metadata": {},
   "outputs": [],
   "source": [
    "# Write your code from here\n",
    "# Define KPIs for a dataset with relevance to data quality\n",
    "\n",
    "def get_data_quality_kpis():\n",
    "    kpis = {\n",
    "        \"Accuracy Rate\": {\n",
    "            \"definition\": \"Percentage of transactions with correct product codes and prices\",\n",
    "            \"importance\": \"Ensures billing and inventory accuracy, preventing revenue loss\"\n",
    "        },\n",
    "        \"Completeness Rate\": {\n",
    "            \"definition\": \"Percentage of transactions with all mandatory fields filled\",\n",
    "            \"importance\": \"Prevents reporting gaps and supports downstream analytics\"\n",
    "        },\n",
    "        \"Timeliness\": {\n",
    "            \"definition\": \"Percentage of records entered within 24 hours of transaction\",\n",
    "            \"importance\": \"Supports near-real-time decision-making and forecasting\"\n",
    "        }\n",
    "    }\n",
    "    return kpis\n",
    "\n",
    "# Example usage\n",
    "kpis = get_data_quality_kpis()\n",
    "for kpi, details in kpis.items():\n",
    "    print(f\"{kpi}:\\n  Definition: {details['definition']}\\n  Importance: {details['importance']}\\n\")\n"
   ]
  },
  {
   "cell_type": "markdown",
   "metadata": {},
   "source": [
    "**Task 2**: Develop a KPI Dashboard\n",
    "\n",
    "**Objective**: Visualize your KPIs for better monitoring.\n",
    "\n",
    "**Steps**:\n",
    "1. Use a tool like Excel or a BI tool (e.g., Tableau, Power BI) to create a simple dashboard.\n",
    "2. Input sample data and visualize your chosen KPIs, showing how they would be monitored.\n",
    "3. Share your dashboard with peers and gather feedback on KPI relevance and clarity."
   ]
  },
  {
   "cell_type": "code",
   "execution_count": null,
   "metadata": {},
   "outputs": [],
   "source": [
    "# Write your code from here\n",
    "import streamlit as st\n",
    "import pandas as pd\n",
    "\n",
    "def get_sample_kpi_data():\n",
    "    data = {\n",
    "        'KPI': ['Accuracy Rate', 'Completeness Rate', 'Timeliness'],\n",
    "        'Current Value (%)': [97.5, 92.0, 85.5],\n",
    "        'Target (%)': [99.0, 95.0, 90.0]\n",
    "    }\n",
    "    return pd.DataFrame(data)\n",
    "\n",
    "st.title(\"Data Quality KPI Dashboard\")\n",
    "\n",
    "df = get_sample_kpi_data()\n",
    "\n",
    "st.bar_chart(df.set_index('KPI')['Current Value (%)'])\n",
    "\n",
    "st.write(\"### KPI Details\")\n",
    "for i, row in df.iterrows():\n",
    "    st.write(f\"**{row['KPI']}**: Current Value = {row['Current Value (%)']}%, Target = {row['Target (%)']}%\")\n",
    "\n",
    "# Optionally display raw data\n",
    "if st.checkbox(\"Show raw data\"):\n",
    "    st.write(df)\n"
   ]
  }
 ],
 "metadata": {
  "kernelspec": {
   "display_name": "base",
   "language": "python",
   "name": "python3"
  },
  "language_info": {
   "name": "python",
   "version": "3.12.7"
  }
 },
 "nbformat": 4,
 "nbformat_minor": 2
}
