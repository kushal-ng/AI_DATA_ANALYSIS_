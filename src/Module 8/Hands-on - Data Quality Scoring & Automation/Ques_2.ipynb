{
 "cells": [
  {
   "cell_type": "markdown",
   "metadata": {},
   "source": [
    "## Calculate Data Quality Score\n",
    "**Introduction**: In this activity, you will calculate data quality scores for datasets using different metrics. You will explore examples where you assess completeness, accuracy, and consistency.\n",
    "\n",
    "### Task 1: Completeness Score\n",
    "1. Objective: Determine the percentage of non-missing values in a dataset.\n",
    "2. Steps:\n",
    "    - Load a sample dataset using Pandas.\n",
    "    - Identify the columns with missing values.\n",
    "    - Calculate the completeness score as the ratio of non-missing values to total values.\n",
    "    - E.g., a dataset with customer information."
   ]
  },
  {
   "cell_type": "code",
   "execution_count": null,
   "metadata": {},
   "outputs": [],
   "source": [
    "# Write your code from here\n",
    "import pandas as pd\n",
    "\n",
    "def completeness_score(df):\n",
    "    total_values = df.size\n",
    "    non_missing_values = df.count().sum()\n",
    "    score = (non_missing_values / total_values) * 100 if total_values > 0 else 0.0\n",
    "    return score\n",
    "\n",
    "# Example usage:\n",
    "data = {\n",
    "    'CustomerID': [1, 2, 3, 4, None],\n",
    "    'Name': ['Alice', 'Bob', 'Charlie', None, 'Eve'],\n",
    "    'Email': ['alice@example.com', None, 'charlie@example.com', 'dave@example.com', 'eve@example.com']\n",
    "}\n",
    "\n",
    "df = pd.DataFrame(data)\n",
    "score = completeness_score(df)\n",
    "print(f\"Completeness Score: {score:.2f}%\")\n"
   ]
  },
  {
   "cell_type": "markdown",
   "metadata": {},
   "source": [
    "### Task 2: Accuracy Score\n",
    "\n",
    "1. Objective: Measure the accuracy of a dataset by comparing it against a reference dataset.\n",
    "2. Steps:\n",
    "    - Load the main dataset and a reference dataset.\n",
    "    - Select key columns for accuracy check.\n",
    "    - Match values from both datasets and calculate the accuracy percentage.\n",
    "    - E.g., along existing dataset with sales information."
   ]
  },
  {
   "cell_type": "code",
   "execution_count": null,
   "metadata": {},
   "outputs": [],
   "source": [
    "# Write your code from here\n",
    "import pandas as pd\n",
    "\n",
    "def accuracy_score(main_df, ref_df, key_columns):\n",
    "    if main_df.empty or ref_df.empty:\n",
    "        return 0.0\n",
    "\n",
    "    merged = pd.merge(main_df, ref_df, on=key_columns, how='inner', suffixes=('_main', '_ref'))\n",
    "    if merged.empty:\n",
    "        return 0.0\n",
    "    \n",
    "    accuracy_counts = 0\n",
    "    total_counts = len(merged)\n",
    "    \n",
    "    for col in main_df.columns:\n",
    "        if col not in key_columns and col in ref_df.columns:\n",
    "            accuracy_counts += (merged[f\"{col}_main\"] == merged[f\"{col}_ref\"]).sum()\n",
    "            total_counts += len(merged)\n",
    "    \n",
    "    # Avoid division by zero\n",
    "    if total_counts == 0:\n",
    "        return 0.0\n",
    "    \n",
    "    accuracy = (accuracy_counts / total_counts) * 100\n",
    "    return accuracy\n",
    "\n",
    "# Example usage:\n",
    "main_data = {\n",
    "    'ID': [1, 2, 3, 4],\n",
    "    'Sales': [100, 150, 200, 250],\n",
    "    'Region': ['East', 'West', 'East', 'North']\n",
    "}\n",
    "\n",
    "ref_data = {\n",
    "    'ID': [1, 2, 3, 4],\n",
    "    'Sales': [100, 140, 200, 260],\n",
    "    'Region': ['East', 'West', 'East', 'North']\n",
    "}\n",
    "\n",
    "main_df = pd.DataFrame(main_data)\n",
    "ref_df = pd.DataFrame(ref_data)\n",
    "\n",
    "score = accuracy_score(main_df, ref_df, key_columns=['ID'])\n",
    "print(f\"Accuracy Score: {score:.2f}%\")\n",
    "\n"
   ]
  },
  {
   "cell_type": "markdown",
   "metadata": {},
   "source": [
    "### Task 3: Consistency Score\n",
    "\n",
    "1. Objective: Evaluate the consistency within a dataset for specific columns.\n",
    "2. Steps:\n",
    "    - Choose a column expected to have consistent values.\n",
    "    - Use statistical or rule-based checks to identify inconsistencies.\n",
    "    - Calculate the consistency score by the ratio of consistent to total entries.\n",
    "    - E.g., validating phone number formats in a contact list."
   ]
  },
  {
   "cell_type": "code",
   "execution_count": null,
   "metadata": {},
   "outputs": [],
   "source": [
    "# Write your code from here\n",
    "import pandas as pd\n",
    "import re\n",
    "\n",
    "def consistency_score(df, column, pattern):\n",
    "    if column not in df.columns or df.empty:\n",
    "        return 0.0\n",
    "    \n",
    "    total = len(df)\n",
    "    if total == 0:\n",
    "        return 0.0\n",
    "    \n",
    "    # Check if each value matches the regex pattern\n",
    "    consistent_count = df[column].apply(lambda x: bool(re.fullmatch(pattern, str(x)))).sum()\n",
    "    \n",
    "    score = (consistent_count / total) * 100\n",
    "    return score\n",
    "\n",
    "# Example usage:\n",
    "data = {\n",
    "    'Name': ['Alice', 'Bob', 'Charlie', 'David'],\n",
    "    'Phone': ['123-456-7890', '987-654-3210', '1234567890', '123-45-6789']  # last one invalid format\n",
    "}\n",
    "\n",
    "df = pd.DataFrame(data)\n",
    "\n",
    "phone_pattern = r'\\d{3}-\\d{3}-\\d{4}'  # US phone format: 123-456-7890\n",
    "\n",
    "score = consistency_score(df, 'Phone', phone_pattern)\n",
    "print(f\"Consistency Score: {score:.2f}%\")\n"
   ]
  }
 ],
 "metadata": {
  "kernelspec": {
   "display_name": "base",
   "language": "python",
   "name": "python3"
  },
  "language_info": {
   "name": "python",
   "version": "3.12.7"
  }
 },
 "nbformat": 4,
 "nbformat_minor": 2
}
