{
 "cells": [
  {
   "cell_type": "markdown",
   "metadata": {},
   "source": [
    "## Real-World Case Studies\n",
    "\n",
    "### Finance - Fraud Detection Models:\n",
    "**Description**: Analyze a financial dataset, define SLAs for data accuracy and\n",
    "completeness, and ensure high data quality for fraud detection models."
   ]
  },
  {
   "cell_type": "code",
   "execution_count": null,
   "metadata": {},
   "outputs": [],
   "source": [
    "# write your code from here\n",
    "import pandas as pd\n",
    "\n",
    "def validate_transaction_data(df):\n",
    "    errors = []\n",
    "\n",
    "    # Completeness\n",
    "    for col in ['transaction_id', 'user_id', 'amount']:\n",
    "        missing = df[col].isnull().sum()\n",
    "        if missing > 0:\n",
    "            errors.append(f\"Column '{col}' has {missing} missing values.\")\n",
    "\n",
    "    # Accuracy\n",
    "    if (df['amount'] <= 0).any():\n",
    "        errors.append(\"Column 'amount' contains zero or negative values.\")\n",
    "\n",
    "    # Timestamp validity\n",
    "    try:\n",
    "        pd.to_datetime(df['timestamp'])\n",
    "    except Exception:\n",
    "        errors.append(\"Column 'timestamp' has invalid datetime values.\")\n",
    "\n",
    "    # Uniqueness\n",
    "    duplicates = df['transaction_id'].duplicated().sum()\n",
    "    if duplicates > 0:\n",
    "        errors.append(f\"{duplicates} duplicate transaction IDs found.\")\n",
    "\n",
    "    return errors\n",
    "\n",
    "# Example usage:\n",
    "# df = pd.read_csv('transactions.csv')\n",
    "# issues = validate_transaction_data(df)\n",
    "# if issues:\n",
    "#     print(\"Data quality issues found:\")\n",
    "#     for issue in issues:\n",
    "#         print(\"-\", issue)\n",
    "# else:\n",
    "#     print(\"Data quality checks passed.\")\n"
   ]
  }
 ],
 "metadata": {
  "kernelspec": {
   "display_name": "base",
   "language": "python",
   "name": "python3"
  },
  "language_info": {
   "name": "python",
   "version": "3.12.7"
  }
 },
 "nbformat": 4,
 "nbformat_minor": 2
}
