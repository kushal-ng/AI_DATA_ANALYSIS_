{
 "cells": [
  {
   "cell_type": "markdown",
   "metadata": {},
   "source": [
    "## Defining Data Quality SLAs\n",
    "### Data Completeness\n",
    "**Description**: Set an SLA that ensures that 95% of data fields in your dataset are filled (non-null values). Practice by checking a dataset of your choice and calculate its completeness."
   ]
  },
  {
   "cell_type": "code",
   "execution_count": null,
   "metadata": {},
   "outputs": [],
   "source": [
    "# write your code from here\n",
    "import pandas as pd\n",
    "\n",
    "def check_data_completeness(df, threshold=0.95):\n",
    "    completeness = df.notnull().mean().mean()\n",
    "    if completeness >= threshold:\n",
    "        return f\"Data completeness SLA met: {completeness:.2%} ≥ {threshold:.2%}\"\n",
    "    else:\n",
    "        return f\"Data completeness SLA NOT met: {completeness:.2%} < {threshold:.2%}\"\n",
    "\n",
    "data = {\n",
    "    'Name': ['Alice', 'Bob', None, 'David', 'Eva'],\n",
    "    'Age': [25, None, 30, 22, 28],\n",
    "    'Email': ['alice@example.com', 'bob@example.com', 'charlie@example.com', None, 'eva@example.com']\n",
    "}\n",
    "\n",
    "df = pd.DataFrame(data)\n",
    "result = check_data_completeness(df)\n",
    "print(result)\n"
   ]
  },
  {
   "cell_type": "markdown",
   "metadata": {},
   "source": [
    "### Data Timeliness:\n",
    "**Description**: Establish an SLA that specifies that data should be integrated and processed within 24 hours of acquisition. Monitor the data pipeline for timeliness."
   ]
  },
  {
   "cell_type": "code",
   "execution_count": null,
   "metadata": {},
   "outputs": [],
   "source": [
    "# write your code from here\n",
    "from datetime import datetime, timedelta\n",
    "\n",
    "def check_data_timeliness(data_acquisition_time, processing_time, max_delay_hours=24):\n",
    "    try:\n",
    "        acquisition_dt = pd.to_datetime(data_acquisition_time)\n",
    "        processing_dt = pd.to_datetime(processing_time)\n",
    "        delay = processing_dt - acquisition_dt\n",
    "        if delay <= timedelta(hours=max_delay_hours):\n",
    "            return f\"Data timeliness SLA met: processed within {delay}.\"\n",
    "        else:\n",
    "            return f\"Data timeliness SLA NOT met: processing delayed by {delay}.\"\n",
    "    except Exception as e:\n",
    "        return f\"Error in checking timeliness: {str(e)}\"\n",
    "\n",
    "# Example timestamps\n",
    "data_acquisition_time = \"2025-05-16 10:00:00\"\n",
    "processing_time = \"2025-05-17 08:30:00\"\n",
    "\n",
    "result = check_data_timeliness(data_acquisition_time, processing_time)\n",
    "print(result)\n"
   ]
  },
  {
   "cell_type": "markdown",
   "metadata": {},
   "source": [
    "### Data Consistency:\n",
    "**Description**: Define an SLA for maintaining consistency across various related datasets. Implement a check to ensure that 99% of data entries are consistent."
   ]
  },
  {
   "cell_type": "code",
   "execution_count": null,
   "metadata": {},
   "outputs": [],
   "source": [
    "# write your code from here\n",
    "import pandas as pd\n",
    "\n",
    "def check_data_consistency(df1, df2, key_columns, threshold=0.99):\n",
    "    try:\n",
    "        if not all(col in df1.columns for col in key_columns) or not all(col in df2.columns for col in key_columns):\n",
    "            return \"Error: One or more key columns missing in the datasets.\"\n",
    "        \n",
    "        # Merge on key columns with indicator to identify mismatches\n",
    "        merged = df1.merge(df2, on=key_columns, how='outer', indicator=True)\n",
    "        \n",
    "        # Count consistent rows (present in both)\n",
    "        consistent_count = (merged['_merge'] == 'both').sum()\n",
    "        total_count = len(merged)\n",
    "        \n",
    "        consistency_ratio = consistent_count / total_count if total_count > 0 else 0\n",
    "        \n",
    "        if consistency_ratio >= threshold:\n",
    "            return f\"Data consistency SLA met: {consistency_ratio:.2%} consistent entries.\"\n",
    "        else:\n",
    "            return f\"Data consistency SLA NOT met: only {consistency_ratio:.2%} consistent entries.\"\n",
    "    except Exception as e:\n",
    "        return f\"Error during consistency check: {str(e)}\"\n",
    "\n",
    "\n",
    "# Example usage\n",
    "df1 = pd.DataFrame({'ID': [1,2,3,4], 'Value': [10,20,30,40]})\n",
    "df2 = pd.DataFrame({'ID': [1,2,3,5], 'Value': [10,20,30,50]})\n",
    "key_cols = ['ID']\n",
    "\n",
    "result = check_data_consistency(df1, df2, key_cols)\n",
    "print(result)\n"
   ]
  }
 ],
 "metadata": {
  "kernelspec": {
   "display_name": "base",
   "language": "python",
   "name": "python3"
  },
  "language_info": {
   "name": "python",
   "version": "3.12.7"
  }
 },
 "nbformat": 4,
 "nbformat_minor": 2
}
