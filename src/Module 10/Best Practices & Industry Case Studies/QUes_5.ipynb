{
 "cells": [
  {
   "cell_type": "markdown",
   "metadata": {},
   "source": [
    "### Implementing Basic Data Validation with Great Expectations\n",
    "**Description**: Set up a simple data validation using Great Expectations to check the completeness of a dataset.\n",
    "\n",
    "**Steps**:\n",
    "1. Installation\n",
    "2. Initialize Great Expectations\n",
    "3. Create a Data Context in Python\n",
    "4. Create an Expectation Suite\n",
    "5. Load Sample Data and Validate Completeness\n",
    "6. Run Validations"
   ]
  },
  {
   "cell_type": "code",
   "execution_count": null,
   "metadata": {},
   "outputs": [],
   "source": [
    "# write your code from here\n",
    "# Step 1: Install Great Expectations (run in terminal, not in script)\n",
    "# pip install great_expectations\n",
    "\n",
    "import great_expectations as ge\n",
    "import pandas as pd\n",
    "\n",
    "# Step 2: Initialize Great Expectations Data Context\n",
    "# (Normally done once with `great_expectations init` in terminal)\n",
    "# Here, we create a DataContext object pointing to current directory\n",
    "context = ge.data_context.DataContext()\n",
    "\n",
    "# Step 3: Create an Expectation Suite (overwrite if exists)\n",
    "suite_name = \"completeness_suite\"\n",
    "context.create_expectation_suite(suite_name, overwrite_existing=True)\n",
    "\n",
    "# Step 4: Load sample data with missing values\n",
    "data = {\n",
    "    \"patient_id\": [1, 2, 3, 4, 5],\n",
    "    \"age\": [25, 35, None, 45, 50],\n",
    "    \"gender\": [\"M\", \"F\", \"F\", None, \"M\"],\n",
    "}\n",
    "df = pd.DataFrame(data)\n",
    "\n",
    "# Step 5: Create Great Expectations Dataset from the DataFrame\n",
    "dataset = ge.from_pandas(df)\n",
    "\n",
    "# Step 6: Add completeness expectations (no null values)\n",
    "dataset.expect_column_values_to_not_be_null(\"patient_id\")\n",
    "dataset.expect_column_values_to_not_be_null(\"age\")\n",
    "dataset.expect_column_values_to_not_be_null(\"gender\")\n",
    "\n",
    "# Step 7: Save the expectation suite\n",
    "dataset.save_expectation_suite(suite_name, overwrite=True)\n",
    "\n",
    "# Step 8: Validate the dataset against the expectation suite\n",
    "results = dataset.validate()\n",
    "\n",
    "# Step 9: Print summary of validation results\n",
    "print(\"Validation results:\")\n",
    "for result in results[\"results\"]:\n",
    "    expectation = result[\"expectation_config\"][\"expectation_type\"]\n",
    "    column = result[\"expectation_config\"][\"kwargs\"][\"column\"]\n",
    "    success = result[\"success\"]\n",
    "    print(f\"Expectation '{expectation}' on column '{column}': {'PASSED' if success else 'FAILED'}\")\n",
    "\n"
   ]
  }
 ],
 "metadata": {
  "kernelspec": {
   "display_name": "base",
   "language": "python",
   "name": "python3"
  },
  "language_info": {
   "name": "python",
   "version": "3.12.7"
  }
 },
 "nbformat": 4,
 "nbformat_minor": 2
}
