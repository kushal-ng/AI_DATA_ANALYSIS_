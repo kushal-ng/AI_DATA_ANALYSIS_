{
 "cells": [
  {
   "cell_type": "markdown",
   "metadata": {},
   "source": [
    "## Real-World Case Studies\n",
    "\n",
    "### Healthcare - Medical Prediction Errors:\n",
    "**Description**: Implement validation rules using a healthcare dataset to reduce errors in\n",
    "predictive models by automating data quality checks."
   ]
  },
  {
   "cell_type": "code",
   "execution_count": null,
   "metadata": {},
   "outputs": [],
   "source": [
    "# write your code from here\n",
    "import pandas as pd\n",
    "import numpy as np\n",
    "\n",
    "def validate_healthcare_data(df):\n",
    "    errors = []\n",
    "\n",
    "    # Check missing critical fields\n",
    "    critical_fields = ['patient_id', 'age', 'outcome']\n",
    "    for col in critical_fields:\n",
    "        missing = df[col].isnull().sum()\n",
    "        if missing > 0:\n",
    "            errors.append(f\"Column '{col}' has {missing} missing values.\")\n",
    "\n",
    "    # Check data types and convert if necessary\n",
    "    numeric_fields = ['age', 'blood_pressure', 'heart_rate', 'glucose']\n",
    "    for col in numeric_fields:\n",
    "        if col in df.columns:\n",
    "            # Try conversion to numeric, coerce errors to NaN\n",
    "            df[col] = pd.to_numeric(df[col], errors='coerce')\n",
    "            non_numeric = df[col].isnull().sum() - df[col].isnull().sum()  # Adjust for original NaNs\n",
    "            if non_numeric > 0:\n",
    "                errors.append(f\"Column '{col}' has {non_numeric} non-numeric entries converted to NaN.\")\n",
    "\n",
    "    # Range checks\n",
    "    if 'age' in df.columns:\n",
    "        out_of_range_age = df[(df['age'] < 0) | (df['age'] > 120)].shape[0]\n",
    "        if out_of_range_age > 0:\n",
    "            errors.append(f\"Column 'age' has {out_of_range_age} values outside the range 0-120.\")\n",
    "\n",
    "    if 'blood_pressure' in df.columns:\n",
    "        out_of_range_bp = df[(df['blood_pressure'] < 60) | (df['blood_pressure'] > 200)].shape[0]\n",
    "        if out_of_range_bp > 0:\n",
    "            errors.append(f\"Column 'blood_pressure' has {out_of_range_bp} values outside the range 60-200.\")\n",
    "\n",
    "    # Check duplicate patient IDs\n",
    "    if 'patient_id' in df.columns:\n",
    "        duplicates = df['patient_id'].duplicated().sum()\n",
    "        if duplicates > 0:\n",
    "            errors.append(f\"{duplicates} duplicate patient IDs found.\")\n",
    "\n",
    "    # Logical timestamp check\n",
    "    if {'admission_date', 'discharge_date'}.issubset(df.columns):\n",
    "        invalid_dates = df[df['admission_date'] > df['discharge_date']].shape[0]\n",
    "        if invalid_dates > 0:\n",
    "            errors.append(f\"{invalid_dates} records have admission_date after discharge_date.\")\n",
    "\n",
    "    return errors, df\n",
    "\n",
    "# Usage Example:\n",
    "# df = pd.read_csv('healthcare_data.csv', parse_dates=['admission_date', 'discharge_date'])\n",
    "# errors, cleaned_df = validate_healthcare_data(df)\n",
    "# if errors:\n",
    "#     for err in errors:\n",
    "#         print(\"Data Quality Issue:\", err)\n",
    "# else:\n",
    "#     print(\"All data quality checks passed.\")\n"
   ]
  }
 ],
 "metadata": {
  "kernelspec": {
   "display_name": "base",
   "language": "python",
   "name": "python3"
  },
  "language_info": {
   "name": "python",
   "version": "3.12.7"
  }
 },
 "nbformat": 4,
 "nbformat_minor": 2
}
