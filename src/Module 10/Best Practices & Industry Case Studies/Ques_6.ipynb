{
 "cells": [
  {
   "cell_type": "markdown",
   "metadata": {},
   "source": [
    "### Basic ML Model Monitoring with MLFlow\n",
    "**Description**: Set up a basic ML model monitoring pipeline using MLFlow to track experiment parameters and results.\n",
    "\n",
    "**Steps**:\n",
    "1. Installation\n",
    "2. Set Up MLFlow Tracking\n",
    "3. Training a Simple Model\n",
    "4. Logging Model and Metrics\n",
    "5. View Logged Data\n",
    "    - Access the MLFlow UI to view your logged parameters, metrics, and models."
   ]
  },
  {
   "cell_type": "code",
   "execution_count": null,
   "metadata": {},
   "outputs": [],
   "source": [
    "# write your code from here\n",
    "# Step 1: Install MLflow (run in terminal, not in script)\n",
    "# pip install mlflow scikit-learn pandas\n",
    "\n",
    "import mlflow\n",
    "import mlflow.sklearn\n",
    "from sklearn.datasets import load_iris\n",
    "from sklearn.model_selection import train_test_split\n",
    "from sklearn.ensemble import RandomForestClassifier\n",
    "from sklearn.metrics import accuracy_score\n",
    "import pandas as pd\n",
    "\n",
    "# Step 2: Set Up MLflow Tracking URI (optional, default is local ./mlruns)\n",
    "mlflow.set_tracking_uri(\"file:///tmp/mlruns\")\n",
    "\n",
    "# Step 3: Load dataset and split into train/test\n",
    "iris = load_iris()\n",
    "X = pd.DataFrame(iris.data, columns=iris.feature_names)\n",
    "y = pd.Series(iris.target)\n",
    "\n",
    "X_train, X_test, y_train, y_test = train_test_split(X, y, test_size=0.2, random_state=42)\n",
    "\n",
    "# Step 4: Train a simple RandomForest model\n",
    "model = RandomForestClassifier(n_estimators=100, random_state=42)\n",
    "model.fit(X_train, y_train)\n",
    "\n",
    "# Step 5: Evaluate the model\n",
    "y_pred = model.predict(X_test)\n",
    "acc = accuracy_score(y_test, y_pred)\n",
    "\n",
    "# Step 6: Log parameters, metrics, and model to MLflow\n",
    "with mlflow.start_run():\n",
    "    mlflow.log_param(\"n_estimators\", 100)\n",
    "    mlflow.log_param(\"random_state\", 42)\n",
    "    mlflow.log_metric(\"accuracy\", acc)\n",
    "    mlflow.sklearn.log_model(model, \"random_forest_model\")\n",
    "\n",
    "print(f\"Model accuracy logged: {acc}\")\n",
    "\n",
    "# Step 7: View logged data\n",
    "# Run this command in terminal to start the MLflow UI:\n",
    "# mlflow ui\n",
    "# Then open your browser at http://localhost:5000 to see experiments, parameters, metrics, and models.\n"
   ]
  }
 ],
 "metadata": {
  "kernelspec": {
   "display_name": "base",
   "language": "python",
   "name": "python3"
  },
  "language_info": {
   "name": "python",
   "version": "3.12.7"
  }
 },
 "nbformat": 4,
 "nbformat_minor": 2
}
