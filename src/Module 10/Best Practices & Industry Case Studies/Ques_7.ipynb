{
 "cells": [
  {
   "cell_type": "markdown",
   "metadata": {},
   "source": [
    "### Implementing and Logging an ML Experiment with MLFlow\n",
    "**Description**: Train an ML model for an e-commerce recommendation engine using MLFlow to track models and experiments.\n",
    "\n",
    "**Steps**:\n",
    "1. MLFlow Integration Setup\n",
    "2. Training the Model\n",
    "3. Logging the Experiment\n",
    "4. Accessing MLFlow UI"
   ]
  },
  {
   "cell_type": "code",
   "execution_count": null,
   "metadata": {},
   "outputs": [],
   "source": [
    "# write your code from here\n",
    "# Step 1: Install dependencies (run in terminal)\n",
    "# pip install mlflow scikit-learn pandas numpy\n",
    "\n",
    "import mlflow\n",
    "import mlflow.sklearn\n",
    "import pandas as pd\n",
    "import numpy as np\n",
    "from sklearn.model_selection import train_test_split\n",
    "from sklearn.ensemble import RandomForestClassifier\n",
    "from sklearn.metrics import precision_score, recall_score\n",
    "\n",
    "# Step 2: Prepare synthetic e-commerce recommendation data\n",
    "np.random.seed(42)\n",
    "n_samples = 1000\n",
    "data = pd.DataFrame({\n",
    "    'user_age': np.random.randint(18, 70, n_samples),\n",
    "    'user_income': np.random.normal(50000, 15000, n_samples),\n",
    "    'product_category': np.random.choice(['electronics', 'clothing', 'books'], n_samples),\n",
    "    'clicked': np.random.choice([0, 1], n_samples, p=[0.7, 0.3])  # target variable: clicked ad or not\n",
    "})\n",
    "\n",
    "# Encode categorical feature\n",
    "data = pd.get_dummies(data, columns=['product_category'], drop_first=True)\n",
    "\n",
    "X = data.drop('clicked', axis=1)\n",
    "y = data['clicked']\n",
    "\n",
    "# Split dataset\n",
    "X_train, X_test, y_train, y_test = train_test_split(X, y, test_size=0.2, random_state=42)\n",
    "\n",
    "# Step 3: Define and train model\n",
    "model = RandomForestClassifier(n_estimators=100, random_state=42)\n",
    "model.fit(X_train, y_train)\n",
    "\n",
    "# Predict and calculate metrics\n",
    "y_pred = model.predict(X_test)\n",
    "precision = precision_score(y_test, y_pred)\n",
    "recall = recall_score(y_test, y_pred)\n",
    "\n",
    "# Step 4: MLflow experiment logging\n",
    "mlflow.set_experiment(\"Ecommerce_Recommendation\")\n",
    "\n",
    "with mlflow.start_run():\n",
    "    mlflow.log_param(\"n_estimators\", 100)\n",
    "    mlflow.log_param(\"random_state\", 42)\n",
    "    mlflow.log_metric(\"precision\", precision)\n",
    "    mlflow.log_metric(\"recall\", recall)\n",
    "    mlflow.sklearn.log_model(model, \"rf_recommendation_model\")\n",
    "\n",
    "print(f\"Logged experiment with precision: {precision:.4f} and recall: {recall:.4f}\")\n",
    "\n",
    "# Step 5: Access MLflow UI by running in terminal:\n",
    "# mlflow ui\n",
    "# Open http://localhost:5000 in your browser to view experiments, parameters, metrics, and models.\n"
   ]
  }
 ],
 "metadata": {
  "kernelspec": {
   "display_name": "base",
   "language": "python",
   "name": "python3"
  },
  "language_info": {
   "name": "python",
   "version": "3.12.7"
  }
 },
 "nbformat": 4,
 "nbformat_minor": 2
}
