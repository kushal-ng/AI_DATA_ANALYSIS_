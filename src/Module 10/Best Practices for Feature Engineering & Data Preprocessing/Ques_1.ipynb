{
 "cells": [
  {
   "cell_type": "markdown",
   "metadata": {},
   "source": [
    "### Task 1: Handling Missing Values - Simple Imputation\n",
    "**Description**: Given a dataset with missing values, impute the missing values using the mean for numerical features and the mode for categorical features."
   ]
  },
  {
   "cell_type": "code",
   "execution_count": null,
   "metadata": {},
   "outputs": [],
   "source": [
    "# write your code from here\n",
    "import pandas as pd\n",
    "import numpy as np\n",
    "from sklearn.impute import SimpleImputer\n",
    "\n",
    "def impute_missing_values(data):\n",
    "    try:\n",
    "        df = pd.DataFrame(data)\n",
    "        num_cols = df.select_dtypes(include=[np.number]).columns\n",
    "        cat_cols = df.select_dtypes(exclude=[np.number]).columns\n",
    "\n",
    "        if not num_cols.empty:\n",
    "            mean_imputer = SimpleImputer(strategy='mean')\n",
    "            df[num_cols] = mean_imputer.fit_transform(df[num_cols])\n",
    "\n",
    "        if not cat_cols.empty:\n",
    "            mode_imputer = SimpleImputer(strategy='most_frequent')\n",
    "            df[cat_cols] = mode_imputer.fit_transform(df[cat_cols])\n",
    "\n",
    "        return df\n",
    "    except Exception as e:\n",
    "        return str(e)\n"
   ]
  },
  {
   "cell_type": "markdown",
   "metadata": {},
   "source": [
    "### Task 2: Feature Scaling - Min-Max Normalization\n",
    "**Description**: Normalize a numerical feature using Min-Max scaling to a range [0, 1]."
   ]
  },
  {
   "cell_type": "code",
   "execution_count": null,
   "metadata": {},
   "outputs": [],
   "source": [
    "# write your code from here\n",
    "import pandas as pd\n",
    "from sklearn.preprocessing import MinMaxScaler\n",
    "\n",
    "def min_max_normalize(data):\n",
    "    try:\n",
    "        df = pd.DataFrame(data)\n",
    "        scaler = MinMaxScaler()\n",
    "        df[df.columns] = scaler.fit_transform(df)\n",
    "        return df\n",
    "    except Exception as e:\n",
    "        return str(e)\n"
   ]
  },
  {
   "cell_type": "markdown",
   "metadata": {},
   "source": [
    "### Task 3: Handling Missing Values - Drop Missing Values\n",
    "**Description**: Remove rows with missing values from a dataset."
   ]
  },
  {
   "cell_type": "code",
   "execution_count": null,
   "metadata": {},
   "outputs": [],
   "source": [
    "# write your code from here\n",
    "import pandas as pd\n",
    "\n",
    "def drop_missing_values(data):\n",
    "    try:\n",
    "        df = pd.DataFrame(data)\n",
    "        return df.dropna()\n",
    "    except Exception as e:\n",
    "        return str(e)\n"
   ]
  },
  {
   "cell_type": "markdown",
   "metadata": {},
   "source": [
    "### Task 4: Feature Scaling - Standardization\n",
    "**Description**: Standardize a numerical feature to have zero mean and unit variance."
   ]
  },
  {
   "cell_type": "code",
   "execution_count": null,
   "metadata": {},
   "outputs": [],
   "source": [
    "# write your code from here\n",
    "import pandas as pd\n",
    "from sklearn.preprocessing import StandardScaler\n",
    "\n",
    "def standardize_features(data):\n",
    "    try:\n",
    "        df = pd.DataFrame(data)\n",
    "        scaler = StandardScaler()\n",
    "        scaled = scaler.fit_transform(df)\n",
    "        return pd.DataFrame(scaled, columns=df.columns)\n",
    "    except Exception as e:\n",
    "        return str(e)\n"
   ]
  }
 ],
 "metadata": {
  "kernelspec": {
   "display_name": "base",
   "language": "python",
   "name": "python3"
  },
  "language_info": {
   "name": "python",
   "version": "3.12.7"
  }
 },
 "nbformat": 4,
 "nbformat_minor": 2
}
