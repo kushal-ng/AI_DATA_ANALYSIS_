{
 "cells": [
  {
   "cell_type": "markdown",
   "metadata": {},
   "source": [
    "### Handling Missing Values - Imputation within ML Pipelines\n",
    "**Description**: Implement a machine learning pipeline that includes imputation and a classifier."
   ]
  },
  {
   "cell_type": "code",
   "execution_count": 1,
   "metadata": {},
   "outputs": [],
   "source": [
    "# write your code from here\n",
    "from sklearn.pipeline import Pipeline\n",
    "from sklearn.impute import SimpleImputer\n",
    "from sklearn.ensemble import RandomForestClassifier\n",
    "import pandas as pd\n",
    "\n",
    "def pipeline_with_imputation(X_train, y_train, X_test):\n",
    "    try:\n",
    "        if not isinstance(X_train, pd.DataFrame) or not isinstance(X_test, pd.DataFrame):\n",
    "            raise TypeError(\"X_train and X_test must be pandas DataFrames.\")\n",
    "        if len(X_train) != len(y_train):\n",
    "            raise ValueError(\"X_train and y_train must have the same number of samples.\")\n",
    "        if X_train.shape[1] != X_test.shape[1]:\n",
    "            raise ValueError(\"X_train and X_test must have the same number of features.\")\n",
    "        clf_pipeline = Pipeline([\n",
    "            ('imputer', SimpleImputer(strategy='mean')),\n",
    "            ('classifier', RandomForestClassifier())\n",
    "        ])\n",
    "        clf_pipeline.fit(X_train, y_train)\n",
    "        return clf_pipeline.predict(X_test)\n",
    "    except Exception as e:\n",
    "        return f\"Error: {str(e)}\"\n"
   ]
  }
 ],
 "metadata": {
  "kernelspec": {
   "display_name": "Python 3",
   "language": "python",
   "name": "python3"
  },
  "language_info": {
   "codemirror_mode": {
    "name": "ipython",
    "version": 3
   },
   "file_extension": ".py",
   "mimetype": "text/x-python",
   "name": "python",
   "nbconvert_exporter": "python",
   "pygments_lexer": "ipython3",
   "version": "3.10.12"
  }
 },
 "nbformat": 4,
 "nbformat_minor": 2
}
