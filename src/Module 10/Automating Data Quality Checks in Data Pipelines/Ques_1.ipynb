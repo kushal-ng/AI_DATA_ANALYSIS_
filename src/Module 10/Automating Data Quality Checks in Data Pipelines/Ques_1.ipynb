{
 "cells": [
  {
   "cell_type": "markdown",
   "metadata": {},
   "source": [
    "### Integrating with Apache Airflow\n",
    "**Description**: Integrate Great Expectations with Apache Airflow to run data quality checks automatically in your DAG.\n",
    "\n",
    "**Steps**:\n",
    "1. Install Airflow (if you haven't already):\n",
    "2. Airflow DAG Integration:\n",
    "    - Create a DAG file:\n",
    "3. Deploy and Test:\n",
    "    - Place this file in your Airflow DAGs directory and start your Airflow scheduler.\n",
    "    - Open the Airflow UI and trigger the DAG to see it run your expectations."
   ]
  },
  {
   "cell_type": "code",
   "execution_count": null,
   "metadata": {},
   "outputs": [],
   "source": [
    "# Write your code from here\n",
    "from airflow import DAG\n",
    "from airflow.operators.python import PythonOperator\n",
    "from datetime import datetime, timedelta\n",
    "import great_expectations as ge\n",
    "\n",
    "def run_great_expectations():\n",
    "    try:\n",
    "        context = ge.get_context()\n",
    "        # Name of your expectation suite\n",
    "        suite_name = \"my_expectation_suite\"\n",
    "        # Path to your data file to validate (update as needed)\n",
    "        data_path = \"/path/to/your/data.csv\"\n",
    "        \n",
    "        # Load data as a GE dataset\n",
    "        batch = context.get_batch({\n",
    "            \"datasource\": \"my_datasource\",\n",
    "            \"data_connector_name\": \"default_inferred_data_connector_name\",\n",
    "            \"data_asset_name\": data_path,\n",
    "        }, suite_name)\n",
    "        \n",
    "        results = context.run_validation_operator(\n",
    "            \"action_list_operator\",\n",
    "            assets_to_validate=[batch],\n",
    "            run_name=f\"validation_{datetime.now().isoformat()}\"\n",
    "        )\n",
    "        if not results[\"success\"]:\n",
    "            raise Exception(\"Data Quality Check Failed\")\n",
    "    except Exception as e:\n",
    "        raise RuntimeError(f\"Great Expectations validation failed: {e}\")\n",
    "\n",
    "default_args = {\n",
    "    \"owner\": \"airflow\",\n",
    "    \"depends_on_past\": False,\n",
    "    \"start_date\": datetime(2025, 1, 1),\n",
    "    \"retries\": 1,\n",
    "    \"retry_delay\": timedelta(minutes=5),\n",
    "}\n",
    "\n",
    "with DAG(\n",
    "    dag_id=\"great_expectations_data_quality_check\",\n",
    "    default_args=default_args,\n",
    "    schedule_interval=\"@daily\",\n",
    "    catchup=False,\n",
    "    tags=[\"data_quality\"],\n",
    ") as dag:\n",
    "\n",
    "    run_validation = PythonOperator(\n",
    "        task_id=\"run_ge_validation\",\n",
    "        python_callable=run_great_expectations,\n",
    "    )\n"
   ]
  }
 ],
 "metadata": {
  "kernelspec": {
   "display_name": "base",
   "language": "python",
   "name": "python3"
  },
  "language_info": {
   "name": "python",
   "version": "3.12.7"
  }
 },
 "nbformat": 4,
 "nbformat_minor": 2
}
