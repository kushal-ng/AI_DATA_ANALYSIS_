{
 "cells": [
  {
   "cell_type": "code",
   "execution_count": 1,
   "metadata": {},
   "outputs": [
    {
     "name": "stdout",
     "output_type": "stream",
     "text": [
      "   sepal_length  sepal_width  petal_length  petal_width species  \\\n",
      "0           5.1          3.5           1.4          0.2  setosa   \n",
      "1           4.9          3.0           1.4          0.2  setosa   \n",
      "2           4.7          3.2           1.3          0.2  setosa   \n",
      "3           4.6          3.1           1.5          0.2  setosa   \n",
      "4           5.0          3.6           1.4          0.2  setosa   \n",
      "\n",
      "   petal_length_to_petal_width  \n",
      "0                          7.0  \n",
      "1                          7.0  \n",
      "2                          6.5  \n",
      "3                          7.5  \n",
      "4                          7.0  \n"
     ]
    }
   ],
   "source": [
    "# Title: Data Manipulation with Pandas\n",
    "# Description: Add a new column that calculates the ratio of petal length to petal width.\n",
    "import pandas as pd\n",
    "import seaborn as sns\n",
    "iris = sns.load_dataset('iris')\n",
    "iris['petal_length_to_petal_width'] = iris['petal_length'] / iris['petal_width']\n",
    "print(iris.head())\n"
   ]
  }
 ],
 "metadata": {
  "kernelspec": {
   "display_name": "Python 3",
   "language": "python",
   "name": "python3"
  },
  "language_info": {
   "codemirror_mode": {
    "name": "ipython",
    "version": 3
   },
   "file_extension": ".py",
   "mimetype": "text/x-python",
   "name": "python",
   "nbconvert_exporter": "python",
   "pygments_lexer": "ipython3",
   "version": "3.10.12"
  }
 },
 "nbformat": 4,
 "nbformat_minor": 2
}
