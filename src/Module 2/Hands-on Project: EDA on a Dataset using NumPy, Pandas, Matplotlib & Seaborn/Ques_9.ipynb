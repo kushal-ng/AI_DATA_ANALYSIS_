{
 "cells": [
  {
   "cell_type": "code",
   "execution_count": null,
   "metadata": {},
   "outputs": [
    {
     "name": "stdout",
     "output_type": "stream",
     "text": [
      "   petal_length  sepal_length  petal_sepal_ratio\n",
      "0           1.4           5.1           0.274510\n",
      "1           1.4           4.9           0.285714\n",
      "2           1.3           4.7           0.276596\n",
      "3           1.5           4.6           0.326087\n",
      "4           1.4           5.0           0.280000\n",
      "species\n",
      "setosa        0.292756\n",
      "versicolor    0.717729\n",
      "virginica     0.843749\n",
      "Name: petal_sepal_ratio, dtype: float64\n"
     ]
    }
   ],
   "source": [
    "# Title: Feature Engineering for Classification\n",
    "# Description: Create a new feature that could help distinguish between species based on\n",
    "# logical assumptions and verify its utility.\n",
    "import pandas as pd\n",
    "import seaborn as sns\n",
    "\n",
    "iris = sns.load_dataset('iris')\n",
    "# Create a new feature based on logical assumption: ratio of petal length to sepal length\n",
    "iris['petal_sepal_ratio'] = iris['petal_length'] / iris['sepal_length']\n",
    "# Check the new feature\n",
    "print(iris[['petal_length', 'sepal_length', 'petal_sepal_ratio']].head())\n",
    "\n",
    "# Verify the utility of the new feature by checking correlation with species\n",
    "correlation_with_species = iris.groupby('species')['petal_sepal_ratio'].mean()\n",
    "print(correlation_with_species)\n"
   ]
  }
 ],
 "metadata": {
  "kernelspec": {
   "display_name": "Python 3",
   "language": "python",
   "name": "python3"
  },
  "language_info": {
   "codemirror_mode": {
    "name": "ipython",
    "version": 3
   },
   "file_extension": ".py",
   "mimetype": "text/x-python",
   "name": "python",
   "nbconvert_exporter": "python",
   "pygments_lexer": "ipython3",
   "version": "3.10.12"
  }
 },
 "nbformat": 4,
 "nbformat_minor": 2
}
