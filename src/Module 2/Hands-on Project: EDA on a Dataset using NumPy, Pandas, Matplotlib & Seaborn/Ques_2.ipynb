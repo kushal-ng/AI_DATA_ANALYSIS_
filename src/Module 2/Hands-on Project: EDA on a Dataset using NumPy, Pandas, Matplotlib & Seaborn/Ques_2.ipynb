{
 "cells": [
  {
   "cell_type": "code",
   "execution_count": null,
   "metadata": {},
   "outputs": [
    {
     "name": "stdout",
     "output_type": "stream",
     "text": [
      "67.1\n"
     ]
    }
   ],
   "source": [
    "# Title: Basic NumPy Operations\n",
    "# Description: Perform basic operations such as calculating the mean of the dataset.\n",
    "import numpy as np\n",
    "data = np.array([23, 45, 56, 78, 89, 90, 67, 88, 76, 59])\n",
    "mean = np.mean(data)\n",
    "print(mean)\n"
   ]
  }
 ],
 "metadata": {
  "kernelspec": {
   "display_name": "Python 3",
   "language": "python",
   "name": "python3"
  },
  "language_info": {
   "codemirror_mode": {
    "name": "ipython",
    "version": 3
   },
   "file_extension": ".py",
   "mimetype": "text/x-python",
   "name": "python",
   "nbconvert_exporter": "python",
   "pygments_lexer": "ipython3",
   "version": "3.10.12"
  }
 },
 "nbformat": 4,
 "nbformat_minor": 2
}
