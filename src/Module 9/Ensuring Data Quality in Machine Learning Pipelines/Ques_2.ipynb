{
 "cells": [
  {
   "cell_type": "markdown",
   "metadata": {},
   "source": [
    "### Bias & Fairness in Data: Distribution Check\n",
    "**Description**: Load the Adult Income dataset and check for representation bias by analyzing the distribution of gender across different income levels."
   ]
  },
  {
   "cell_type": "code",
   "execution_count": null,
   "metadata": {},
   "outputs": [],
   "source": [
    "# write your code from here\n",
    "import pandas as pd\n",
    "\n",
    "try:\n",
    "    url = 'https://archive.ics.uci.edu/ml/machine-learning-databases/adult/adult.data'\n",
    "    col_names = ['Age', 'Workclass', 'fnlwgt', 'Education', 'Education-Num', 'Marital Status',\n",
    "                 'Occupation', 'Relationship', 'Race', 'Sex', 'Capital Gain', 'Capital Loss',\n",
    "                 'Hours per week', 'Native Country', 'Income']\n",
    "    df = pd.read_csv(url, names=col_names, na_values=' ?', skipinitialspace=True)\n",
    "\n",
    "    gender_income_distribution = pd.crosstab(df['Sex'], df['Income'], normalize='index') * 100\n",
    "    print(gender_income_distribution)\n",
    "except Exception as e:\n",
    "    print(f\"Error: {e}\")\n"
   ]
  }
 ],
 "metadata": {
  "kernelspec": {
   "display_name": "base",
   "language": "python",
   "name": "python3"
  },
  "language_info": {
   "name": "python",
   "version": "3.12.7"
  }
 },
 "nbformat": 4,
 "nbformat_minor": 2
}
