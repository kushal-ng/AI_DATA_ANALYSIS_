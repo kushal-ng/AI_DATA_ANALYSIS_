{
 "cells": [
  {
   "cell_type": "markdown",
   "metadata": {},
   "source": [
    "### Ensuring Consistency Across Training & Inference Datasets: Feature Scaling\n",
    "**Question**: Load a dataset (e.g., Boston Housing) and perform feature scaling. Ensure the\n",
    "same scaling is applied during model inference with new data."
   ]
  },
  {
   "cell_type": "code",
   "execution_count": null,
   "metadata": {},
   "outputs": [],
   "source": [
    "# write your code from here\n",
    "from sklearn.datasets import load_boston\n",
    "from sklearn.preprocessing import StandardScaler\n",
    "import pandas as pd\n",
    "\n",
    "try:\n",
    "    boston = load_boston()\n",
    "    X = pd.DataFrame(boston.data, columns=boston.feature_names)\n",
    "\n",
    "    scaler = StandardScaler()\n",
    "    X_scaled = scaler.fit_transform(X)\n",
    "\n",
    "    X_scaled_df = pd.DataFrame(X_scaled, columns=X.columns)\n",
    "\n",
    "    new_data = pd.DataFrame([X.iloc[0]], columns=X.columns)\n",
    "    new_data_scaled = scaler.transform(new_data)\n",
    "    new_data_scaled_df = pd.DataFrame(new_data_scaled, columns=X.columns)\n",
    "\n",
    "    print(\"Scaled training data (first 5 rows):\")\n",
    "    print(X_scaled_df.head())\n",
    "\n",
    "    print(\"\\nScaled new inference data:\")\n",
    "    print(new_data_scaled_df)\n",
    "except Exception as e:\n",
    "    print(f\"Error: {e}\")\n"
   ]
  }
 ],
 "metadata": {
  "kernelspec": {
   "display_name": "base",
   "language": "python",
   "name": "python3"
  },
  "language_info": {
   "name": "python",
   "version": "3.12.7"
  }
 },
 "nbformat": 4,
 "nbformat_minor": 2
}
