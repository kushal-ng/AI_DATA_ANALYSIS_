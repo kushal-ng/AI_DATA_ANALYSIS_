{
 "cells": [
  {
   "cell_type": "markdown",
   "metadata": {},
   "source": [
    "### Garbage In, Garbage Out (GIGO): Cleaning Missing Data\n",
    "**Description**: Load a dataset (e.g., Titanic dataset) and identify missing values. Use\n",
    "appropriate techniques to handle these missing values."
   ]
  },
  {
   "cell_type": "code",
   "execution_count": null,
   "metadata": {},
   "outputs": [],
   "source": [
    "# Write your code from here\n",
    "\n",
    "#https://github.com/amruthareddy-zenV/AI_DATA_ANALYSIS_\n",
    "\n",
    "import pandas as pd\n",
    "\n",
    "try:\n",
    "    url = 'https://github.com/amruthareddy-zenV/AI_DATA_ANALYSIS_'\n",
    "    df = pd.read_csv(url)\n",
    "    missing_before = df.isnull().sum()\n",
    "    \n",
    "    df['Age'].fillna(df['Age'].median(), inplace=True)\n",
    "    df['Embarked'].fillna(df['Embarked'].mode()[0], inplace=True)\n",
    "    \n",
    "    missing_after = df.isnull().sum()\n",
    "    print(\"Missing values before cleaning:\\n\", missing_before)\n",
    "    print(\"\\nMissing values after cleaning:\\n\", missing_after)\n",
    "except Exception as e:\n",
    "    print(f\"Error: {e}\")\n"
   ]
  }
 ],
 "metadata": {
  "kernelspec": {
   "display_name": "base",
   "language": "python",
   "name": "python3"
  },
  "language_info": {
   "name": "python",
   "version": "3.12.7"
  }
 },
 "nbformat": 4,
 "nbformat_minor": 2
}
