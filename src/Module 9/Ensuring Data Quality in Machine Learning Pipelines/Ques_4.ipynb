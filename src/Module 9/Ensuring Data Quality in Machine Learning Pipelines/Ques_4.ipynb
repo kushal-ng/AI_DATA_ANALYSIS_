{
 "cells": [
  {
   "cell_type": "markdown",
   "metadata": {},
   "source": [
    "### Detecting & Handling Imbalanced Data: Visualizing Class Imbalance\n",
    "**Question**: Load the Credit Card Fraud Detection dataset and visualize the class imbalance. Then apply random undersampling to balance it."
   ]
  },
  {
   "cell_type": "code",
   "execution_count": null,
   "metadata": {},
   "outputs": [],
   "source": [
    "# write your code from here\n",
    "import pandas as pd\n",
    "import matplotlib.pyplot as plt\n",
    "from sklearn.utils import resample\n",
    "\n",
    "try:\n",
    "    df = pd.read_csv('creditcard.csv')\n",
    "\n",
    "    class_counts = df['Class'].value_counts()\n",
    "\n",
    "    plt.figure(figsize=(6,4))\n",
    "    class_counts.plot(kind='bar')\n",
    "    plt.title('Original Class Distribution')\n",
    "    plt.xlabel('Class')\n",
    "    plt.ylabel('Count')\n",
    "    plt.show()\n",
    "\n",
    "    df_majority = df[df.Class == 0]\n",
    "    df_minority = df[df.Class == 1]\n",
    "\n",
    "    df_majority_downsampled = resample(df_majority,\n",
    "                                       replace=False,\n",
    "                                       n_samples=len(df_minority),\n",
    "                                       random_state=42)\n",
    "\n",
    "    df_balanced = pd.concat([df_majority_downsampled, df_minority])\n",
    "\n",
    "    balanced_counts = df_balanced['Class'].value_counts()\n",
    "\n",
    "    plt.figure(figsize=(6,4))\n",
    "    balanced_counts.plot(kind='bar')\n",
    "    plt.title('Balanced Class Distribution After Random Undersampling')\n",
    "    plt.xlabel('Class')\n",
    "    plt.ylabel('Count')\n",
    "    plt.show()\n",
    "except Exception as e:\n",
    "    print(f\"Error: {e}\")\n"
   ]
  }
 ],
 "metadata": {
  "kernelspec": {
   "display_name": "base",
   "language": "python",
   "name": "python3"
  },
  "language_info": {
   "name": "python",
   "version": "3.12.7"
  }
 },
 "nbformat": 4,
 "nbformat_minor": 2
}
