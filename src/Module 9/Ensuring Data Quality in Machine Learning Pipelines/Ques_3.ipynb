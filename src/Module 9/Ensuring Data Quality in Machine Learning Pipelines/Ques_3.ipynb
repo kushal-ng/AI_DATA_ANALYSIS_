{
 "cells": [
  {
   "cell_type": "markdown",
   "metadata": {},
   "source": [
    "### Data Drift: Visualizing Concept Drift\n",
    "**Description**: Simulate concept drift by gradually changing the distribution of a binary target variable over simulated time periods. Plot these changes."
   ]
  },
  {
   "cell_type": "code",
   "execution_count": null,
   "metadata": {},
   "outputs": [],
   "source": [
    "# write your code from here\n",
    "import numpy as np\n",
    "import pandas as pd\n",
    "import matplotlib.pyplot as plt\n",
    "\n",
    "try:\n",
    "    np.random.seed(42)\n",
    "    periods = 10\n",
    "    size_per_period = 1000\n",
    "    drift_data = []\n",
    "\n",
    "    for t in range(periods):\n",
    "        prob = 0.1 + (0.8 * t / (periods - 1))  # Probability of target=1 drifts from 0.1 to 0.9\n",
    "        targets = np.random.binomial(1, prob, size_per_period)\n",
    "        drift_data.append(pd.DataFrame({'Period': t + 1, 'Target': targets}))\n",
    "\n",
    "    df = pd.concat(drift_data)\n",
    "\n",
    "    drift_summary = df.groupby('Period')['Target'].mean()\n",
    "\n",
    "    plt.figure(figsize=(8, 5))\n",
    "    plt.plot(drift_summary.index, drift_summary.values, marker='o')\n",
    "    plt.title('Simulated Concept Drift in Target Distribution Over Time')\n",
    "    plt.xlabel('Time Period')\n",
    "    plt.ylabel('Proportion of Target = 1')\n",
    "    plt.ylim(0, 1)\n",
    "    plt.grid(True)\n",
    "    plt.show()\n",
    "except Exception as e:\n",
    "    print(f\"Error: {e}\")\n"
   ]
  }
 ],
 "metadata": {
  "kernelspec": {
   "display_name": "base",
   "language": "python",
   "name": "python3"
  },
  "language_info": {
   "name": "python",
   "version": "3.12.7"
  }
 },
 "nbformat": 4,
 "nbformat_minor": 2
}
