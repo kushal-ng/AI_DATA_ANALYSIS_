{
 "cells": [
  {
   "cell_type": "markdown",
   "metadata": {},
   "source": [
    "### Data Drift: Detection Using Statistical Tests\n",
    "**Question**: Simulate two datasets with a shift in distribution, and apply the Kolmogorov-\n",
    "Smirnov test to determine if data drift has occurred."
   ]
  },
  {
   "cell_type": "code",
   "execution_count": null,
   "metadata": {},
   "outputs": [],
   "source": [
    "# write your code from here\n",
    "import numpy as np\n",
    "from scipy.stats import ks_2samp\n",
    "\n",
    "try:\n",
    "    np.random.seed(42)\n",
    "    data_ref = np.random.normal(loc=0, scale=1, size=1000)\n",
    "    data_current = np.random.normal(loc=0.5, scale=1, size=1000)\n",
    "\n",
    "    statistic, p_value = ks_2samp(data_ref, data_current)\n",
    "\n",
    "    print(\"K-S Statistic:\", statistic)\n",
    "    print(\"P-Value:\", p_value)\n",
    "\n",
    "    if p_value < 0.05:\n",
    "        print(\"Data drift detected.\")\n",
    "    else:\n",
    "        print(\"No significant data drift detected.\")\n",
    "except Exception as e:\n",
    "    print(f\"Error: {e}\")\n"
   ]
  }
 ],
 "metadata": {
  "kernelspec": {
   "display_name": "base",
   "language": "python",
   "name": "python3"
  },
  "language_info": {
   "name": "python",
   "version": "3.12.7"
  }
 },
 "nbformat": 4,
 "nbformat_minor": 2
}
