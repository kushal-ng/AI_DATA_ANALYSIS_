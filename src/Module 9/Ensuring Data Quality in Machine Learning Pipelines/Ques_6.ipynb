{
 "cells": [
  {
   "cell_type": "markdown",
   "metadata": {},
   "source": [
    "### Bias & Fairness in Data: Bias Mitigation Techniques\n",
    "**Question**: Use the Adult Income dataset and apply reweighing technique to balance the\n",
    "class weights based on sensitive attributes (e.g., gender)."
   ]
  },
  {
   "cell_type": "code",
   "execution_count": null,
   "metadata": {},
   "outputs": [],
   "source": [
    "# write your code from here\n",
    "from sklearn.preprocessing import LabelEncoder\n",
    "from sklearn.utils import compute_sample_weight\n",
    "import pandas as pd\n",
    "from aif360.datasets import AdultDataset\n",
    "from aif360.algorithms.preprocessing import Reweighing\n",
    "from aif360.metrics import BinaryLabelDatasetMetric\n",
    "\n",
    "try:\n",
    "    dataset = AdultDataset()\n",
    "    privileged_groups = [{'sex': 1}]\n",
    "    unprivileged_groups = [{'sex': 0}]\n",
    "\n",
    "    metric = BinaryLabelDatasetMetric(dataset, \n",
    "                                      privileged_groups=privileged_groups, \n",
    "                                      unprivileged_groups=unprivileged_groups)\n",
    "\n",
    "    print(\"Difference in mean outcomes before reweighing:\")\n",
    "    print(metric.mean_difference())\n",
    "\n",
    "    rw = Reweighing(unprivileged_groups=unprivileged_groups,\n",
    "                    privileged_groups=privileged_groups)\n",
    "    dataset_transf = rw.fit_transform(dataset)\n",
    "\n",
    "    metric_transf = BinaryLabelDatasetMetric(dataset_transf, \n",
    "                                             privileged_groups=privileged_groups, \n",
    "                                             unprivileged_groups=unprivileged_groups)\n",
    "\n",
    "    print(\"Difference in mean outcomes after reweighing:\")\n",
    "    print(metric_transf.mean_difference())\n",
    "except Exception as e:\n",
    "    print(f\"Error: {e}\")\n"
   ]
  }
 ],
 "metadata": {
  "kernelspec": {
   "display_name": "base",
   "language": "python",
   "name": "python3"
  },
  "language_info": {
   "name": "python",
   "version": "3.12.7"
  }
 },
 "nbformat": 4,
 "nbformat_minor": 2
}
