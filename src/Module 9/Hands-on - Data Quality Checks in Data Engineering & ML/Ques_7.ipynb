{
 "cells": [
  {
   "cell_type": "markdown",
   "metadata": {},
   "source": [
    "### Detect Data Drift in ML Models\n",
    "**Objective**: Monitor and detect changes in data distributions that impact ML model performance.\n",
    "\n",
    "**Task**: Feature Correlation Drift\n",
    "\n",
    "**Steps**:\n",
    "1. Compute the correlation matrix of features in your training dataset.\n",
    "2. Compute the correlation matrix of the same features in your production data.\n",
    "3. Assess changes in the correlation matrix over time to identify any significant deviations.\n",
    "4. Investigate any significant changes in correlation as they may indicate issues in the data collection process or model assumptions."
   ]
  },
  {
   "cell_type": "code",
   "execution_count": null,
   "metadata": {},
   "outputs": [],
   "source": [
    "# write your code from here\n",
    "import pandas as pd\n",
    "import numpy as np\n",
    "\n",
    "try:\n",
    "    # Sample training dataset\n",
    "    train_data = pd.DataFrame({\n",
    "        'feature1': np.random.normal(0, 1, 100),\n",
    "        'feature2': np.random.normal(5, 2, 100),\n",
    "        'feature3': np.random.normal(-2, 1, 100)\n",
    "    })\n",
    "\n",
    "    # Sample production dataset with some drift in feature correlations\n",
    "    prod_data = pd.DataFrame({\n",
    "        'feature1': np.random.normal(0, 1, 100),\n",
    "        'feature2': np.random.normal(5, 2, 100),\n",
    "        'feature3': np.random.normal(-2, 1, 100) + prod_data['feature1'] * 0.5 if 'prod_data' in locals() else np.random.normal(-2, 1, 100)\n",
    "    })\n",
    "\n",
    "    # Compute correlation matrices\n",
    "    corr_train = train_data.corr()\n",
    "    corr_prod = prod_data.corr()\n",
    "\n",
    "    # Calculate absolute difference between correlation matrices\n",
    "    corr_diff = (corr_train - corr_prod).abs()\n",
    "\n",
    "    # Threshold for significant correlation drift (e.g., 0.3)\n",
    "    threshold = 0.3\n",
    "    drifted_pairs = []\n",
    "\n",
    "    for col1 in corr_diff.columns:\n",
    "        for col2 in corr_diff.index:\n",
    "            if col1 != col2 and corr_diff.loc[col2, col1] > threshold:\n",
    "                drifted_pairs.append((col1, col2, corr_train.loc[col2, col1], corr_prod.loc[col2, col1], corr_diff.loc[col2, col1]))\n",
    "\n",
    "    if drifted_pairs:\n",
    "        print(\"Significant correlation drift detected in feature pairs:\")\n",
    "        for pair in drifted_pairs:\n",
    "            print(f\"Features: {pair[0]} & {pair[1]}, Train Corr: {pair[2]:.3f}, Prod Corr: {pair[3]:.3f}, Diff: {pair[4]:.3f}\")\n",
    "    else:\n",
    "        print(\"No significant correlation drift detected.\")\n",
    "\n",
    "except Exception as e:\n",
    "    print(f\"Error: {e}\")\n"
   ]
  }
 ],
 "metadata": {
  "kernelspec": {
   "display_name": "base",
   "language": "python",
   "name": "python3"
  },
  "language_info": {
   "name": "python",
   "version": "3.12.7"
  }
 },
 "nbformat": 4,
 "nbformat_minor": 2
}
