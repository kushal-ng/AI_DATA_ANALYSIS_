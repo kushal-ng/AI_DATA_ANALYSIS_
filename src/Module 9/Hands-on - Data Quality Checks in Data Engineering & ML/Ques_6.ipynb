{
 "cells": [
  {
   "cell_type": "markdown",
   "metadata": {},
   "source": [
    "### Detect Data Drift in ML Models\n",
    "**Objective**: Monitor and detect changes in data distributions that impact ML model performance.\n",
    "\n",
    "**Task**: Categorical Feature Drift\n",
    "\n",
    "**Steps**:\n",
    "1. Load the baseline distribution for a categorical feature (e.g., gender ) from your training dataset.\n",
    "2. Load the same feature from your current production data.\n",
    "3. Use chi-squared tests to compare the distributions of the categorical feature.\n",
    "4. Step 4: If significant drift is detected, investigate the cause and update the model as needed."
   ]
  },
  {
   "cell_type": "code",
   "execution_count": null,
   "metadata": {},
   "outputs": [],
   "source": [
    "# write your code from here\n",
    "import pandas as pd\n",
    "from scipy.stats import chi2_contingency\n",
    "\n",
    "try:\n",
    "    # Baseline training data categorical feature distribution\n",
    "    train_data = pd.DataFrame({'gender': ['Male', 'Female', 'Female', 'Male', 'Male', 'Female']})\n",
    "\n",
    "    # Production data categorical feature distribution\n",
    "    prod_data = pd.DataFrame({'gender': ['Male', 'Female', 'Female', 'Female', 'Male', 'Female', 'Female']})\n",
    "\n",
    "    # Calculate frequency counts\n",
    "    train_counts = train_data['gender'].value_counts().sort_index()\n",
    "    prod_counts = prod_data['gender'].value_counts().sort_index()\n",
    "\n",
    "    # Combine counts into contingency table\n",
    "    contingency_table = pd.DataFrame({\n",
    "        'train': train_counts,\n",
    "        'prod': prod_counts\n",
    "    }).fillna(0)\n",
    "\n",
    "    chi2, p_value, _, _ = chi2_contingency(contingency_table.T)\n",
    "\n",
    "    print(f\"Chi-squared test p-value: {p_value:.4f}\")\n",
    "    if p_value < 0.05:\n",
    "        print(\"Significant data drift detected in categorical feature 'gender'. Investigate and update the model.\")\n",
    "    else:\n",
    "        print(\"No significant drift detected in categorical feature 'gender'.\")\n",
    "\n",
    "except Exception as e:\n",
    "    print(f\"Error: {e}\")\n"
   ]
  }
 ],
 "metadata": {
  "kernelspec": {
   "display_name": "base",
   "language": "python",
   "name": "python3"
  },
  "language_info": {
   "name": "python",
   "version": "3.12.7"
  }
 },
 "nbformat": 4,
 "nbformat_minor": 2
}
