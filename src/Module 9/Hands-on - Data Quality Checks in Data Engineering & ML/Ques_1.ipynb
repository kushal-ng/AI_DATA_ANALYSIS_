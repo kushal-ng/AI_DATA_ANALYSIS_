{
 "cells": [
  {
   "cell_type": "markdown",
   "metadata": {},
   "source": [
    "### Detect Data Drift using Kolmogorov-Smirnov Test\n",
    "**Description**: Use statistical tests to detect data drift between two datasets."
   ]
  },
  {
   "cell_type": "code",
   "execution_count": null,
   "metadata": {},
   "outputs": [],
   "source": [
    "# write your code from here\n",
    "from scipy.stats import ks_2samp\n",
    "import numpy as np\n",
    "import pandas as pd\n",
    "\n",
    "try:\n",
    "    np.random.seed(0)\n",
    "    data1 = np.random.normal(loc=0, scale=1, size=1000)\n",
    "    data2 = np.random.normal(loc=0.5, scale=1.2, size=1000)\n",
    "\n",
    "    df1 = pd.DataFrame({'feature': data1})\n",
    "    df2 = pd.DataFrame({'feature': data2})\n",
    "\n",
    "    ks_stat, p_value = ks_2samp(df1['feature'], df2['feature'])\n",
    "\n",
    "    print(f\"KS Statistic: {ks_stat}\")\n",
    "    print(f\"P-value: {p_value}\")\n",
    "    if p_value < 0.05:\n",
    "        print(\"Data drift detected.\")\n",
    "    else:\n",
    "        print(\"No data drift detected.\")\n",
    "except Exception as e:\n",
    "    print(f\"Error: {e}\")\n"
   ]
  }
 ],
 "metadata": {
  "kernelspec": {
   "display_name": "base",
   "language": "python",
   "name": "python3"
  },
  "language_info": {
   "name": "python",
   "version": "3.12.7"
  }
 },
 "nbformat": 4,
 "nbformat_minor": 2
}
