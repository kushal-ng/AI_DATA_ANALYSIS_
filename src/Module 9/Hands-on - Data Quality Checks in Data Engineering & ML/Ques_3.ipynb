{
 "cells": [
  {
   "cell_type": "markdown",
   "metadata": {},
   "source": [
    "### Using SHAP for Feature Drift Analysis\n",
    "**Description**: Utilize SHapley Additive exPlanations (SHAP) values to analyze feature\n",
    "importance changes over time, indicating feature drift."
   ]
  },
  {
   "cell_type": "code",
   "execution_count": null,
   "metadata": {},
   "outputs": [],
   "source": [
    "# write your code from here\n",
    "import shap\n",
    "import numpy as np\n",
    "import pandas as pd\n",
    "from sklearn.ensemble import RandomForestClassifier\n",
    "from sklearn.model_selection import train_test_split\n",
    "import matplotlib.pyplot as plt\n",
    "\n",
    "try:\n",
    "    np.random.seed(42)\n",
    "    n = 1000\n",
    "    X = pd.DataFrame({\n",
    "        'feature1': np.concatenate([np.random.normal(0, 1, n//2), np.random.normal(0.5, 1, n//2)]),\n",
    "        'feature2': np.concatenate([np.random.normal(5, 2, n//2), np.random.normal(6, 2, n//2)]),\n",
    "        'time_period': np.concatenate([np.array(['T1']*(n//2)), np.array(['T2']*(n//2))])\n",
    "    })\n",
    "    y = np.random.randint(0, 2, n)\n",
    "    X_train, X_test, y_train, y_test = train_test_split(X.drop('time_period', axis=1), y, test_size=0.3, random_state=42)\n",
    "    model = RandomForestClassifier(n_estimators=100, random_state=42)\n",
    "    model.fit(X_train, y_train)\n",
    "    explainer = shap.TreeExplainer(model)\n",
    "    shap_values = explainer.shap_values(X_test)\n",
    "    X_test_reset = X.loc[X_test.index].copy()\n",
    "    shap_vals_class1 = np.array(shap_values[1])\n",
    "    shap_df = pd.DataFrame(shap_vals_class1, columns=X_test_reset.drop('time_period', axis=1).columns)\n",
    "    shap_df['time_period'] = X_test_reset['time_period'].values\n",
    "    t1_mean = shap_df[shap_df['time_period'] == 'T1'].mean(numeric_only=True)\n",
    "    t2_mean = shap_df[shap_df['time_period'] == 'T2'].mean(numeric_only=True)\n",
    "    diff = t2_mean - t1_mean\n",
    "    print(\"Mean SHAP values for T1:\", t1_mean.to_dict())\n",
    "    print(\"Mean SHAP values for T2:\", t2_mean.to_dict())\n",
    "    print(\"Difference in SHAP values:\", diff.to_dict())\n",
    "    diff.plot.bar(figsize=(8,6))\n",
    "    plt.title(\"Difference in Mean SHAP Values Between Time Periods\")\n",
    "    plt.ylabel(\"SHAP Value Difference\")\n",
    "    plt.xlabel(\"Feature\")\n",
    "    plt.tight_layout()\n",
    "    plt.show()\n",
    "except Exception as e:\n",
    "    print(f\"Error: {e}\")\n"
   ]
  }
 ],
 "metadata": {
  "kernelspec": {
   "display_name": "base",
   "language": "python",
   "name": "python3"
  },
  "language_info": {
   "name": "python",
   "version": "3.12.7"
  }
 },
 "nbformat": 4,
 "nbformat_minor": 2
}
