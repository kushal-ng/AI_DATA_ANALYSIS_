{
 "cells": [
  {
   "cell_type": "markdown",
   "metadata": {},
   "source": [
    "## Detect Schema Mismatches in Data Pipelines\n",
    "**Objective**: Identify and resolve schema mismatches that commonly occur in data pipelines.\n",
    "\n",
    "**Task**: Missing Column\n",
    "\n",
    "1. Load the source DataFrame with the below schema:\n",
    "    - id : Integer\n",
    "    - email : String\n",
    "    - signup_date : Date\n",
    "2. Load the target DataFrame with the below schema:\n",
    "    - id : Integer\n",
    "    - email : String\n",
    "3. Implement a check to identify any columns that are present in the source DataFrame but missing in the target.\n",
    "4. Add the missing `signup_date` column to the target DataFrame."
   ]
  },
  {
   "cell_type": "code",
   "execution_count": null,
   "metadata": {},
   "outputs": [],
   "source": [
    "# write your code from here\n",
    "import pandas as pd\n",
    "\n",
    "try:\n",
    "    source_df = pd.DataFrame({\n",
    "        'id': [1, 2],\n",
    "        'email': ['a@example.com', 'b@example.com'],\n",
    "        'signup_date': pd.to_datetime(['2023-01-01', '2023-01-02'])\n",
    "    })\n",
    "\n",
    "    target_df = pd.DataFrame({\n",
    "        'id': [3, 4],\n",
    "        'email': ['c@example.com', 'd@example.com']\n",
    "    })\n",
    "\n",
    "    missing_cols = set(source_df.columns) - set(target_df.columns)\n",
    "\n",
    "    for col in missing_cols:\n",
    "        target_df[col] = pd.NaT if source_df[col].dtype == 'datetime64[ns]' else None\n",
    "\n",
    "    print(\"Updated target DataFrame:\")\n",
    "    print(target_df)\n",
    "except Exception as e:\n",
    "    print(f\"Error: {e}\")\n"
   ]
  }
 ],
 "metadata": {
  "kernelspec": {
   "display_name": "base",
   "language": "python",
   "name": "python3"
  },
  "language_info": {
   "name": "python",
   "version": "3.12.7"
  }
 },
 "nbformat": 4,
 "nbformat_minor": 2
}
