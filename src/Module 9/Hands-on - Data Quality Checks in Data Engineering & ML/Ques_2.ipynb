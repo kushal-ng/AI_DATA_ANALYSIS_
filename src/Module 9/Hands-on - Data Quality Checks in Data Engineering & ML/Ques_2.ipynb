{
 "cells": [
  {
   "cell_type": "markdown",
   "metadata": {},
   "source": [
    "### Implementing Adversarial Validation for Data Drift\n",
    "Description: Create and train a classifier that distinguishes between train and test datasets, using the classifier’s performance to infer data drift."
   ]
  },
  {
   "cell_type": "code",
   "execution_count": null,
   "metadata": {},
   "outputs": [],
   "source": [
    "# write your code from here\n",
    "from sklearn.ensemble import RandomForestClassifier\n",
    "from sklearn.model_selection import train_test_split\n",
    "from sklearn.metrics import roc_auc_score\n",
    "import numpy as np\n",
    "import pandas as pd\n",
    "\n",
    "try:\n",
    "    np.random.seed(0)\n",
    "    train_data = pd.DataFrame({\n",
    "        'feature1': np.random.normal(0, 1, 1000),\n",
    "        'feature2': np.random.normal(5, 2, 1000)\n",
    "    })\n",
    "\n",
    "    test_data = pd.DataFrame({\n",
    "        'feature1': np.random.normal(0.5, 1, 1000),\n",
    "        'feature2': np.random.normal(6, 2, 1000)\n",
    "    })\n",
    "\n",
    "    train_data['is_test'] = 0\n",
    "    test_data['is_test'] = 1\n",
    "    combined = pd.concat([train_data, test_data], ignore_index=True)\n",
    "\n",
    "    X = combined.drop('is_test', axis=1)\n",
    "    y = combined['is_test']\n",
    "\n",
    "    X_train, X_val, y_train, y_val = train_test_split(X, y, test_size=0.3, random_state=42)\n",
    "\n",
    "    clf = RandomForestClassifier(n_estimators=100, random_state=42)\n",
    "    clf.fit(X_train, y_train)\n",
    "    y_pred = clf.predict_proba(X_val)[:, 1]\n",
    "    auc = roc_auc_score(y_val, y_pred)\n",
    "\n",
    "    print(f\"AUC Score: {auc}\")\n",
    "    if auc > 0.7:\n",
    "        print(\"Adversarial validation indicates potential data drift.\")\n",
    "    else:\n",
    "        print(\"No significant data drift detected.\")\n",
    "except Exception as e:\n",
    "    print(f\"Error: {e}\")\n"
   ]
  }
 ],
 "metadata": {
  "kernelspec": {
   "display_name": "base",
   "language": "python",
   "name": "python3"
  },
  "language_info": {
   "name": "python",
   "version": "3.12.7"
  }
 },
 "nbformat": 4,
 "nbformat_minor": 2
}
