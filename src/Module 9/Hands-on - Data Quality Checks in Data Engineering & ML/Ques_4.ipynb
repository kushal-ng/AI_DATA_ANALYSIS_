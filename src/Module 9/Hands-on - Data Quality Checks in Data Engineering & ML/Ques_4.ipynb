{
 "cells": [
  {
   "cell_type": "markdown",
   "metadata": {},
   "source": [
    "## Detect Schema Mismatches in Data Pipelines\n",
    "**Objective**: Identify and resolve schema mismatches that commonly occur in data pipelines.\n",
    "\n",
    "**Task**: Column Name Mismatch\n",
    "\n",
    "**Steps**:\n",
    "1. Load the source DataFrame with the below schema:\n",
    "    - id : Integer\n",
    "    - name : String\n",
    "    - age : Integer\n",
    "2. Load the target DataFrame with the below schema:\n",
    "    - id : Integer\n",
    "    - fullname : String\n",
    "    - age : Integer\n",
    "3. Use a schema comparison tool or write a simple function to detect mismatches in column names.\n",
    "4. Resolve the mismatch by renaming the `fullname` column in the target DataFrame to `name` ."
   ]
  },
  {
   "cell_type": "code",
   "execution_count": null,
   "metadata": {},
   "outputs": [],
   "source": [
    "# write your code from here\n",
    "import pandas as pd\n",
    "\n",
    "try:\n",
    "    source_df = pd.DataFrame({\n",
    "        'id': [1, 2],\n",
    "        'name': ['Alice', 'Bob'],\n",
    "        'age': [30, 25]\n",
    "    })\n",
    "\n",
    "    target_df = pd.DataFrame({\n",
    "        'id': [3, 4],\n",
    "        'fullname': ['Charlie', 'David'],\n",
    "        'age': [40, 35]\n",
    "    })\n",
    "\n",
    "    source_columns = set(source_df.columns)\n",
    "    target_columns = set(target_df.columns)\n",
    "    mismatches = source_columns.symmetric_difference(target_columns)\n",
    "\n",
    "    if mismatches:\n",
    "        print(\"Column name mismatches detected:\", mismatches)\n",
    "        if 'fullname' in target_df.columns and 'name' in source_df.columns:\n",
    "            target_df.rename(columns={'fullname': 'name'}, inplace=True)\n",
    "            print(\"Mismatch resolved. Updated target DataFrame columns:\", target_df.columns.tolist())\n",
    "    else:\n",
    "        print(\"No mismatches found.\")\n",
    "except Exception as e:\n",
    "    print(f\"Error: {e}\")\n"
   ]
  }
 ],
 "metadata": {
  "kernelspec": {
   "display_name": "base",
   "language": "python",
   "name": "python3"
  },
  "language_info": {
   "name": "python",
   "version": "3.12.7"
  }
 },
 "nbformat": 4,
 "nbformat_minor": 2
}
