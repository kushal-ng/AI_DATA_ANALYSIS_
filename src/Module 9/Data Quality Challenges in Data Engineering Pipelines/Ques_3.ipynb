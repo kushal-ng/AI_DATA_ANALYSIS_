{
 "cells": [
  {
   "cell_type": "markdown",
   "metadata": {},
   "source": [
    "### Metadata Management for Data Quality\n",
    "**Description**: Store and use metadata to manage data quality in a pipeline.\n",
    "\n",
    "**Steps**:\n",
    "1. Load metadata\n",
    "2. Load data\n",
    "3. Use metadata to validate data quality\n",
    "4. Show valid data\n"
   ]
  },
  {
   "cell_type": "code",
   "execution_count": null,
   "metadata": {},
   "outputs": [],
   "source": [
    "# write your code from here\n",
    "import pandas as pd\n",
    "import json\n",
    "\n",
    "# Load metadata from JSON\n",
    "with open('metadata.json', 'r') as f:\n",
    "    metadata = json.load(f)\n",
    "\n",
    "# Load dataset\n",
    "df = pd.read_csv('data.csv')\n",
    "\n",
    "# Validate using metadata\n",
    "valid_data = df.copy()\n",
    "for column, rules in metadata.items():\n",
    "    if rules.get(\"type\") == \"int\":\n",
    "        valid_data = valid_data[pd.to_numeric(valid_data[column], errors='coerce').notnull()]\n",
    "    if \"min\" in rules:\n",
    "        valid_data = valid_data[valid_data[column] >= rules[\"min\"]]\n",
    "    if \"max\" in rules:\n",
    "        valid_data = valid_data[valid_data[column] <= rules[\"max\"]]\n",
    "    if \"allowed_values\" in rules:\n",
    "        valid_data = valid_data[valid_data[column].isin(rules[\"allowed_values\"])]\n",
    "\n",
    "print(\"Valid data based on metadata:\\n\", valid_data.head())\n"
   ]
  }
 ],
 "metadata": {
  "kernelspec": {
   "display_name": "Python 3",
   "language": "python",
   "name": "python3"
  },
  "language_info": {
   "codemirror_mode": {
    "name": "ipython",
    "version": 3
   },
   "file_extension": ".py",
   "mimetype": "text/x-python",
   "name": "python",
   "nbconvert_exporter": "python",
   "pygments_lexer": "ipython3",
   "version": "3.10.12"
  }
 },
 "nbformat": 4,
 "nbformat_minor": 2
}
