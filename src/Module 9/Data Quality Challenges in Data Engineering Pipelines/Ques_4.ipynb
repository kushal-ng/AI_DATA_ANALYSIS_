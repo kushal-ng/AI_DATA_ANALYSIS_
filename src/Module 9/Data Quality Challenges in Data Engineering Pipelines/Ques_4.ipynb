{
 "cells": [
  {
   "cell_type": "markdown",
   "metadata": {},
   "source": [
    "### Complex Schema Validation with Avro\n",
    "**Description**: Implement a solution in Python to validate records against a complex nested Avro schema.\n",
    "\n",
    "Eg., Complex schema ( nested_schema.avsc ):\n",
    "\n",
    "**Steps**:\n",
    "1. Load schema\n",
    "2. Example data to validate\n",
    "3. Validate against schema\n",
    "4. Read back to check"
   ]
  },
  {
   "cell_type": "code",
   "execution_count": null,
   "metadata": {},
   "outputs": [],
   "source": [
    "# write your code from here\n",
    "import fastavro\n",
    "from fastavro.validation import validate\n",
    "import json\n",
    "from io import BytesIO\n",
    "\n",
    "# Step 1: Load Avro schema\n",
    "try:\n",
    "    with open('nested_schema.avsc', 'r') as f:\n",
    "        schema = json.load(f)\n",
    "except FileNotFoundError:\n",
    "    print(\"Schema file not found.\")\n",
    "    exit()\n",
    "\n",
    "# Step 2: Example data to validate\n",
    "record = {\n",
    "    \"user\": {\n",
    "        \"id\": 1,\n",
    "        \"name\": \"Alice\"\n",
    "    },\n",
    "    \"action\": \"login\",\n",
    "    \"timestamp\": 1684000000\n",
    "}\n",
    "\n",
    "# Step 3: Validate against schema\n",
    "try:\n",
    "    is_valid = validate(record, schema)\n",
    "    print(\"Validation passed:\", is_valid)\n",
    "except Exception as e:\n",
    "    print(\"Validation failed with error:\", e)\n",
    "    is_valid = False\n",
    "\n",
    "# Step 4: Serialize and read back if valid\n",
    "if is_valid:\n",
    "    try:\n",
    "        buf = BytesIO()\n",
    "        fastavro.writer(buf, schema, [record])\n",
    "        buf.seek(0)\n",
    "        for rec in fastavro.reader(buf):\n",
    "            print(\"Read back record:\", rec)\n",
    "    except Exception as e:\n",
    "        print(\"Error during write/read back:\", e)\n"
   ]
  }
 ],
 "metadata": {
  "kernelspec": {
   "display_name": "base",
   "language": "python",
   "name": "python3"
  },
  "language_info": {
   "name": "python",
   "version": "3.12.7"
  }
 },
 "nbformat": 4,
 "nbformat_minor": 2
}
