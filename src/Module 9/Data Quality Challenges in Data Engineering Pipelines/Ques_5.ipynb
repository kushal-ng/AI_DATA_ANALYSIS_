{
 "cells": [
  {
   "cell_type": "markdown",
   "metadata": {},
   "source": [
    "### Implementing Data Validation using Protobuf in a Distributed System\n",
    "**Description**: Use gRPC to implement a distributed system that validates messages using\n",
    "Protobuf.\n",
    "\n",
    "**Steps**:\n",
    "1. Create a .proto file for gRPC service.\n",
    "2. Implement server-side validation\n",
    "    - Create a gRPC server\n",
    "    - Bind the server to an address\n",
    "    - Start server"
   ]
  },
  {
   "cell_type": "code",
   "execution_count": null,
   "metadata": {},
   "outputs": [],
   "source": [
    "# Write your code from here\n",
    "# Step 1: .proto file (save as validate.proto)\n",
    "\n",
    "\"\"\"\n",
    "syntax = \"proto3\";\n",
    "\n",
    "package validation;\n",
    "\n",
    "service Validator {\n",
    "  rpc ValidateData (DataMessage) returns (ValidationResult) {}\n",
    "}\n",
    "\n",
    "message DataMessage {\n",
    "  string name = 1;\n",
    "  int32 age = 2;\n",
    "}\n",
    "\n",
    "message ValidationResult {\n",
    "  bool is_valid = 1;\n",
    "  string message = 2;\n",
    "}\n",
    "\"\"\"\n",
    "\n",
    "# Step 2: Generate Python code from proto file\n",
    "# Run in terminal (requires grpcio-tools): \n",
    "# python -m grpc_tools.protoc -I. --python_out=. --grpc_python_out=. validate.proto\n",
    "\n",
    "# Step 3: Implement gRPC server\n",
    "\n",
    "import grpc\n",
    "from concurrent import futures\n",
    "import time\n",
    "import validate_pb2\n",
    "import validate_pb2_grpc\n",
    "\n",
    "class ValidatorServicer(validate_pb2_grpc.ValidatorServicer):\n",
    "    def ValidateData(self, request, context):\n",
    "        if not request.name:\n",
    "            return validate_pb2.ValidationResult(is_valid=False, message=\"Name cannot be empty\")\n",
    "        if request.age < 0 or request.age > 120:\n",
    "            return validate_pb2.ValidationResult(is_valid=False, message=\"Age is not valid\")\n",
    "        return validate_pb2.ValidationResult(is_valid=True, message=\"Validation successful\")\n",
    "\n",
    "def serve():\n",
    "    server = grpc.server(futures.ThreadPoolExecutor(max_workers=10))\n",
    "    validate_pb2_grpc.add_ValidatorServicer_to_server(ValidatorServicer(), server)\n",
    "    server.add_insecure_port('[::]:50051')\n",
    "    print(\"Server started on port 50051...\")\n",
    "    server.start()\n",
    "    try:\n",
    "        while True:\n",
    "            time.sleep(86400)\n",
    "    except KeyboardInterrupt:\n",
    "        server.stop(0)\n",
    "\n",
    "if __name__ == '__main__':\n",
    "    serve()\n"
   ]
  }
 ],
 "metadata": {
  "kernelspec": {
   "display_name": "base",
   "language": "python",
   "name": "python3"
  },
  "language_info": {
   "name": "python",
   "version": "3.12.7"
  }
 },
 "nbformat": 4,
 "nbformat_minor": 2
}
