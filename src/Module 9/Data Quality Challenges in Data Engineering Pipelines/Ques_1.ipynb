{
 "cells": [
  {
   "cell_type": "markdown",
   "metadata": {},
   "source": [
    "### Task 1: Detecting Missing Values during Data Ingestion\n",
    "**Description**: You have a CSV file with missing values in some columns. Write a Python script to detect and report missing values during the ingestion process.\n",
    "\n",
    "**Steps**:\n",
    "1. Load data\n",
    "2. Check for missing values\n",
    "3. Report missing values"
   ]
  },
  {
   "cell_type": "code",
   "execution_count": null,
   "metadata": {},
   "outputs": [],
   "source": [
    "# Write your code from here\n",
    "import pandas as pd\n",
    "\n",
    "def detect_missing_values(csv_path):\n",
    "    try:\n",
    "        df = pd.read_csv(csv_path)\n",
    "        missing_summary = df.isnull().sum()\n",
    "        total_missing = missing_summary.sum()\n",
    "\n",
    "        if total_missing == 0:\n",
    "            print(\"No missing values found in the dataset.\")\n",
    "        else:\n",
    "            print(\"Missing Values Detected:\")\n",
    "            print(missing_summary[missing_summary > 0])\n",
    "    except Exception as e:\n",
    "        print(f\"Error reading CSV: {e}\")\n",
    "\n",
    "# Example usage\n",
    "csv_file = \"data.csv\"  # Replace with your actual file path\n",
    "detect_missing_values(csv_file)\n"
   ]
  },
  {
   "cell_type": "markdown",
   "metadata": {},
   "source": [
    "### Task 2: Validate Data Types during Extraction\n",
    "**Description**: You have a JSON file that should have specific data types for each field. Write a script to validate if the data types match the expected schema.\n",
    "\n",
    "**Steps**:\n",
    "1. Define expected schema\n",
    "2. Validate data types"
   ]
  },
  {
   "cell_type": "code",
   "execution_count": null,
   "metadata": {},
   "outputs": [],
   "source": [
    "# Write your code from here\n",
    "import json\n",
    "\n",
    "def validate_data_types(json_path, expected_schema):\n",
    "    try:\n",
    "        with open(json_path, 'r') as file:\n",
    "            data = json.load(file)\n",
    "\n",
    "        for record in data:\n",
    "            for field, expected_type in expected_schema.items():\n",
    "                if field not in record:\n",
    "                    print(f\"Missing field '{field}' in record: {record}\")\n",
    "                elif not isinstance(record[field], expected_type):\n",
    "                    print(f\"Invalid type for field '{field}' in record: {record}\")\n",
    "    except Exception as e:\n",
    "        print(f\"Error processing JSON file: {e}\")\n",
    "\n",
    "# Example usage\n",
    "schema = {\n",
    "    \"id\": int,\n",
    "    \"name\": str,\n",
    "    \"age\": int,\n",
    "    \"email\": str\n",
    "}\n",
    "\n",
    "json_file = \"data.json\"  # Replace with your actual file path\n",
    "validate_data_types(json_file, schema)\n"
   ]
  },
  {
   "cell_type": "markdown",
   "metadata": {},
   "source": [
    "### Task 3: Remove Duplicate Records in Data\n",
    "**Description**: You have a dataset with duplicate entries. Write a Python script to find and remove duplicate records using Pandas.\n",
    "\n",
    "**Steps**:\n",
    "1. Find duplicate records\n",
    "2. Remove duplicates\n",
    "3. Report results"
   ]
  },
  {
   "cell_type": "code",
   "execution_count": null,
   "metadata": {},
   "outputs": [],
   "source": [
    "# Write your code from here\n",
    "import pandas as pd\n",
    "\n",
    "def remove_duplicates(csv_path):\n",
    "    try:\n",
    "        df = pd.read_csv(csv_path)\n",
    "        initial_count = len(df)\n",
    "        df_cleaned = df.drop_duplicates()\n",
    "        final_count = len(df_cleaned)\n",
    "        duplicates_removed = initial_count - final_count\n",
    "        print(f\"Total Records: {initial_count}\")\n",
    "        print(f\"Duplicates Removed: {duplicates_removed}\")\n",
    "        print(f\"Final Records: {final_count}\")\n",
    "        return df_cleaned\n",
    "    except Exception as e:\n",
    "        print(f\"Error: {e}\")\n",
    "\n",
    "# Example usage\n",
    "cleaned_df = remove_duplicates(\"data.csv\")\n"
   ]
  }
 ],
 "metadata": {
  "kernelspec": {
   "display_name": "base",
   "language": "python",
   "name": "python3"
  },
  "language_info": {
   "name": "python",
   "version": "3.12.7"
  }
 },
 "nbformat": 4,
 "nbformat_minor": 2
}
