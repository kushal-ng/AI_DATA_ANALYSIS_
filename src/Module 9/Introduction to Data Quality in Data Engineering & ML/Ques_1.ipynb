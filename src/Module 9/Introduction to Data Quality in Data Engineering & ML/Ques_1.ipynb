{
 "cells": [
  {
   "cell_type": "markdown",
   "metadata": {},
   "source": [
    "### Detect Data Drift\n",
    "**Description**: Data drift can occur when the statistical properties of your data change over time. Learn to detect data drift using visualizations."
   ]
  },
  {
   "cell_type": "code",
   "execution_count": null,
   "metadata": {},
   "outputs": [],
   "source": [
    "# Write your code from here\n",
    "import numpy as np\n",
    "import pandas as pd\n",
    "import matplotlib.pyplot as plt\n",
    "import seaborn as sns\n",
    "\n",
    "try:\n",
    "    # Simulate baseline data (training)\n",
    "    baseline = np.random.normal(loc=0, scale=1, size=1000)\n",
    "    # Simulate production data with drift\n",
    "    production = np.random.normal(loc=0.7, scale=1.2, size=1000)\n",
    "\n",
    "    # Create DataFrame for visualization\n",
    "    df = pd.DataFrame({\n",
    "        'value': np.concatenate([baseline, production]),\n",
    "        'dataset': ['baseline'] * len(baseline) + ['production'] * len(production)\n",
    "    })\n",
    "\n",
    "    plt.figure(figsize=(10,6))\n",
    "    sns.kdeplot(data=df, x='value', hue='dataset', fill=True, common_norm=False, alpha=0.5)\n",
    "    plt.title('Data Distribution Comparison: Baseline vs Production')\n",
    "    plt.xlabel('Feature Value')\n",
    "    plt.ylabel('Density')\n",
    "    plt.show()\n",
    "\n",
    "except Exception as e:\n",
    "    print(f\"Error: {e}\")\n"
   ]
  }
 ],
 "metadata": {
  "kernelspec": {
   "display_name": "base",
   "language": "python",
   "name": "python3"
  },
  "language_info": {
   "name": "python",
   "version": "3.12.7"
  }
 },
 "nbformat": 4,
 "nbformat_minor": 2
}
