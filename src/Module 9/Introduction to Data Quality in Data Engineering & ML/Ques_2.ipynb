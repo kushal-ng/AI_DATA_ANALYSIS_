{
 "cells": [
  {
   "cell_type": "markdown",
   "metadata": {},
   "source": [
    "### Imputing Missing Data\n",
    "**Description**: Impute missing data using various strategies like mean, median, or mode."
   ]
  },
  {
   "cell_type": "code",
   "execution_count": null,
   "metadata": {},
   "outputs": [],
   "source": [
    "# Write your code from here\n",
    "import pandas as pd\n",
    "import numpy as np\n",
    "from sklearn.impute import SimpleImputer\n",
    "\n",
    "try:\n",
    "    # Sample data with missing values\n",
    "    data = {\n",
    "        'Age': [25, np.nan, 35, 40, np.nan, 50],\n",
    "        'Salary': [50000, 60000, np.nan, 80000, 90000, np.nan],\n",
    "        'Gender': ['M', 'F', np.nan, 'F', 'M', 'M']\n",
    "    }\n",
    "    df = pd.DataFrame(data)\n",
    "\n",
    "    # Impute numeric columns\n",
    "    numeric_cols = ['Age', 'Salary']\n",
    "    imputer_mean = SimpleImputer(strategy='mean')\n",
    "    df[numeric_cols] = imputer_mean.fit_transform(df[numeric_cols])\n",
    "\n",
    "    # Impute categorical column with mode\n",
    "    imputer_mode = SimpleImputer(strategy='most_frequent')\n",
    "    df[['Gender']] = imputer_mode.fit_transform(df[['Gender']])\n",
    "\n",
    "    print(df)\n",
    "\n",
    "except Exception as e:\n",
    "    print(f\"Error: {e}\")\n"
   ]
  }
 ],
 "metadata": {
  "kernelspec": {
   "display_name": "base",
   "language": "python",
   "name": "python3"
  },
  "language_info": {
   "name": "python",
   "version": "3.12.7"
  }
 },
 "nbformat": 4,
 "nbformat_minor": 2
}
