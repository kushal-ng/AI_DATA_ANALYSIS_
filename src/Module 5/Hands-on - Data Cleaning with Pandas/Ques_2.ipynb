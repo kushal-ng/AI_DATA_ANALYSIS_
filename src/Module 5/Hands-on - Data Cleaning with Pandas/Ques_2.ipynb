{
 "cells": [
  {
   "cell_type": "code",
   "execution_count": null,
   "metadata": {},
   "outputs": [],
   "source": [
    "# Part 2: Remove Duplicates & Fix Data Types\n",
    "\n",
    "# Task 1: Remove Duplicates\n",
    "#     1. Load Extended Data:\n",
    "#     2. Remove Duplicates:\n",
    "        \n",
    "\n",
    "\n",
    "# Task 2: Fix Data Types\n",
    "#     1. Fix Incorrect Data Types:\n",
    "        \n",
    "\n",
    "\n",
    "# Task 3: Convert Data Type for Analysis\n",
    "#     1. Convert Date Strings to DateTime:\n",
    "\n",
    "\n",
    "import pandas as pd\n",
    "\n",
    "# Part 2: Remove Duplicates & Fix Data Types\n",
    "\n",
    "# Sample DataFrame with duplicates and mixed data types\n",
    "data = {\n",
    "    'Order ID': [101, 102, 101, 103],\n",
    "    'Order Value': ['100', '200.5', '100', '300'],\n",
    "    'Order Date': ['2023-01-01', '2023/02/15', '2023-01-01', '15-03-2023']\n",
    "}\n",
    "df = pd.DataFrame(data)\n",
    "\n",
    "# Task 1: Remove Duplicates\n",
    "df_no_duplicates = df.drop_duplicates()\n",
    "print(\"DataFrame after removing duplicates:\\n\", df_no_duplicates)\n",
    "\n",
    "# Task 2: Fix Incorrect Data Types\n",
    "# Convert 'Order Value' to numeric (float)\n",
    "df_no_duplicates['Order Value'] = pd.to_numeric(df_no_duplicates['Order Value'], errors='coerce')\n",
    "print(\"\\nDataFrame after converting 'Order Value' to numeric:\\n\", df_no_duplicates)\n",
    "\n",
    "# Task 3: Convert Date Strings to DateTime\n",
    "# Parse 'Order Date' with dayfirst=True to handle multiple formats like '15-03-2023'\n",
    "df_no_duplicates['Order Date'] = pd.to_datetime(df_no_duplicates['Order Date'], dayfirst=True, errors='coerce')\n",
    "print(\"\\nDataFrame after converting 'Order Date' to datetime:\\n\", df_no_duplicates)\n"
   ]
  }
 ],
 "metadata": {
  "language_info": {
   "name": "python"
  }
 },
 "nbformat": 4,
 "nbformat_minor": 2
}
