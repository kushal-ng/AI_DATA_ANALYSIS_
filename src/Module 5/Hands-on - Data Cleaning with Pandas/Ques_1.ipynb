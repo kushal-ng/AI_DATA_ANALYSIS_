{
 "cells": [
  {
   "cell_type": "code",
   "execution_count": null,
   "metadata": {},
   "outputs": [],
   "source": [
    "# Part 1: Detect & Handle Missing Data\n",
    "\n",
    "# Task 1: Detect Missing Data\n",
    "#     1. Load the Data:\n",
    "#     2. Detect Missing Data:\n",
    "\n",
    "\n",
    "\n",
    "# Task 2: Handle Missing Data by Dropping\n",
    "#     1. Drop Rows with Missing Values:\n",
    "        \n",
    "        \n",
    "\n",
    "# Task 3: Handle Missing Data by Imputation\n",
    "#     1. Fill Missing Values:\n",
    "        \n",
    "import pandas as pd\n",
    "\n",
    "# Part 1: Detect & Handle Missing Data\n",
    "\n",
    "# Sample DataFrame for demonstration\n",
    "data = {\n",
    "    'A': [1, 2, None, 4],\n",
    "    'B': [None, 2, 3, 4],\n",
    "    'C': [5, None, None, 8]\n",
    "}\n",
    "df = pd.DataFrame(data)\n",
    "\n",
    "# Task 1: Detect Missing Data\n",
    "missing_counts = df.isnull().sum()\n",
    "print(\"Missing values per column:\\n\", missing_counts)\n",
    "\n",
    "# Task 2: Handle Missing Data by Dropping\n",
    "df_dropped = df.dropna()\n",
    "print(\"\\nDataFrame after dropping rows with missing values:\\n\", df_dropped)\n",
    "\n",
    "# Task 3: Handle Missing Data by Imputation\n",
    "# Example: Fill missing values with the mean of each column\n",
    "df_filled = df.fillna(df.mean())\n",
    "print(\"\\nDataFrame after filling missing values with mean:\\n\", df_filled)\n"
   ]
  }
 ],
 "metadata": {
  "language_info": {
   "name": "python"
  }
 },
 "nbformat": 4,
 "nbformat_minor": 2
}
