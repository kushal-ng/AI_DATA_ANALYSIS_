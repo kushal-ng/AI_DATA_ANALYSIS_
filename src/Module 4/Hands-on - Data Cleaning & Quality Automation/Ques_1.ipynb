{
 "cells": [
  {
   "cell_type": "code",
   "execution_count": null,
   "metadata": {},
   "outputs": [],
   "source": [
    "# Question 1: Handling Missing Values with Conditional Filling\n",
    "# Description: Fill missing values in a specific column based on a condition from another column.\n",
    "\n",
    "import pandas as pd\n",
    "\n",
    "def conditional_fill(df, target_col, condition_col, condition_value, fill_value):\n",
    "    mask = (df[condition_col] == condition_value) & (df[target_col].isna())\n",
    "    df.loc[mask, target_col] = fill_value\n",
    "    return df\n"
   ]
  },
  {
   "cell_type": "code",
   "execution_count": null,
   "metadata": {},
   "outputs": [],
   "source": [
    "# Question 2: Removing Outliers by Rescaling\n",
    "# Description: Remove outliers by standardizing a numerical column using z-scores.\n",
    "\n",
    "import pandas as pd\n",
    "import numpy as np\n",
    "\n",
    "def remove_outliers_zscore(df, col):\n",
    "    mean = df[col].mean()\n",
    "    std = df[col].std()\n",
    "    z_scores = (df[col] - mean) / std\n",
    "    return df[(z_scores >= -3) & (z_scores <= 3)]\n"
   ]
  },
  {
   "cell_type": "code",
   "execution_count": null,
   "metadata": {},
   "outputs": [],
   "source": [
    "# Question 3: Applying Data Type Conversion\n",
    "# Description: Convert the 'Age' column to integers after filling missing values.\n",
    "\n",
    "def convert_age_to_int(df):\n",
    "    df['Age'] = df['Age'].fillna(0).astype(int)\n",
    "    return df\n"
   ]
  },
  {
   "cell_type": "code",
   "execution_count": null,
   "metadata": {},
   "outputs": [],
   "source": [
    "# Question 4: Automating Data Cleaning with Functions\n",
    "# Description: Create a function that automates the process of filling missing values, removing duplicates, and standardizing column names.\n",
    "def clean_data(df):\n",
    "    df = df.fillna(method='ffill')\n",
    "    df = df.drop_duplicates()\n",
    "    df.columns = [col.lower().replace(' ', '_') for col in df.columns]\n",
    "    return df\n",
    "\n"
   ]
  },
  {
   "cell_type": "code",
   "execution_count": null,
   "metadata": {},
   "outputs": [],
   "source": [
    "# Question 5: Complex Data Normalization\n",
    "# Description: Normalize a numeric column to a range using min-max scaling.\n",
    "\n",
    "def min_max_normalize(df, column):\n",
    "    min_val = df[column].min()\n",
    "    max_val = df[column].max()\n",
    "    df[column] = (df[column] - min_val) / (max_val - min_val)\n",
    "    return df\n"
   ]
  }
 ],
 "metadata": {
  "language_info": {
   "name": "python"
  }
 },
 "nbformat": 4,
 "nbformat_minor": 2
}
