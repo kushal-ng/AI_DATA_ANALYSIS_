{
 "cells": [
  {
   "cell_type": "markdown",
   "metadata": {},
   "source": [
    "### Task 1: Introduction to Isolation Forest\n",
    "**Description**: Install the necessary library and load a sample dataset.\n",
    "\n",
    "**Steps**:\n",
    "1. Install scikit-learn\n",
    "2. Load a sample dataset using Python"
   ]
  },
  {
   "cell_type": "code",
   "execution_count": null,
   "metadata": {},
   "outputs": [],
   "source": [
    "# write your code from here\n",
    "# Step 1: Install scikit-learn (run in terminal or notebook)\n",
    "# !pip install scikit-learn\n",
    "\n",
    "# Step 2: Load a sample dataset using Python (e.g., load the iris dataset)\n",
    "from sklearn.datasets import load_iris\n",
    "import pandas as pd\n",
    "\n",
    "iris = load_iris()\n",
    "df = pd.DataFrame(iris.data, columns=iris.feature_names)\n",
    "print(df.head())\n"
   ]
  },
  {
   "cell_type": "markdown",
   "metadata": {},
   "source": [
    "### Task 2: Building an Isolation Forest\n",
    "**Description**: Initialize an Isolation Forest model and fit it to the Boston dataset.\n",
    "\n",
    "**Steps**:\n",
    "1. Initialize Isolation Forest\n",
    "2. Fit model"
   ]
  },
  {
   "cell_type": "code",
   "execution_count": null,
   "metadata": {},
   "outputs": [],
   "source": [
    "# write your code from here\n",
    "from sklearn.ensemble import IsolationForest\n",
    "from sklearn.datasets import load_boston\n",
    "import pandas as pd\n",
    "\n",
    "# Load Boston Housing dataset\n",
    "boston = load_boston()\n",
    "X = pd.DataFrame(boston.data, columns=boston.feature_names)\n",
    "\n",
    "# Initialize Isolation Forest model\n",
    "iso_forest = IsolationForest(random_state=42)\n",
    "\n",
    "# Fit the model to the data\n",
    "iso_forest.fit(X)\n"
   ]
  },
  {
   "cell_type": "markdown",
   "metadata": {},
   "source": [
    "### Task 3: Detecting Anomalies\n",
    "**Description**: Use the fitted Isolation Forest model to predict anomalies.\n",
    "\n",
    "**Steps**:\n",
    "1. Predict anomalies\n",
    "2. Display anomaly counts"
   ]
  },
  {
   "cell_type": "code",
   "execution_count": null,
   "metadata": {},
   "outputs": [],
   "source": [
    "# write your code from here\n",
    "# Predict anomalies (-1 for anomaly, 1 for normal)\n",
    "anomaly_labels = iso_forest.predict(X)\n",
    "\n",
    "# Count anomalies and normal points\n",
    "import numpy as np\n",
    "unique, counts = np.unique(anomaly_labels, return_counts=True)\n",
    "anomaly_counts = dict(zip(unique, counts))\n",
    "\n",
    "print(\"Anomaly counts:\", anomaly_counts)\n"
   ]
  },
  {
   "cell_type": "markdown",
   "metadata": {},
   "source": [
    "### Task 4: Visualizing Anomalies\n",
    "**Description**: Visualize the results to see which samples are considered anomalies.\n",
    "\n",
    "**Steps**:\n",
    "1. Plot a scatter plot"
   ]
  },
  {
   "cell_type": "code",
   "execution_count": null,
   "metadata": {},
   "outputs": [],
   "source": [
    "# write your code from here\n",
    "import matplotlib.pyplot as plt\n",
    "\n",
    "# Assuming X is 2D or selecting two features for visualization\n",
    "# For Boston dataset, select first two features for simplicity\n",
    "plt.figure(figsize=(8,6))\n",
    "plt.scatter(X[:, 0], X[:, 1], c=anomaly_labels, cmap='coolwarm', edgecolor='k', s=50)\n",
    "plt.title('Isolation Forest Anomaly Detection')\n",
    "plt.xlabel('Feature 1')\n",
    "plt.ylabel('Feature 2')\n",
    "plt.colorbar(label='Anomaly Label (1=Normal, -1=Anomaly)')\n",
    "plt.show()\n"
   ]
  },
  {
   "cell_type": "markdown",
   "metadata": {},
   "source": [
    "### Task 5: Interpret Contamination Parameter\n",
    "**Description**: Experiment with different contamination levels."
   ]
  },
  {
   "cell_type": "code",
   "execution_count": null,
   "metadata": {},
   "outputs": [],
   "source": [
    "# write your code from here\n",
    "from sklearn.ensemble import IsolationForest\n",
    "import numpy as np\n",
    "\n",
    "# Define different contamination levels to test\n",
    "contamination_levels = [0.01, 0.05, 0.1, 0.2]\n",
    "\n",
    "for contamination in contamination_levels:\n",
    "    iso_forest = IsolationForest(contamination=contamination, random_state=42)\n",
    "    iso_forest.fit(X)\n",
    "    preds = iso_forest.predict(X)\n",
    "    n_anomalies = np.sum(preds == -1)\n",
    "    print(f\"Contamination: {contamination:.2f} -> Detected anomalies: {n_anomalies}\")\n"
   ]
  }
 ],
 "metadata": {
  "kernelspec": {
   "display_name": "base",
   "language": "python",
   "name": "python3"
  },
  "language_info": {
   "name": "python",
   "version": "3.12.7"
  }
 },
 "nbformat": 4,
 "nbformat_minor": 2
}
