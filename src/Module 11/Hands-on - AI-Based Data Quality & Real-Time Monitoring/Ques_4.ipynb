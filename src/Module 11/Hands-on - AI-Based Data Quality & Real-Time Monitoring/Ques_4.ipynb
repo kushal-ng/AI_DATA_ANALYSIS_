{
 "cells": [
  {
   "cell_type": "markdown",
   "metadata": {},
   "source": [
    "## Isolation Forest for Anomaly Detection\n",
    "**Objective**: Understand and apply the Isolation Forest algorithm to identify anomalies in datasets.\n",
    "\n",
    "### Task: Anomaly Detection in Network Traffic\n",
    "**Steps**:\n",
    "1. Extract Features from Dataset:\n",
    "    - Load `network_traffic.csv` .\n",
    "2. Isolation Forest Model\n",
    "3. Display Anomalies"
   ]
  },
  {
   "cell_type": "code",
   "execution_count": null,
   "metadata": {},
   "outputs": [],
   "source": [
    "# write your code from here\n",
    "import pandas as pd\n",
    "from sklearn.ensemble import IsolationForest\n",
    "\n",
    "# Step 1: Load dataset and extract features\n",
    "df = pd.read_csv('network_traffic.csv')\n",
    "\n",
    "# Assume the dataset has numerical features for network traffic analysis\n",
    "features = df.select_dtypes(include=['number'])\n",
    "\n",
    "# Step 2: Isolation Forest model initialization and fitting\n",
    "iso_forest = IsolationForest(contamination=0.05, random_state=42)\n",
    "iso_forest.fit(features)\n",
    "\n",
    "# Step 3: Predict anomalies (-1 for anomaly, 1 for normal)\n",
    "df['anomaly'] = iso_forest.predict(features)\n",
    "\n",
    "# Display anomalies\n",
    "anomalies = df[df['anomaly'] == -1]\n",
    "print(f\"Number of anomalies detected: {len(anomalies)}\")\n",
    "print(anomalies)\n"
   ]
  }
 ],
 "metadata": {
  "kernelspec": {
   "display_name": "base",
   "language": "python",
   "name": "python3"
  },
  "language_info": {
   "name": "python",
   "version": "3.12.7"
  }
 },
 "nbformat": 4,
 "nbformat_minor": 2
}
