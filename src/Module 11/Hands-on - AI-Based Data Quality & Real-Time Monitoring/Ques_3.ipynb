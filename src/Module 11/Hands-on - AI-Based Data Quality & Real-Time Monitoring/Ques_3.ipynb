{
 "cells": [
  {
   "cell_type": "markdown",
   "metadata": {},
   "source": [
    "## Isolation Forest for Anomaly Detection\n",
    "**Objective**: Understand and apply the Isolation Forest algorithm to identify anomalies in datasets.\n",
    "\n",
    "### Task: Anomaly Detection in Sensor Data\n",
    "**Steps**:\n",
    "1. Load Dataset\n",
    "2. Feature Selection\n",
    "3. Isolation Forest Implementation\n",
    "4. Plot Results"
   ]
  },
  {
   "cell_type": "code",
   "execution_count": null,
   "metadata": {},
   "outputs": [],
   "source": [
    "# write your code from here\n",
    "import pandas as pd\n",
    "import numpy as np\n",
    "from sklearn.ensemble import IsolationForest\n",
    "import matplotlib.pyplot as plt\n",
    "\n",
    "# Step 1: Load Dataset (replace with your actual dataset path or method)\n",
    "# For example, a CSV file with sensor data having numerical features\n",
    "df = pd.read_csv('sensor_data.csv')\n",
    "\n",
    "# Step 2: Feature Selection (select numerical features only)\n",
    "# Assuming all columns except 'timestamp' or non-numeric are features\n",
    "numeric_features = df.select_dtypes(include=[np.number])\n",
    "\n",
    "# Step 3: Isolation Forest Implementation\n",
    "iso_forest = IsolationForest(contamination=0.05, random_state=42)\n",
    "iso_forest.fit(numeric_features)\n",
    "df['anomaly'] = iso_forest.predict(numeric_features)  # -1 for anomaly, 1 for normal\n",
    "\n",
    "# Step 4: Plot Results\n",
    "# Plot first two numerical features colored by anomaly\n",
    "plt.figure(figsize=(10,6))\n",
    "plt.scatter(\n",
    "    numeric_features.iloc[:, 0],\n",
    "    numeric_features.iloc[:, 1],\n",
    "    c=df['anomaly'].map({1: 'blue', -1: 'red'}),\n",
    "    alpha=0.6,\n",
    "    label='Data points'\n",
    ")\n",
    "plt.title('Isolation Forest Anomaly Detection on Sensor Data')\n",
    "plt.xlabel(numeric_features.columns[0])\n",
    "plt.ylabel(numeric_features.columns[1])\n",
    "plt.legend(['Normal', 'Anomaly'])\n",
    "plt.show()\n"
   ]
  }
 ],
 "metadata": {
  "kernelspec": {
   "display_name": "base",
   "language": "python",
   "name": "python3"
  },
  "language_info": {
   "name": "python",
   "version": "3.12.7"
  }
 },
 "nbformat": 4,
 "nbformat_minor": 2
}
