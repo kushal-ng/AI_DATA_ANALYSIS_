{
 "cells": [
  {
   "cell_type": "markdown",
   "metadata": {},
   "source": [
    "## Isolation Forest for Anomaly Detection\n",
    "**Objective**: Understand and apply the Isolation Forest algorithm to identify anomalies in datasets.\n",
    "\n",
    "### Task: Anomaly Detection in Financial Transactions\n",
    "**Steps**:\n",
    "1. Import Libraries\n",
    "2. Load Dataset\n",
    "3. Apply Isolation Forest\n",
    "4. Visualize Anomalies"
   ]
  },
  {
   "cell_type": "code",
   "execution_count": null,
   "metadata": {},
   "outputs": [],
   "source": [
    "# write your code from here\n",
    "import pandas as pd\n",
    "import numpy as np\n",
    "import matplotlib.pyplot as plt\n",
    "from sklearn.ensemble import IsolationForest\n",
    "\n",
    "# Step 2: Load Dataset (Example synthetic data for demonstration)\n",
    "# Normally you'd load your financial transactions data here\n",
    "np.random.seed(42)\n",
    "normal_data = np.random.normal(loc=50, scale=5, size=200)  # normal transactions\n",
    "anomalies = np.random.normal(loc=80, scale=1, size=10)     # anomalous transactions\n",
    "\n",
    "data = np.concatenate([normal_data, anomalies])\n",
    "df = pd.DataFrame(data, columns=['transaction_amount'])\n",
    "\n",
    "# Step 3: Apply Isolation Forest\n",
    "model = IsolationForest(contamination=0.05, random_state=42)\n",
    "df['anomaly'] = model.fit_predict(df[['transaction_amount']])\n",
    "\n",
    "# Step 4: Visualize Anomalies\n",
    "plt.figure(figsize=(10,6))\n",
    "plt.plot(df.index, df['transaction_amount'], label='Transaction Amount')\n",
    "plt.scatter(df.index[df['anomaly'] == -1], df['transaction_amount'][df['anomaly'] == -1],\n",
    "            color='red', label='Anomaly', marker='x', s=100)\n",
    "plt.title(\"Isolation Forest Anomaly Detection\")\n",
    "plt.xlabel(\"Index\")\n",
    "plt.ylabel(\"Transaction Amount\")\n",
    "plt.legend()\n",
    "plt.show()\n"
   ]
  }
 ],
 "metadata": {
  "kernelspec": {
   "display_name": "base",
   "language": "python",
   "name": "python3"
  },
  "language_info": {
   "name": "python",
   "version": "3.12.7"
  }
 },
 "nbformat": 4,
 "nbformat_minor": 2
}
