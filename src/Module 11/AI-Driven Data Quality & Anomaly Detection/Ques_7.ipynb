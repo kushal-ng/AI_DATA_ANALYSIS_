{
 "cells": [
  {
   "cell_type": "markdown",
   "metadata": {},
   "source": [
    "### Using NLP for Text Data Quality\n",
    "**Objective**: Enhance text data quality using NLP techniques.\n",
    "\n",
    "**Task**: Handling Noisy Text Data\n",
    "\n",
    "**Steps**:\n",
    "1. Data Set: Obtain a dataset with customer reviews containing noise (e.g., random characters).\n",
    "2. Clean Data: Use regex patterns to clean the noise from text data.\n",
    "3. Evaluate: Compare the text before and after cleaning for noise."
   ]
  },
  {
   "cell_type": "code",
   "execution_count": null,
   "metadata": {},
   "outputs": [],
   "source": [
    "# write your code from here\n",
    "import pandas as pd\n",
    "import re\n",
    "\n",
    "# Step 1: Simulated dataset with noisy customer reviews\n",
    "data = {\n",
    "    'review': [\n",
    "        \"Th1s pr0duct is aw3some!!! #$@\",\n",
    "        \"Worst...experience.....ever!!!???\",\n",
    "        \"Loooved it!!!! Will buy again :) :)\",\n",
    "        \"Wh@t a mess@@, don't b#y it...\",\n",
    "        \"****Great value$$$ for $$$money****\"\n",
    "    ]\n",
    "}\n",
    "df = pd.DataFrame(data)\n",
    "\n",
    "# Step 2: Define a cleaning function using regex\n",
    "def clean_text(text):\n",
    "    text = re.sub(r'[^a-zA-Z\\s]', '', text)  # Remove special characters and digits\n",
    "    text = re.sub(r'\\s+', ' ', text)         # Replace multiple spaces with a single space\n",
    "    return text.strip().lower()\n",
    "\n",
    "# Apply the cleaning\n",
    "df['cleaned_review'] = df['review'].apply(clean_text)\n",
    "\n",
    "# Step 3: Evaluate by displaying original and cleaned reviews\n",
    "print(\"Original vs Cleaned Reviews:\\n\")\n",
    "print(df[['review', 'cleaned_review']])\n"
   ]
  }
 ],
 "metadata": {
  "kernelspec": {
   "display_name": "base",
   "language": "python",
   "name": "python3"
  },
  "language_info": {
   "name": "python",
   "version": "3.12.7"
  }
 },
 "nbformat": 4,
 "nbformat_minor": 2
}
