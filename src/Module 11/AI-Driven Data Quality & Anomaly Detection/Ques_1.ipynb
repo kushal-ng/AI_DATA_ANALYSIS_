{
 "cells": [
  {
   "cell_type": "markdown",
   "metadata": {},
   "source": [
    "# Automated Anomaly Detection\n",
    "**Objective**: Understand and practice automated anomaly detection using various techniques.\n",
    "\n",
    "**Task**: Automated Anomaly Detection using Z-score method\n",
    "\n",
    "**Steps**:\n",
    "1. Data Set: Download a dataset representing daily sales figures for a retail store.\n",
    "2. Calculate Z-score: Compute the mean and standard deviation of the sales. Use these to\n",
    "calculate the Z-score for each day's sales figure.\n",
    "3. Identify Anomalies: Detect anomalies by identifying values with a Z-score above 3 or below -3.\n",
    "4. Visualize: Plot a graph to visualize anomalies."
   ]
  },
  {
   "cell_type": "code",
   "execution_count": null,
   "metadata": {},
   "outputs": [],
   "source": [
    "# write your code from here\n",
    "import pandas as pd\n",
    "import numpy as np\n",
    "import matplotlib.pyplot as plt\n",
    "\n",
    "# Step 1: Create a sample dataset simulating daily sales\n",
    "np.random.seed(0)\n",
    "sales_data = np.random.normal(loc=200, scale=20, size=100).tolist()\n",
    "sales_data[20] = 300  # Inject anomaly\n",
    "sales_data[50] = 80   # Inject anomaly\n",
    "df = pd.DataFrame({'day': range(1, 101), 'sales': sales_data})\n",
    "\n",
    "# Step 2: Calculate Z-score\n",
    "mean_sales = df['sales'].mean()\n",
    "std_sales = df['sales'].std()\n",
    "df['z_score'] = (df['sales'] - mean_sales) / std_sales\n",
    "\n",
    "# Step 3: Identify anomalies (Z-score > 3 or < -3)\n",
    "df['anomaly'] = df['z_score'].apply(lambda x: abs(x) > 3)\n",
    "\n",
    "# Step 4: Visualize the results\n",
    "plt.figure(figsize=(12, 6))\n",
    "plt.plot(df['day'], df['sales'], label='Sales', marker='o')\n",
    "plt.scatter(df[df['anomaly']]['day'], df[df['anomaly']]['sales'], color='red', label='Anomalies', zorder=5)\n",
    "plt.title(\"Daily Sales with Anomaly Detection (Z-score Method)\")\n",
    "plt.xlabel(\"Day\")\n",
    "plt.ylabel(\"Sales\")\n",
    "plt.legend()\n",
    "plt.grid(True)\n",
    "plt.tight_layout()\n",
    "plt.show()\n"
   ]
  }
 ],
 "metadata": {
  "kernelspec": {
   "display_name": "base",
   "language": "python",
   "name": "python3"
  },
  "language_info": {
   "name": "python",
   "version": "3.12.7"
  }
 },
 "nbformat": 4,
 "nbformat_minor": 2
}
