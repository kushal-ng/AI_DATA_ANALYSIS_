{
 "cells": [
  {
   "cell_type": "markdown",
   "metadata": {},
   "source": [
    "# Data Deduplication using Clustering\n",
    "**Objective**: Learn and implement data deduplication techniques.\n",
    "\n",
    "**Task**: Hierarchical Clustering for Deduplication\n",
    "\n",
    "**Steps**:\n",
    "1. Data Set: Obtain a dataset containing duplicate employee information.\n",
    "2. Perform Clustering: Use hierarchical agglomerative clustering to cluster the employee\n",
    "records.\n",
    "3. Evaluate Duplicates: Determine duplicates by analyzing the clusters formed.\n",
    "4. Clean Data: Remove duplicate employee records found during clustering."
   ]
  },
  {
   "cell_type": "code",
   "execution_count": null,
   "metadata": {},
   "outputs": [],
   "source": [
    "# write your code from here\n",
    "import pandas as pd\n",
    "import numpy as np\n",
    "from sklearn.preprocessing import StandardScaler\n",
    "from sklearn.cluster import AgglomerativeClustering\n",
    "from scipy.spatial.distance import pdist, squareform\n",
    "from sklearn.metrics import pairwise_distances\n",
    "import matplotlib.pyplot as plt\n",
    "import seaborn as sns\n",
    "\n",
    "# Step 1: Simulate employee dataset with duplicates\n",
    "data = {\n",
    "    'employee_id': [101, 102, 103, 104, 105, 106, 107, 108],\n",
    "    'name': ['John Doe', 'Jane Smith', 'Jake Long', 'John Doe', 'Jane Smith', 'Sam Ray', 'Anna Grey', 'Jake Long'],\n",
    "    'age': [30, 28, 32, 30, 28, 45, 38, 32],\n",
    "    'department': ['Sales', 'HR', 'IT', 'Sales', 'HR', 'Finance', 'Marketing', 'IT']\n",
    "}\n",
    "df = pd.DataFrame(data)\n",
    "\n",
    "# Step 2: Preprocess: Encode categorical variables, standardize numerical\n",
    "df_encoded = pd.get_dummies(df[['name', 'department']])\n",
    "df_features = pd.concat([df[['age']], df_encoded], axis=1)\n",
    "scaler = StandardScaler()\n",
    "X_scaled = scaler.fit_transform(df_features)\n",
    "\n",
    "# Step 3: Hierarchical Clustering\n",
    "model = AgglomerativeClustering(n_clusters=None, distance_threshold=1.5, linkage='ward')\n",
    "labels = model.fit_predict(X_scaled)\n",
    "df['cluster'] = labels\n",
    "\n",
    "# Step 4: Evaluate Duplicates - remove non-representative from duplicate clusters\n",
    "duplicates = []\n",
    "for cluster_id in df['cluster'].unique():\n",
    "    cluster_group = df[df['cluster'] == cluster_id]\n",
    "    if len(cluster_group) > 1:\n",
    "        rep_index = cluster_group.index[0]\n",
    "        cluster_duplicates = cluster_group.drop(index=rep_index).index.tolist()\n",
    "        duplicates.extend(cluster_duplicates)\n",
    "\n",
    "dedup_df = df.drop(index=duplicates).reset_index(drop=True)\n",
    "\n",
    "print(\"Original Data with Clusters:\")\n",
    "print(df[['employee_id', 'name', 'age', 'department', 'cluster']])\n",
    "print(\"\\nDeduplicated Employee Data:\")\n",
    "print(dedup_df[['employee_id', 'name', 'age', 'department']])\n"
   ]
  }
 ],
 "metadata": {
  "kernelspec": {
   "display_name": "base",
   "language": "python",
   "name": "python3"
  },
  "language_info": {
   "name": "python",
   "version": "3.12.7"
  }
 },
 "nbformat": 4,
 "nbformat_minor": 2
}
