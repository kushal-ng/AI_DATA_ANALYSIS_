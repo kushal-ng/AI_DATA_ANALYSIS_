{
 "cells": [
  {
   "cell_type": "markdown",
   "metadata": {},
   "source": [
    "# Automated Anomaly Detection\n",
    "**Objective**: Understand and practice automated anomaly detection using various techniques.\n",
    "\n",
    "**Task**: Autoencoders for Anomaly Detection\n",
    "\n",
    "**Steps**:\n",
    "1. Data Set: Download a dataset of electricity consumption data.\n",
    "2. Build an Autoencoder: Construct a simple autoencoder using a neural network for the\n",
    "normal consumption data.\n",
    "3. Identify Anomalies: Use the trained model to reconstruct the data and identify anomalies based on reconstruction error.\n",
    "4. Visualize: Plot both the actual and reconstructed data to highlight anomalies."
   ]
  },
  {
   "cell_type": "code",
   "execution_count": null,
   "metadata": {},
   "outputs": [],
   "source": [
    "# write your code from here\n",
    "import numpy as np\n",
    "import pandas as pd\n",
    "import matplotlib.pyplot as plt\n",
    "from sklearn.preprocessing import MinMaxScaler\n",
    "from tensorflow.keras.models import Sequential\n",
    "from tensorflow.keras.layers import Dense\n",
    "\n",
    "# Step 1: Create synthetic electricity consumption dataset\n",
    "np.random.seed(42)\n",
    "normal_data = np.random.normal(loc=500, scale=50, size=300)\n",
    "anomalies = [1000, 1050, 1100]  # Injected anomalies\n",
    "data = np.concatenate([normal_data, anomalies])\n",
    "df = pd.DataFrame({'consumption': data})\n",
    "\n",
    "# Step 2: Preprocess and scale the data\n",
    "scaler = MinMaxScaler()\n",
    "scaled_data = scaler.fit_transform(df[['consumption']])\n",
    "\n",
    "# Build Autoencoder\n",
    "model = Sequential([\n",
    "    Dense(16, activation='relu', input_shape=(1,)),\n",
    "    Dense(8, activation='relu'),\n",
    "    Dense(16, activation='relu'),\n",
    "    Dense(1)\n",
    "])\n",
    "model.compile(optimizer='adam', loss='mse')\n",
    "model.fit(scaled_data, scaled_data, epochs=50, batch_size=16, verbose=0)\n",
    "\n",
    "# Step 3: Reconstruct and calculate reconstruction error\n",
    "reconstructed = model.predict(scaled_data)\n",
    "mse = np.mean(np.power(scaled_data - reconstructed, 2), axis=1)\n",
    "threshold = np.percentile(mse, 95)  # Dynamic threshold\n",
    "df['reconstruction_error'] = mse\n",
    "df['anomaly'] = df['reconstruction_error'] > threshold\n",
    "\n",
    "# Step 4: Visualize actual vs reconstructed and anomalies\n",
    "plt.figure(figsize=(14, 6))\n",
    "plt.plot(df.index, df['consumption'], label='Actual Consumption', marker='o')\n",
    "plt.plot(df.index, scaler.inverse_transform(reconstructed), label='Reconstructed', linestyle='dashed')\n",
    "plt.scatter(df[df['anomaly']].index, df[df['anomaly']]['consumption'], color='red', label='Anomalies', zorder=5)\n",
    "plt.title(\"Electricity Consumption - Autoencoder Anomaly Detection\")\n",
    "plt.xlabel(\"Time Index\")\n",
    "plt.ylabel(\"Consumption\")\n",
    "plt.legend()\n",
    "plt.grid(True)\n",
    "plt.tight_layout()\n",
    "plt.show()\n",
    "\n",
    "print(f\"Total anomalies detected: {df['anomaly'].sum()}\")\n"
   ]
  }
 ],
 "metadata": {
  "kernelspec": {
   "display_name": "base",
   "language": "python",
   "name": "python3"
  },
  "language_info": {
   "name": "python",
   "version": "3.12.7"
  }
 },
 "nbformat": 4,
 "nbformat_minor": 2
}
