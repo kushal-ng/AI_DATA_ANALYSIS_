{
 "cells": [
  {
   "cell_type": "markdown",
   "metadata": {},
   "source": [
    "# Automated Anomaly Detection\n",
    "**Objective**: Understand and practice automated anomaly detection using various techniques.\n",
    "\n",
    "**Task**: Anomaly Detection with Isolation Forest\n",
    "\n",
    "**Steps**:\n",
    "1. Data Set: Obtain a dataset of server response times.\n",
    "2. Train Model: Use Isolation Forest to train a model on the response time data.\n",
    "3. Detect Anomalies: Predict which response times are anomalies.\n",
    "4. Evaluate Results: Assess the number of anomalies detected."
   ]
  },
  {
   "cell_type": "code",
   "execution_count": null,
   "metadata": {},
   "outputs": [],
   "source": [
    "# write your code from here\n",
    "import pandas as pd\n",
    "import numpy as np\n",
    "from sklearn.ensemble import IsolationForest\n",
    "import matplotlib.pyplot as plt\n",
    "\n",
    "# Step 1: Create synthetic server response time data\n",
    "np.random.seed(42)\n",
    "response_times = np.random.normal(loc=100, scale=10, size=200).tolist()\n",
    "response_times += [200, 210, 215]  # Inject anomalies\n",
    "df = pd.DataFrame({'response_time': response_times})\n",
    "\n",
    "# Step 2: Train Isolation Forest model\n",
    "model = IsolationForest(contamination=0.02, random_state=42)\n",
    "df['anomaly'] = model.fit_predict(df[['response_time']])\n",
    "\n",
    "# Step 3: Detect anomalies (-1 indicates anomaly)\n",
    "df['is_anomaly'] = df['anomaly'] == -1\n",
    "\n",
    "# Step 4: Evaluate results\n",
    "anomaly_count = df['is_anomaly'].sum()\n",
    "print(f\"Number of anomalies detected: {anomaly_count}\")\n",
    "\n",
    "# Plotting the results\n",
    "plt.figure(figsize=(12, 6))\n",
    "plt.plot(df.index, df['response_time'], label='Response Time', marker='o')\n",
    "plt.scatter(df[df['is_anomaly']].index, df[df['is_anomaly']]['response_time'],\n",
    "            color='red', label='Anomalies', zorder=5)\n",
    "plt.title(\"Server Response Times with Isolation Forest Anomaly Detection\")\n",
    "plt.xlabel(\"Index\")\n",
    "plt.ylabel(\"Response Time (ms)\")\n",
    "plt.legend()\n",
    "plt.grid(True)\n",
    "plt.tight_layout()\n",
    "plt.show()\n"
   ]
  }
 ],
 "metadata": {
  "kernelspec": {
   "display_name": "base",
   "language": "python",
   "name": "python3"
  },
  "language_info": {
   "name": "python",
   "version": "3.12.7"
  }
 },
 "nbformat": 4,
 "nbformat_minor": 2
}
