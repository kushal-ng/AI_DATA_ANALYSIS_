{
 "cells": [
  {
   "cell_type": "markdown",
   "metadata": {},
   "source": [
    "### Using NLP for Text Data Quality\n",
    "**Objective**: Enhance text data quality using NLP techniques.\n",
    "\n",
    "**Task**: Spelling Corrections\n",
    "\n",
    "**Steps**:\n",
    "1. Data Set: Import a dataset containing text reviews with spelling errors.\n",
    "2. Apply Corrections: Use a spell-checker from an NLP library to correct spelling mistakes.\n",
    "3. Verify Improvements: Review the corrections to ensure data quality improvement."
   ]
  },
  {
   "cell_type": "code",
   "execution_count": null,
   "metadata": {},
   "outputs": [],
   "source": [
    "# write your code from here\n",
    "import pandas as pd\n",
    "from textblob import TextBlob\n",
    "\n",
    "# Step 1: Sample dataset with spelling errors in reviews\n",
    "data = {\n",
    "    'reviews': [\n",
    "        \"Ths product is awsome and I realy like it!\",\n",
    "        \"The delievery was late and the packging was damged.\",\n",
    "        \"Excelent quality, but the price is a bit high.\",\n",
    "        \"I am very happpy with the purchse and service.\",\n",
    "        \"Terrible experiance, will not buy agian.\"\n",
    "    ]\n",
    "}\n",
    "df = pd.DataFrame(data)\n",
    "\n",
    "# Step 2: Spell correction using TextBlob\n",
    "def correct_spelling(text):\n",
    "    corrected_text = TextBlob(text).correct()\n",
    "    return str(corrected_text)\n",
    "\n",
    "df['corrected_reviews'] = df['reviews'].apply(correct_spelling)\n",
    "\n",
    "# Step 3: Verify improvements\n",
    "for original, corrected in zip(df['reviews'], df['corrected_reviews']):\n",
    "    print(f\"Original:  {original}\")\n",
    "    print(f\"Corrected: {corrected}\")\n",
    "    print(\"-\" * 50)\n"
   ]
  }
 ],
 "metadata": {
  "kernelspec": {
   "display_name": "base",
   "language": "python",
   "name": "python3"
  },
  "language_info": {
   "name": "python",
   "version": "3.12.7"
  }
 },
 "nbformat": 4,
 "nbformat_minor": 2
}
