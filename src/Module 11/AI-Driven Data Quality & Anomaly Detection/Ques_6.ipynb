{
 "cells": [
  {
   "cell_type": "markdown",
   "metadata": {},
   "source": [
    "# Data Deduplication using Clustering\n",
    "**Objective**: Learn and implement data deduplication techniques.\n",
    "\n",
    "**Task**: DBSCAN for Data Deduplication\n",
    "\n",
    "**Steps**:\n",
    "1. Data Set: Download a dataset containing duplicate entries for event registrations.\n",
    "2. DBSCAN Clustering: Apply the DBSCAN algorithm to cluster similar registrations.\n",
    "3. Identify Duplicates: Detect duplicates based on density of the clusters.\n",
    "4. Refinement: Validate clusters and remove any erroneous duplicates."
   ]
  },
  {
   "cell_type": "code",
   "execution_count": null,
   "metadata": {},
   "outputs": [],
   "source": [
    "# write your code from here\n",
    "import pandas as pd\n",
    "import numpy as np\n",
    "from sklearn.preprocessing import StandardScaler\n",
    "from sklearn.cluster import DBSCAN\n",
    "from sklearn.feature_extraction.text import TfidfVectorizer\n",
    "from sklearn.metrics.pairwise import cosine_distances\n",
    "\n",
    "# Step 1: Simulate event registration dataset with duplicates\n",
    "data = {\n",
    "    'name': [\n",
    "        'Alice Johnson', 'Alicia Johnson', 'Bob Smith', 'Robert Smith',\n",
    "        'Charlie Lee', 'Charlie L.', 'David Yu', 'David Y.'\n",
    "    ],\n",
    "    'email': [\n",
    "        'alicej@example.com', 'alicej@example.com', 'bobsmith@example.com',\n",
    "        'roberts@example.com', 'clee@example.com', 'clee@example.com',\n",
    "        'davidyu@example.com', 'davidyu@example.com'\n",
    "    ],\n",
    "    'event': ['TechCon'] * 8\n",
    "}\n",
    "df = pd.DataFrame(data)\n",
    "\n",
    "# Step 2: Vectorize text fields (name + email) for similarity\n",
    "combined_text = df['name'] + ' ' + df['email']\n",
    "vectorizer = TfidfVectorizer()\n",
    "X = vectorizer.fit_transform(combined_text)\n",
    "\n",
    "# Step 3: Apply DBSCAN on cosine distance\n",
    "distance_matrix = cosine_distances(X)\n",
    "db = DBSCAN(eps=0.4, min_samples=1, metric='precomputed')\n",
    "labels = db.fit_predict(distance_matrix)\n",
    "\n",
    "df['cluster'] = labels\n",
    "\n",
    "# Step 4: Identify duplicates by non-unique cluster labels\n",
    "dedup_df = df.drop_duplicates(subset='cluster', keep='first').reset_index(drop=True)\n",
    "\n",
    "print(\"Original Data with Cluster Labels:\")\n",
    "print(df[['name', 'email', 'cluster']])\n",
    "print(\"\\nDeduplicated Event Registrations:\")\n",
    "print(dedup_df[['name', 'email']])\n"
   ]
  }
 ],
 "metadata": {
  "kernelspec": {
   "display_name": "base",
   "language": "python",
   "name": "python3"
  },
  "language_info": {
   "name": "python",
   "version": "3.12.7"
  }
 },
 "nbformat": 4,
 "nbformat_minor": 2
}
