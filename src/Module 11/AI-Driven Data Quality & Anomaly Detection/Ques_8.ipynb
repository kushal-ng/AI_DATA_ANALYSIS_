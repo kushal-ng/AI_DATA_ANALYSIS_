{
 "cells": [
  {
   "cell_type": "markdown",
   "metadata": {},
   "source": [
    "### Using NLP for Text Data Quality\n",
    "**Objective**: Enhance text data quality using NLP techniques.\n",
    "\n",
    "**Task**: Removing Stopwords\n",
    "\n",
    "**Steps**:\n",
    "1. Data Set: Use a dataset of text product descriptions.\n",
    "2. Stopword Removal: Utilize an NLP library (e.g., NLTK) to remove stopwords from the\n",
    "descriptions.\n",
    "3. Assess Impact: Examine the effectiveness by analyzing word frequency before and after\n",
    "removal."
   ]
  },
  {
   "cell_type": "code",
   "execution_count": null,
   "metadata": {},
   "outputs": [],
   "source": [
    "# write your code from here\n",
    "import pandas as pd\n",
    "import nltk\n",
    "from nltk.corpus import stopwords\n",
    "from collections import Counter\n",
    "\n",
    "# Step 0: Download stopwords if not already downloaded\n",
    "nltk.download('stopwords')\n",
    "\n",
    "# Step 1: Sample dataset of product descriptions\n",
    "data = {\n",
    "    'description': [\n",
    "        \"This is an excellent product with great value and features.\",\n",
    "        \"The product is not only affordable but also very reliable.\",\n",
    "        \"Experience the best quality with this new item on the market.\",\n",
    "        \"A must-have item for your daily use, easy to handle and durable.\",\n",
    "        \"Affordable price with premium quality and excellent customer support.\"\n",
    "    ]\n",
    "}\n",
    "df = pd.DataFrame(data)\n",
    "\n",
    "# Step 2: Remove stopwords\n",
    "stop_words = set(stopwords.words('english'))\n",
    "\n",
    "def remove_stopwords(text):\n",
    "    tokens = text.lower().split()\n",
    "    filtered = [word for word in tokens if word not in stop_words]\n",
    "    return ' '.join(filtered)\n",
    "\n",
    "df['cleaned_description'] = df['description'].apply(remove_stopwords)\n",
    "\n",
    "# Step 3: Analyze word frequency before and after removal\n",
    "def get_word_freq(text_series):\n",
    "    all_words = ' '.join(text_series).split()\n",
    "    return Counter(all_words)\n",
    "\n",
    "freq_before = get_word_freq(df['description'])\n",
    "freq_after = get_word_freq(df['cleaned_description'])\n",
    "\n",
    "print(\"Word Frequencies BEFORE stopword removal:\\n\", freq_before.most_common(10))\n",
    "print(\"\\nWord Frequencies AFTER stopword removal:\\n\", freq_after.most_common(10))\n"
   ]
  }
 ],
 "metadata": {
  "kernelspec": {
   "display_name": "base",
   "language": "python",
   "name": "python3"
  },
  "language_info": {
   "name": "python",
   "version": "3.12.7"
  }
 },
 "nbformat": 4,
 "nbformat_minor": 2
}
