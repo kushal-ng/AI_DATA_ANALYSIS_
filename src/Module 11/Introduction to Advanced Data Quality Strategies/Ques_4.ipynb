{
 "cells": [
  {
   "cell_type": "markdown",
   "metadata": {},
   "source": [
    "## AI & Machine Learning for Data Quality\n",
    "**Description**: AI and machine learning can automate and enhance data quality checks by learning patterns and identifying anomalies more effectively than static rules.\n",
    "\n",
    "**Task 1**: Training a model to predict and flag unusual trend patterns in sales data that\n",
    "deviate from historical norms."
   ]
  },
  {
   "cell_type": "code",
   "execution_count": null,
   "metadata": {},
   "outputs": [],
   "source": [
    "# write your code from here\n",
    "import pandas as pd\n",
    "import numpy as np\n",
    "from sklearn.ensemble import IsolationForest\n",
    "import matplotlib.pyplot as plt\n",
    "\n",
    "# Generate synthetic sales data\n",
    "np.random.seed(42)\n",
    "dates = pd.date_range(start=\"2023-01-01\", periods=100)\n",
    "sales = np.random.normal(loc=200, scale=20, size=100)\n",
    "# Inject anomalies\n",
    "sales[[20, 50, 75]] = [300, 50, 400]\n",
    "df = pd.DataFrame({'date': dates, 'sales': sales})\n",
    "\n",
    "# Feature engineering: add rolling mean and std\n",
    "df['rolling_mean'] = df['sales'].rolling(window=5, min_periods=1).mean()\n",
    "df['rolling_std'] = df['sales'].rolling(window=5, min_periods=1).std()\n",
    "\n",
    "# Isolation Forest for anomaly detection\n",
    "model = IsolationForest(contamination=0.05, random_state=42)\n",
    "df['anomaly'] = model.fit_predict(df[['sales', 'rolling_mean', 'rolling_std']])\n",
    "df['anomaly'] = df['anomaly'].map({1: 0, -1: 1})  # 1 = anomaly\n",
    "\n",
    "# Plot results\n",
    "plt.figure(figsize=(12, 5))\n",
    "plt.plot(df['date'], df['sales'], label='Sales')\n",
    "plt.scatter(df[df['anomaly'] == 1]['date'], df[df['anomaly'] == 1]['sales'],\n",
    "            color='red', label='Anomaly', s=60)\n",
    "plt.title(\"Sales Trend with Anomaly Detection\")\n",
    "plt.xlabel(\"Date\")\n",
    "plt.ylabel(\"Sales\")\n",
    "plt.legend()\n",
    "plt.tight_layout()\n",
    "plt.show()\n",
    "\n",
    "# Output detected anomalies\n",
    "print(\"\\nDetected Anomalies:\")\n",
    "print(df[df['anomaly'] == 1][['date', 'sales']])\n"
   ]
  },
  {
   "cell_type": "markdown",
   "metadata": {},
   "source": [
    "**Task 2**: Using clustering algorithms to detect duplicate records where entries are not\n",
    "exactly identical."
   ]
  },
  {
   "cell_type": "code",
   "execution_count": null,
   "metadata": {},
   "outputs": [],
   "source": [
    "# write your code from here\n",
    "import pandas as pd\n",
    "from sklearn.feature_extraction.text import TfidfVectorizer\n",
    "from sklearn.cluster import DBSCAN\n",
    "from sklearn.metrics.pairwise import cosine_distances\n",
    "\n",
    "# Sample data with near-duplicate records\n",
    "data = {\n",
    "    'name': [\n",
    "        'John Doe', 'Jon Doe', 'J. Doe', 'Jane Smith',\n",
    "        'Jane S.', 'Smith Jane', 'Alice Johnson', 'Alyce Jonson'\n",
    "    ]\n",
    "}\n",
    "df = pd.DataFrame(data)\n",
    "\n",
    "# Vectorize text using TF-IDF\n",
    "vectorizer = TfidfVectorizer(analyzer='char_wb', ngram_range=(2, 4))\n",
    "X = vectorizer.fit_transform(df['name'])\n",
    "\n",
    "# Use cosine distance in DBSCAN for clustering\n",
    "distance_matrix = cosine_distances(X)\n",
    "db = DBSCAN(eps=0.3, min_samples=1, metric='precomputed')\n",
    "df['cluster'] = db.fit_predict(distance_matrix)\n",
    "\n",
    "# Display clusters\n",
    "for cluster in sorted(df['cluster'].unique()):\n",
    "    print(f\"\\nCluster {cluster}:\")\n",
    "    print(df[df['cluster'] == cluster]['name'].to_list())\n"
   ]
  },
  {
   "cell_type": "markdown",
   "metadata": {},
   "source": [
    "**Task 3**: Implementing classification models to validate data based on learned\n",
    "characteristics from labeled datasets."
   ]
  },
  {
   "cell_type": "code",
   "execution_count": null,
   "metadata": {},
   "outputs": [],
   "source": [
    "# write your code from here\n",
    "import pandas as pd\n",
    "from sklearn.model_selection import train_test_split\n",
    "from sklearn.ensemble import RandomForestClassifier\n",
    "from sklearn.metrics import classification_report\n",
    "\n",
    "# Create a mock labeled dataset\n",
    "data = {\n",
    "    'age': [25, 45, 130, 35, -1, 22, 40, 300, 33, 29],\n",
    "    'salary': [50000, 80000, 60000, 40000, 100000, 30000, -5000, 90000, 45000, 48000],\n",
    "    'experience': [2, 20, 5, 10, 40, 1, 15, 50, 7, 6],\n",
    "    'label': [0, 0, 1, 0, 1, 0, 0, 1, 0, 0]  # 1 indicates data quality issue\n",
    "}\n",
    "df = pd.DataFrame(data)\n",
    "\n",
    "# Prepare features and target\n",
    "X = df.drop('label', axis=1)\n",
    "y = df['label']\n",
    "\n",
    "# Split the data\n",
    "X_train, X_test, y_train, y_test = train_test_split(X, y, test_size=0.3, random_state=42)\n",
    "\n",
    "# Train classifier\n",
    "model = RandomForestClassifier(random_state=42)\n",
    "model.fit(X_train, y_train)\n",
    "\n",
    "# Evaluate\n",
    "y_pred = model.predict(X_test)\n",
    "print(classification_report(y_test, y_pred))\n"
   ]
  }
 ],
 "metadata": {
  "kernelspec": {
   "display_name": "base",
   "language": "python",
   "name": "python3"
  },
  "language_info": {
   "name": "python",
   "version": "3.12.7"
  }
 },
 "nbformat": 4,
 "nbformat_minor": 2
}
