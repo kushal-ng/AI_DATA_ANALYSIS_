{
 "cells": [
  {
   "cell_type": "markdown",
   "metadata": {},
   "source": [
    "### Handling Unstructured Data with Python\n",
    "**Description**: Extract structured data from unstructured text using Python.\n",
    "\n",
    "**Steps**:\n",
    "1. Load and analyze an unstructured text document.\n",
    "2. Extract information using regex."
   ]
  },
  {
   "cell_type": "code",
   "execution_count": null,
   "metadata": {},
   "outputs": [],
   "source": [
    "# write your code from here\n",
    "import re\n",
    "\n",
    "# Step 1: Load and analyze unstructured text\n",
    "text = \"\"\"\n",
    "John Doe, born on 1985-07-12, lives in New York. His email is john.doe@example.com.\n",
    "Jane Smith was born on 1990-03-25 and lives in California. Contact: jane_smith123@mail.com.\n",
    "\"\"\"\n",
    "\n",
    "# Step 2: Extract information using regex\n",
    "\n",
    "# Extract names (Assuming format: Firstname Lastname)\n",
    "names = re.findall(r\"\\b[A-Z][a-z]+ [A-Z][a-z]+\\b\", text)\n",
    "\n",
    "# Extract birth dates (format YYYY-MM-DD)\n",
    "birth_dates = re.findall(r\"\\b\\d{4}-\\d{2}-\\d{2}\\b\", text)\n",
    "\n",
    "# Extract emails\n",
    "emails = re.findall(r\"[a-zA-Z0-9_.+-]+@[a-zA-Z0-9-]+\\.[a-zA-Z0-9-.]+\", text)\n",
    "\n",
    "# Extract locations (simple example, looking for \"lives in <Place>\")\n",
    "locations = re.findall(r\"lives in ([A-Za-z ]+)\", text)\n",
    "\n",
    "# Print extracted structured data\n",
    "for i in range(len(names)):\n",
    "    print(f\"Name: {names[i]}, Birth Date: {birth_dates[i]}, Location: {locations[i]}, Email: {emails[i]}\")\n"
   ]
  }
 ],
 "metadata": {
  "kernelspec": {
   "display_name": "base",
   "language": "python",
   "name": "python3"
  },
  "language_info": {
   "name": "python",
   "version": "3.12.7"
  }
 },
 "nbformat": 4,
 "nbformat_minor": 2
}
