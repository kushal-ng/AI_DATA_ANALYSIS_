{
 "cells": [
  {
   "cell_type": "markdown",
   "metadata": {},
   "source": [
    "## Data Quality Dashboard in Python\n",
    "\n",
    "**Description**: Create a basic dashboard using a Python library (e.g., Plotly Dash) to visualize data quality metrics for a given dataset."
   ]
  },
  {
   "cell_type": "code",
   "execution_count": null,
   "metadata": {},
   "outputs": [],
   "source": [
    "# Write your code from here\n",
    "import dash\n",
    "from dash import dcc, html\n",
    "from dash.dependencies import Input, Output\n",
    "import pandas as pd\n",
    "import numpy as np\n",
    "import plotly.express as px\n",
    "\n",
    "# Sample dataset with missing values and duplicates\n",
    "data = pd.DataFrame({\n",
    "    'A': [1, 2, np.nan, 4, 5, 1],\n",
    "    'B': ['x', 'y', 'z', 'x', None, 'x'],\n",
    "    'C': [10, 20, 30, 40, 50, 10]\n",
    "})\n",
    "\n",
    "app = dash.Dash(__name__)\n",
    "\n",
    "def calculate_missing_percent(df):\n",
    "    return (df.isna().sum() / len(df)) * 100\n",
    "\n",
    "def count_duplicates(df):\n",
    "    return df.duplicated().sum()\n",
    "\n",
    "app.layout = html.Div([\n",
    "    html.H1(\"Data Quality Dashboard\"),\n",
    "    \n",
    "    html.Div([\n",
    "        html.H3(\"Missing Values Percentage per Column\"),\n",
    "        dcc.Graph(id='missing-values-chart'),\n",
    "    ]),\n",
    "    \n",
    "    html.Div([\n",
    "        html.H3(\"Number of Duplicate Rows\"),\n",
    "        html.Div(id='duplicate-count', style={'fontSize': 24, 'color': 'red'})\n",
    "    ])\n",
    "])\n",
    "\n",
    "@app.callback(\n",
    "    [Output('missing-values-chart', 'figure'),\n",
    "     Output('duplicate-count', 'children')],\n",
    "    [Input('missing-values-chart', 'id')]  # Dummy input to trigger callback once\n",
    ")\n",
    "def update_dashboard(_):\n",
    "    missing_percent = calculate_missing_percent(data)\n",
    "    dup_count = count_duplicates(data)\n",
    "    \n",
    "    fig = px.bar(\n",
    "        x=missing_percent.index,\n",
    "        y=missing_percent.values,\n",
    "        labels={'x': 'Columns', 'y': 'Missing %'},\n",
    "        title='Missing Data Percentage by Column'\n",
    "    )\n",
    "    return fig, f\"{dup_count} duplicate rows detected\"\n",
    "\n",
    "if __name__ == '__main__':\n",
    "    app.run_server(debug=True)\n"
   ]
  }
 ],
 "metadata": {
  "kernelspec": {
   "display_name": "base",
   "language": "python",
   "name": "python3"
  },
  "language_info": {
   "name": "python",
   "version": "3.12.7"
  }
 },
 "nbformat": 4,
 "nbformat_minor": 2
}
