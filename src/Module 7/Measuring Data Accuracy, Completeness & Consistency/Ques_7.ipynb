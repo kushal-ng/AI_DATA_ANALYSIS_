{
 "cells": [
  {
   "cell_type": "markdown",
   "metadata": {},
   "source": [
    "## Advanced Consistency Check with Hierarchical Data\n",
    "\n",
    "**Description**: You have two datasets `orders.csv` and `order_items.csv` . Perform a consistency check to ensure each order in `orders.csv` has corresponding items in `order_items.csv` ."
   ]
  },
  {
   "cell_type": "code",
   "execution_count": null,
   "metadata": {},
   "outputs": [],
   "source": [
    "# Write your code from here\n",
    "import pandas as pd\n",
    "\n",
    "# Load datasets\n",
    "orders = pd.read_csv('orders.csv')               # Contains: order_id, customer_id, etc.\n",
    "order_items = pd.read_csv('order_items.csv')     # Contains: item_id, order_id, product_id, etc.\n",
    "\n",
    "# Identify orders with no corresponding items\n",
    "orders_with_items = order_items['order_id'].unique()\n",
    "inconsistent_orders = orders[~orders['order_id'].isin(orders_with_items)]\n",
    "\n",
    "# Output inconsistent orders\n",
    "print(\"Inconsistent Orders (No Items):\")\n",
    "print(inconsistent_orders)\n",
    "\n",
    "# Optional: Show a summary\n",
    "total_orders = len(orders)\n",
    "invalid_orders = len(inconsistent_orders)\n",
    "print(f\"\\nSummary: {invalid_orders}/{total_orders} orders are inconsistent ({(invalid_orders/total_orders)*100:.2f}%)\")\n"
   ]
  }
 ],
 "metadata": {
  "kernelspec": {
   "display_name": "base",
   "language": "python",
   "name": "python3"
  },
  "language_info": {
   "name": "python",
   "version": "3.12.7"
  }
 },
 "nbformat": 4,
 "nbformat_minor": 2
}
