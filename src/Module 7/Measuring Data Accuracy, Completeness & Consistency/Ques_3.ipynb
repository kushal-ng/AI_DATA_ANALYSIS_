{
 "cells": [
  {
   "cell_type": "markdown",
   "metadata": {},
   "source": [
    "## Compare Data Completeness Over Time\n",
    "\n",
    "**Description**: Analyze the trend of missing data in `\"sales_data.csv\"` over several months stored in a \"date\" column. Visualize missing data rates by month."
   ]
  },
  {
   "cell_type": "code",
   "execution_count": null,
   "metadata": {},
   "outputs": [],
   "source": [
    "# Write your code from here\n",
    "import pandas as pd\n",
    "import matplotlib.pyplot as plt\n",
    "\n",
    "def plot_missing_data_trend(file_path):\n",
    "    # Load data\n",
    "    df = pd.read_csv(file_path)\n",
    "\n",
    "    # Ensure 'date' column is in datetime format\n",
    "    df['date'] = pd.to_datetime(df['date'], errors='coerce')\n",
    "\n",
    "    # Drop rows where 'date' couldn't be parsed\n",
    "    df = df.dropna(subset=['date'])\n",
    "\n",
    "    # Extract month-year for grouping\n",
    "    df['month'] = df['date'].dt.to_period('M')\n",
    "\n",
    "    # Calculate missing value rate per month\n",
    "    missing_rate_by_month = df.groupby('month').apply(\n",
    "        lambda x: x.isna().sum().sum() / (x.shape[0] * x.shape[1]) * 100\n",
    "    )\n",
    "\n",
    "    # Plot\n",
    "    missing_rate_by_month.plot(kind='line', marker='o', figsize=(10, 5), color='crimson')\n",
    "    plt.title(\"Monthly Missing Data Rate in sales_data.csv\")\n",
    "    plt.xlabel(\"Month\")\n",
    "    plt.ylabel(\"Missing Data Rate (%)\")\n",
    "    plt.grid(True)\n",
    "    plt.tight_layout()\n",
    "    plt.show()\n",
    "\n",
    "# Example usage:\n",
    "plot_missing_data_trend(\"sales_data.csv\")\n"
   ]
  }
 ],
 "metadata": {
  "kernelspec": {
   "display_name": "base",
   "language": "python",
   "name": "python3"
  },
  "language_info": {
   "name": "python",
   "version": "3.12.7"
  }
 },
 "nbformat": 4,
 "nbformat_minor": 2
}
