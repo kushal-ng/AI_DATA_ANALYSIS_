{
 "cells": [
  {
   "cell_type": "markdown",
   "metadata": {},
   "source": [
    "# Ensuring Consistency\n",
    "\n",
    "**Activity Overview**: Ensure consistency by identifying and resolving conflicting values across datasets.\n",
    "\n",
    "## Title: Customer Address Discrepancies\n",
    "\n",
    "**Task**: Address customer address mismatches between CRM and marketing databases.\n",
    "\n",
    "**Steps**:\n",
    "1. Compare customer addresses in the CRM with those in the marketing database.\n",
    "2. Identify records with conflicting address information.\n",
    "3. Propose a method to consolidate records with verified addresses."
   ]
  },
  {
   "cell_type": "code",
   "execution_count": null,
   "metadata": {},
   "outputs": [],
   "source": [
    "# Write your code from here\n",
    "import pandas as pd\n",
    "\n",
    "# Load datasets\n",
    "crm_df = pd.read_csv('crm_customers.csv')  # Assumes columns: customer_id, address\n",
    "marketing_df = pd.read_csv('marketing_customers.csv')  # Same columns\n",
    "\n",
    "# Merge datasets on customer_id to compare addresses side by side\n",
    "merged_df = pd.merge(crm_df, marketing_df, on='customer_id', suffixes=('_crm', '_marketing'))\n",
    "\n",
    "# Identify records where addresses differ\n",
    "conflicts = merged_df[merged_df['address_crm'] != merged_df['address_marketing']]\n",
    "\n",
    "print(f\"Number of address conflicts found: {len(conflicts)}\")\n",
    "print(conflicts[['customer_id', 'address_crm', 'address_marketing']])\n",
    "\n",
    "# Proposed consolidation method:\n",
    "# Example: Choose address from the trusted source (e.g., CRM) or\n",
    "# Implement a manual review process on these conflicting records.\n"
   ]
  }
 ],
 "metadata": {
  "kernelspec": {
   "display_name": "base",
   "language": "python",
   "name": "python3"
  },
  "language_info": {
   "name": "python",
   "version": "3.12.7"
  }
 },
 "nbformat": 4,
 "nbformat_minor": 2
}
