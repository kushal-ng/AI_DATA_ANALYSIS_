{
 "cells": [
  {
   "cell_type": "markdown",
   "metadata": {},
   "source": [
    "## Ensuring Consistency in Multi-source Data Integration\n",
    "\n",
    "**Description**: Validate the integration of two datasets `products_A.csv` and `products_B.csv` . Ensure consistency in product \"category\" information."
   ]
  },
  {
   "cell_type": "code",
   "execution_count": null,
   "metadata": {},
   "outputs": [],
   "source": [
    "# Write your code from here\n",
    "import pandas as pd\n",
    "\n",
    "def check_category_consistency(file_a, file_b):\n",
    "    # Load both datasets\n",
    "    df_a = pd.read_csv(file_a)\n",
    "    df_b = pd.read_csv(file_b)\n",
    "\n",
    "    # Merge on common key (e.g., product_id)\n",
    "    merged = pd.merge(df_a, df_b, on=\"product_id\", suffixes=('_A', '_B'))\n",
    "\n",
    "    # Find inconsistencies in 'category' field\n",
    "    inconsistent = merged[merged['category_A'] != merged['category_B']]\n",
    "\n",
    "    # Report\n",
    "    if inconsistent.empty:\n",
    "        print(\"✅ All product categories are consistent across datasets.\")\n",
    "    else:\n",
    "        print(f\"❌ Found {len(inconsistent)} inconsistent records in 'category':\")\n",
    "        print(inconsistent[['product_id', 'category_A', 'category_B']])\n",
    "    \n",
    "    return inconsistent\n",
    "\n",
    "# Example usage\n",
    "inconsistent_records = check_category_consistency(\"products_A.csv\", \"products_B.csv\")\n"
   ]
  }
 ],
 "metadata": {
  "language_info": {
   "name": "python"
  }
 },
 "nbformat": 4,
 "nbformat_minor": 2
}
