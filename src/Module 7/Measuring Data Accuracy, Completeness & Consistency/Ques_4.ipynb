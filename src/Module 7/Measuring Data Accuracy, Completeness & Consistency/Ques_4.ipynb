{
 "cells": [
  {
   "cell_type": "markdown",
   "metadata": {},
   "source": [
    "## Ensuring Consistency in Multi-source Data Integration\n",
    "\n",
    "**Description**: Validate the integration of two datasets `products_A.csv` and `products_B.csv` . Ensure consistency in product \"category\" information."
   ]
  },
  {
   "cell_type": "code",
   "execution_count": 2,
   "metadata": {},
   "outputs": [],
   "source": [
    "# Write your code from here\n",
    "import pandas as pd\n",
    "\n",
    "def check_category_consistency(file_a, file_b):\n",
    "    # Load both datasets\n",
    "    df_a = pd.read_csv(file_a)\n",
    "    df_b = pd.read_csv(file_b)\n",
    "\n",
    "    # Merge on common key (e.g., product_id)\n",
    "    merged = pd.merge(df_a, df_b, on=\"product_id\", suffixes=('_A', '_B'))\n",
    "\n",
    "    # Find inconsistencies in 'category' field\n",
    "    inconsistent = merged[merged['category_A'] != merged['category_B']]\n",
    "\n",
    "    # Report\n",
    "    if inconsistent.empty:\n",
    "        print(\"✅ All product categories are consistent across datasets.\")\n",
    "    else:\n",
    "        print(f\"❌ Found {len(inconsistent)} inconsistent records in 'category':\")\n",
    "        print(inconsistent[['product_id', 'category_A', 'category_B']])\n",
    "    \n",
    "    return inconsistent\n"
   ]
  }
 ],
 "metadata": {
  "kernelspec": {
   "display_name": "Python 3",
   "language": "python",
   "name": "python3"
  },
  "language_info": {
   "codemirror_mode": {
    "name": "ipython",
    "version": 3
   },
   "file_extension": ".py",
   "mimetype": "text/x-python",
   "name": "python",
   "nbconvert_exporter": "python",
   "pygments_lexer": "ipython3",
   "version": "3.10.12"
  }
 },
 "nbformat": 4,
 "nbformat_minor": 2
}
