{
 "cells": [
  {
   "cell_type": "markdown",
   "metadata": {},
   "source": [
    "## Find Conflicting Values Across Datasets\n",
    "\n",
    "**Description**: You have two datasets: `crm_customers.csv` and `erp_customers.csv` . Find customers with conflicting \"email\" information."
   ]
  },
  {
   "cell_type": "code",
   "execution_count": null,
   "metadata": {},
   "outputs": [],
   "source": [
    "# Write your code from here\n",
    "import pandas as pd\n",
    "\n",
    "def find_conflicting_emails(crm_file, erp_file):\n",
    "    crm_df = pd.read_csv(crm_file)\n",
    "    erp_df = pd.read_csv(erp_file)\n",
    "\n",
    "    # Merge datasets on customer_id\n",
    "    merged_df = pd.merge(crm_df, erp_df, on='customer_id', suffixes=('_crm', '_erp'))\n",
    "\n",
    "    # Find rows where email values differ\n",
    "    conflicts = merged_df[merged_df['email_crm'] != merged_df['email_erp']]\n",
    "\n",
    "    return conflicts[['customer_id', 'email_crm', 'email_erp']]\n"
   ]
  }
 ],
 "metadata": {
  "kernelspec": {
   "display_name": "base",
   "language": "python",
   "name": "python3"
  },
  "language_info": {
   "name": "python",
   "version": "3.12.7"
  }
 },
 "nbformat": 4,
 "nbformat_minor": 2
}
