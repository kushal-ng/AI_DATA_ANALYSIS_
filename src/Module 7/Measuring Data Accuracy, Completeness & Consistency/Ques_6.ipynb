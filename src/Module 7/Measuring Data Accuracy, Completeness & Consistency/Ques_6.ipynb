{
 "cells": [
  {
   "cell_type": "markdown",
   "metadata": {},
   "source": [
    "## Architecture to Monitor Data Quality Over Time\n",
    "\n",
    "**Description**: Design a monitoring system in Python that checks and logs data quality metrics (accuracy, completeness) for a dataset over time.\n",
    "\n",
    "**Steps to follow:**\n",
    "1. Implement a Scheduled Script:\n",
    "    - Use schedule library to periodically run a script.\n",
    "2. Script to Calculate Metrics:\n",
    "    - For simplicity, use a function calculate_quality_metrics() that calculates and logs metrics such as missing rate or mismatch rate.\n",
    "3. Store Logs:\n",
    "    - Use Python's logging library to save these metrics over time."
   ]
  },
  {
   "cell_type": "code",
   "execution_count": null,
   "metadata": {},
   "outputs": [],
   "source": [
    "# Write your code from here\n",
    "import pandas as pd\n",
    "import schedule\n",
    "import time\n",
    "import logging\n",
    "from datetime import datetime\n",
    "\n",
    "# Configure logging\n",
    "logging.basicConfig(\n",
    "    filename=\"data_quality_logs.log\",\n",
    "    level=logging.INFO,\n",
    "    format=\"%(asctime)s - %(levelname)s - %(message)s\"\n",
    ")\n",
    "\n",
    "# Define path to your dataset\n",
    "DATA_PATH = \"your_dataset.csv\"  # Update with your dataset path\n",
    "\n",
    "# Define trusted dataset for accuracy comparison if needed\n",
    "TRUSTED_DATA_PATH = \"trusted_dataset.csv\"  # Optional for accuracy check\n",
    "\n",
    "# Function to calculate quality metrics\n",
    "def calculate_quality_metrics():\n",
    "    try:\n",
    "        df = pd.read_csv(DATA_PATH)\n",
    "\n",
    "        # Completeness: % of missing values\n",
    "        completeness = 100 - df.isnull().mean().mean() * 100\n",
    "\n",
    "        # Accuracy (optional): if a trusted source exists\n",
    "        try:\n",
    "            trusted_df = pd.read_csv(TRUSTED_DATA_PATH)\n",
    "            # Assume we compare a common field, e.g., 'price'\n",
    "            merged = df.merge(trusted_df, on='id', suffixes=('', '_trusted'))\n",
    "            accuracy = (merged['price'] == merged['price_trusted']).mean() * 100\n",
    "        except Exception:\n",
    "            accuracy = \"Not calculated (trusted data unavailable)\"\n",
    "\n",
    "        # Log metrics\n",
    "        logging.info(f\"Completeness: {completeness:.2f}% | Accuracy: {accuracy}\")\n",
    "        print(f\"[{datetime.now()}] Completeness: {completeness:.2f}% | Accuracy: {accuracy}\")\n",
    "\n",
    "    except Exception as e:\n",
    "        logging.error(f\"Error during data quality check: {str(e)}\")\n",
    "\n",
    "# 3. Schedule the task every hour (or daily)\n",
    "schedule.every(1).hours.do(calculate_quality_metrics)\n",
    "\n",
    "# 4. Run the schedule continuously\n",
    "print(\"Monitoring started... Press Ctrl+C to stop.\")\n",
    "while True:\n",
    "    schedule.run_pending()\n",
    "    time.sleep(1)\n"
   ]
  }
 ],
 "metadata": {
  "kernelspec": {
   "display_name": "base",
   "language": "python",
   "name": "python3"
  },
  "language_info": {
   "name": "python",
   "version": "3.12.7"
  }
 },
 "nbformat": 4,
 "nbformat_minor": 2
}
