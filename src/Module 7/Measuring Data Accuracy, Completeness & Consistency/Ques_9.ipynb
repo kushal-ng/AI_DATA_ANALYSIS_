{
 "cells": [
  {
   "cell_type": "markdown",
   "metadata": {},
   "source": [
    "# Measuring Completeness\n",
    "\n",
    "**Activity Overview**: Evaluate data completeness by checking missing data rates and handling partially available records.\n",
    "\n",
    "## Title: Customer Profiles\n",
    "\n",
    "**Task**: Calculate the missing data rate for customer profiles.\n",
    "\n",
    "**Steps**:\n",
    "1. List all required fields for a complete customer profile (e.g., name, address, email,\n",
    "phone number).\n",
    "2. Analyze the dataset to count how many profiles have missing fields.\n",
    "3. Calculate the percentage of missing data fields across all profiles."
   ]
  },
  {
   "cell_type": "code",
   "execution_count": null,
   "metadata": {},
   "outputs": [],
   "source": [
    "# Write your code from here\n",
    "import pandas as pd\n",
    "\n",
    "# Step 1: Load the customer data\n",
    "customer_data = pd.read_csv('customer_data.csv')\n",
    "\n",
    "# Step 2: Define required fields for a complete profile\n",
    "required_fields = ['name', 'address', 'email', 'phone_number']\n",
    "\n",
    "# Step 3: Calculate missing data counts per field\n",
    "missing_counts = customer_data[required_fields].isnull().sum()\n",
    "\n",
    "# Step 4: Calculate total required data points\n",
    "total_required = customer_data.shape[0] * len(required_fields)\n",
    "\n",
    "# Step 5: Calculate total missing data points across all required fields\n",
    "total_missing = missing_counts.sum()\n",
    "\n",
    "# Step 6: Calculate missing data percentage\n",
    "missing_percentage = (total_missing / total_required) * 100\n",
    "\n",
    "print(\"Missing data percentage across required customer profile fields: {:.2f}%\".format(missing_percentage))\n"
   ]
  }
 ],
 "metadata": {
  "kernelspec": {
   "display_name": "base",
   "language": "python",
   "name": "python3"
  },
  "language_info": {
   "name": "python",
   "version": "3.12.7"
  }
 },
 "nbformat": 4,
 "nbformat_minor": 2
}
