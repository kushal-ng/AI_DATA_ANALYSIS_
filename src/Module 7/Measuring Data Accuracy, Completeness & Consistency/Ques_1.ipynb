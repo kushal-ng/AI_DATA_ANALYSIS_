{
 "cells": [
  {
   "cell_type": "markdown",
   "metadata": {},
   "source": [
    "### Task 1: Measure Data Accuracy using a Trusted Source\n",
    "\n",
    "**Description**: You have two datasets of product prices: `company_prices.csv` and\n",
    "`trusted_prices.csv` . Check if the prices in `company_prices.csv` match the prices in\n",
    "`trusted_prices.csv` . Assume both files have a \"product_id\" and \"price\" column."
   ]
  },
  {
   "cell_type": "code",
   "execution_count": null,
   "metadata": {},
   "outputs": [],
   "source": [
    "# Write your code from here\n",
    "import pandas as pd\n",
    "\n",
    "def measure_price_accuracy(company_file, trusted_file):\n",
    "    # Load datasets\n",
    "    company_df = pd.read_csv(company_file)\n",
    "    trusted_df = pd.read_csv(trusted_file)\n",
    "\n",
    "    # Merge on product_id to align prices\n",
    "    merged_df = pd.merge(company_df, trusted_df, on=\"product_id\", suffixes=('_company', '_trusted'))\n",
    "\n",
    "    # Compare prices\n",
    "    total_products = len(merged_df)\n",
    "    correct_prices = (merged_df['price_company'] == merged_df['price_trusted']).sum()\n",
    "\n",
    "    # Compute accuracy score as a percentage\n",
    "    accuracy_score = (correct_prices / total_products) * 100 if total_products > 0 else 0\n",
    "\n",
    "    return round(accuracy_score, 2)\n"
   ]
  },
  {
   "cell_type": "markdown",
   "metadata": {},
   "source": [
    "### Task 2: Detect Incorrect Values\n",
    "\n",
    "**Description**: In `company_prices.csv` , detect any negative price values which are incorrect values for prices."
   ]
  },
  {
   "cell_type": "code",
   "execution_count": null,
   "metadata": {},
   "outputs": [],
   "source": [
    "# Write your code from here\n",
    "import pandas as pd\n",
    "\n",
    "def detect_negative_prices(file_path):\n",
    "    # Load the dataset\n",
    "    df = pd.read_csv(file_path)\n",
    "\n",
    "    # Filter rows where price is negative\n",
    "    invalid_prices = df[df['price'] < 0]\n",
    "\n",
    "    return invalid_prices\n"
   ]
  },
  {
   "cell_type": "markdown",
   "metadata": {},
   "source": [
    "### Task 3: Check Missing Data Rates\n",
    "\n",
    "**Description**: Calculate the percentage of missing values in `customer_data.csv` ."
   ]
  },
  {
   "cell_type": "code",
   "execution_count": null,
   "metadata": {},
   "outputs": [],
   "source": [
    "# Write your code from here\n",
    "import pandas as pd\n",
    "\n",
    "def missing_data_percentage(file_path):\n",
    "    # Load the dataset\n",
    "    df = pd.read_csv(file_path)\n",
    "    \n",
    "    # Calculate missing values per column as a percentage\n",
    "    missing_per_column = df.isnull().mean() * 100\n",
    "\n",
    "    # Calculate overall missing data percentage\n",
    "    total_missing_percentage = df.isnull().values.sum() / df.size * 100\n",
    "\n",
    "    return missing_per_column, total_missing_percentage\n"
   ]
  },
  {
   "cell_type": "markdown",
   "metadata": {},
   "source": [
    "### Task 4: Handling Partially Available Records\n",
    "\n",
    "**Description**: In `customer_data.csv` , identify records with missing \"email\" or \"phone number\" and decide whether to drop or fill them."
   ]
  },
  {
   "cell_type": "code",
   "execution_count": null,
   "metadata": {},
   "outputs": [],
   "source": [
    "# Write your code from here\n",
    "import pandas as pd\n",
    "\n",
    "def handle_partial_records(file_path, strategy=\"drop\"):\n",
    "    df = pd.read_csv(file_path)\n",
    "\n",
    "    # Identify records with missing 'email' or 'phone'\n",
    "    partial_missing = df[df['email'].isnull() | df['phone'].isnull()]\n",
    "\n",
    "    if strategy == \"drop\":\n",
    "        # Drop records where 'email' or 'phone' is missing\n",
    "        df_cleaned = df.dropna(subset=['email', 'phone'])\n",
    "    elif strategy == \"fill\":\n",
    "        # Fill missing values with placeholders\n",
    "        df_cleaned = df.copy()\n",
    "        df_cleaned['email'].fillna('no_email@example.com', inplace=True)\n",
    "        df_cleaned['phone'].fillna('000-000-0000', inplace=True)\n",
    "    else:\n",
    "        raise ValueError(\"Strategy must be 'drop' or 'fill'.\")\n",
    "\n",
    "    return df_cleaned, partial_missing\n"
   ]
  }
 ],
 "metadata": {
  "kernelspec": {
   "display_name": "base",
   "language": "python",
   "name": "python3"
  },
  "language_info": {
   "name": "python",
   "version": "3.12.7"
  }
 },
 "nbformat": 4,
 "nbformat_minor": 2
}
