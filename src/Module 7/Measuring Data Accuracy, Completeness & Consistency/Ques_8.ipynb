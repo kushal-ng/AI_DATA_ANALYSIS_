{
 "cells": [
  {
   "cell_type": "markdown",
   "metadata": {},
   "source": [
    "# Measuring Data Accuracy\n",
    "\n",
    "**Activity Overview**: Assess data accuracy by comparing it to a trusted source and detecting incorrect values or mismatches.\n",
    "\n",
    "## Title: Product Pricing\n",
    "\n",
    "**Task**: Compare a dataset of product prices with the latest official price list.\n",
    "\n",
    "**Steps**:\n",
    "1. Obtain the latest product price list from the official company website.\n",
    "2. Compare the dataset's product prices against the verified list.\n",
    "3. Identify any discrepancies and mark them for correction."
   ]
  },
  {
   "cell_type": "code",
   "execution_count": null,
   "metadata": {},
   "outputs": [],
   "source": [
    "# Write your code from here\n",
    "import pandas as pd\n",
    "\n",
    "# Step 1: Load datasets\n",
    "# Assume you have CSV files for both datasets\n",
    "company_prices = pd.read_csv('company_prices.csv')        # Your dataset with columns: product_id, price\n",
    "trusted_prices = pd.read_csv('trusted_prices.csv')        # Trusted official price list with columns: product_id, price\n",
    "\n",
    "# Step 2: Merge datasets on product_id for comparison\n",
    "merged_prices = pd.merge(company_prices, trusted_prices, on='product_id', suffixes=('_company', '_trusted'))\n",
    "\n",
    "# Step 3: Identify discrepancies where prices do not match\n",
    "merged_prices['price_match'] = merged_prices['price_company'] == merged_prices['price_trusted']\n",
    "\n",
    "# Extract mismatched prices\n",
    "discrepancies = merged_prices[~merged_prices['price_match']]\n",
    "\n",
    "# Step 4: Output the discrepancies for review\n",
    "if discrepancies.empty:\n",
    "    print(\"All product prices match the trusted source.\")\n",
    "else:\n",
    "    print(\"Discrepancies found:\")\n",
    "    print(discrepancies[['product_id', 'price_company', 'price_trusted']])\n"
   ]
  }
 ],
 "metadata": {
  "kernelspec": {
   "display_name": "base",
   "language": "python",
   "name": "python3"
  },
  "language_info": {
   "name": "python",
   "version": "3.12.7"
  }
 },
 "nbformat": 4,
 "nbformat_minor": 2
}
