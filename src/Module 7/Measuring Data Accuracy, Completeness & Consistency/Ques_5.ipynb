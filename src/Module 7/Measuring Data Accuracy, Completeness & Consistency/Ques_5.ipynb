{
 "cells": [
  {
   "cell_type": "markdown",
   "metadata": {},
   "source": [
    "## Validate Data Completeness for Critical Fields\n",
    "\n",
    "**Description**: In `transaction_data.csv` , calculate the missing percentage of critical fields: \"transaction_id\", \"amount\", and \"date\", and visualize them."
   ]
  },
  {
   "cell_type": "code",
   "execution_count": null,
   "metadata": {},
   "outputs": [],
   "source": [
    "# Write your code from here\n",
    "import pandas as pd\n",
    "import matplotlib.pyplot as plt\n",
    "import seaborn as sns\n",
    "\n",
    "def validate_data_completeness(file_path):\n",
    "    # Load the dataset\n",
    "    df = pd.read_csv(file_path)\n",
    "    \n",
    "    # Define critical fields\n",
    "    critical_fields = ['transaction_id', 'amount', 'date']\n",
    "    \n",
    "    # Calculate missing value percentages\n",
    "    missing_percentages = df[critical_fields].isnull().mean() * 100\n",
    "\n",
    "    # Print missing percentages\n",
    "    print(\"Missing Value Percentages for Critical Fields:\")\n",
    "    print(missing_percentages)\n",
    "\n",
    "    # Plot the missing value percentages\n",
    "    plt.figure(figsize=(8, 5))\n",
    "    sns.barplot(x=missing_percentages.index, y=missing_percentages.values, palette=\"Reds\")\n",
    "    plt.title(\"Missing Value Percentage for Critical Fields\")\n",
    "    plt.ylabel(\"Percentage (%)\")\n",
    "    plt.ylim(0, 100)\n",
    "    plt.tight_layout()\n",
    "    plt.show()\n",
    "\n",
    "# Example usage\n",
    "validate_data_completeness(\"transaction_data.csv\")\n"
   ]
  }
 ],
 "metadata": {
  "kernelspec": {
   "display_name": "base",
   "language": "python",
   "name": "python3"
  },
  "language_info": {
   "name": "python",
   "version": "3.12.7"
  }
 },
 "nbformat": 4,
 "nbformat_minor": 2
}
