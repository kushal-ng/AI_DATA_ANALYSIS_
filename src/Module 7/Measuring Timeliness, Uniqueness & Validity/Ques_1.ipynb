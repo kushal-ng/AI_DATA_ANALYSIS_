{
 "cells": [
  {
   "cell_type": "markdown",
   "metadata": {},
   "source": [
    "## Format Compliance for Email\n",
    "\n",
    "**Description**: Check if emails in a list are valid based on a basic regex pattern."
   ]
  },
  {
   "cell_type": "code",
   "execution_count": null,
   "metadata": {},
   "outputs": [],
   "source": [
    "# Write your code from here\n",
    "import re\n",
    "\n",
    "def validate_emails(email_list):\n",
    "    pattern = r'^[\\w\\.-]+@[\\w\\.-]+\\.\\w+$'  # Basic email regex pattern\n",
    "    results = []\n",
    "    for email in email_list:\n",
    "        if re.match(pattern, email):\n",
    "            results.append((email, True))\n",
    "        else:\n",
    "            results.append((email, False))\n",
    "    return results\n"
   ]
  },
  {
   "cell_type": "markdown",
   "metadata": {},
   "source": [
    "## Format Compliance for Phone Numbers\n",
    "\n",
    "**Description**: Verify if the phone numbers follow a specific pattern."
   ]
  },
  {
   "cell_type": "code",
   "execution_count": null,
   "metadata": {},
   "outputs": [],
   "source": [
    "# Write your code from here\n",
    "import re\n",
    "\n",
    "def validate_phone_numbers(phone_list):\n",
    "    # Example pattern: Optional +country code, digits, spaces, dashes, parentheses allowed\n",
    "    pattern = r'^(\\+\\d{1,3}[- ]?)?(\\(?\\d{3}\\)?[- ]?)?\\d{3}[- ]?\\d{4}$'\n",
    "    results = []\n",
    "    for phone in phone_list:\n",
    "        if re.match(pattern, phone):\n",
    "            results.append((phone, True))\n",
    "        else:\n",
    "            results.append((phone, False))\n",
    "    return results\n"
   ]
  },
  {
   "cell_type": "markdown",
   "metadata": {},
   "source": [
    "## Checking Date Validity Format\n",
    "\n",
    "**Description**: Ensure the dates in a list adhere to a specific format (e.g., YYYY-MM-DD)."
   ]
  },
  {
   "cell_type": "code",
   "execution_count": null,
   "metadata": {},
   "outputs": [],
   "source": [
    "# Write your code from here\n",
    "from datetime import datetime\n",
    "\n",
    "def validate_dates(date_list, date_format='%Y-%m-%d'):\n",
    "    results = []\n",
    "    for date_str in date_list:\n",
    "        try:\n",
    "            datetime.strptime(date_str, date_format)\n",
    "            results.append((date_str, True))\n",
    "        except ValueError:\n",
    "            results.append((date_str, False))\n",
    "    return results\n"
   ]
  }
 ],
 "metadata": {
  "kernelspec": {
   "display_name": "base",
   "language": "python",
   "name": "python3"
  },
  "language_info": {
   "name": "python",
   "version": "3.12.7"
  }
 },
 "nbformat": 4,
 "nbformat_minor": 2
}
