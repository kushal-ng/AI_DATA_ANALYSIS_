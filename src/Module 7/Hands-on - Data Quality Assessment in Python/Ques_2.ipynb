{
 "cells": [
  {
   "cell_type": "markdown",
   "metadata": {},
   "source": [
    "## Check Accuracy & Completeness\n",
    "\n",
    "**Objective**: Learn to assess data quality by checking for accuracy and completeness using Python.\n",
    "\n",
    "For this, you will use a sample dataset students.csv that contains the following\n",
    "columns: ID , Name , Age , Grade , Email .\n",
    "\n",
    "**Steps**:\n",
    "1. Check Accuracy\n",
    "    - Verify Numerical Data Accuracy\n",
    "    - Validate Email Format\n",
    "    - Integer Accuracy Check for Age\n",
    "2. Check Completeness\n",
    "    - Identify Missing Values\n",
    "    - Rows with Missing Data\n",
    "    - Column Specific Missing Value Check"
   ]
  },
  {
   "cell_type": "code",
   "execution_count": null,
   "metadata": {},
   "outputs": [],
   "source": [
    "# Write your code from here\n",
    "import csv\n",
    "import re\n",
    "\n",
    "def load_csv(filepath):\n",
    "    with open(filepath, newline='') as f:\n",
    "        return list(csv.DictReader(f))\n",
    "\n",
    "def is_valid_email(email):\n",
    "    pattern = r'^[\\w\\.-]+@[\\w\\.-]+\\.\\w+$'\n",
    "    return bool(re.fullmatch(pattern, email))\n",
    "\n",
    "def check_accuracy(data):\n",
    "    accuracy_issues = {'age_not_int': [], 'invalid_email': []}\n",
    "    for idx, record in enumerate(data):\n",
    "        age = record.get('Age', '')\n",
    "        try:\n",
    "            if int(age) != float(age):  # float check is a bit redundant here, just int cast\n",
    "                accuracy_issues['age_not_int'].append(idx)\n",
    "        except:\n",
    "            accuracy_issues['age_not_int'].append(idx)\n",
    "        email = record.get('Email', '')\n",
    "        if not is_valid_email(email):\n",
    "            accuracy_issues['invalid_email'].append(idx)\n",
    "    return accuracy_issues\n",
    "\n",
    "def check_completeness(data):\n",
    "    missing_value_indices = []\n",
    "    for idx, record in enumerate(data):\n",
    "        if any(v == '' or v is None for v in record.values()):\n",
    "            missing_value_indices.append(idx)\n",
    "    missing_by_column = {}\n",
    "    for key in data[0].keys():\n",
    "        count_missing = sum(1 for rec in data if rec.get(key, '') in [None, ''])\n",
    "        missing_by_column[key] = count_missing\n",
    "    return missing_value_indices, missing_by_column\n"
   ]
  }
 ],
 "metadata": {
  "kernelspec": {
   "display_name": "base",
   "language": "python",
   "name": "python3"
  },
  "language_info": {
   "name": "python",
   "version": "3.12.7"
  }
 },
 "nbformat": 4,
 "nbformat_minor": 2
}
