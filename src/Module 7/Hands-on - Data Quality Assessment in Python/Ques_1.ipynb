{
 "cells": [
  {
   "cell_type": "markdown",
   "metadata": {},
   "source": [
    "**Task 1**: Checking Null Values for Completeness\n",
    "\n",
    "**Description**: Verify if there are any null values in a dataset, which indicate incomplete data."
   ]
  },
  {
   "cell_type": "code",
   "execution_count": null,
   "metadata": {},
   "outputs": [],
   "source": [
    "# Write your code from here\n",
    "def check_null_values(dataset):\n",
    "    null_count = 0\n",
    "    total_values = 0\n",
    "    for record in dataset:\n",
    "        for key, value in record.items():\n",
    "            total_values += 1\n",
    "            if value is None:\n",
    "                null_count += 1\n",
    "    has_nulls = null_count > 0\n",
    "    null_percentage = (null_count / total_values) * 100 if total_values else 0\n",
    "    return has_nulls, null_count, null_percentage\n"
   ]
  },
  {
   "cell_type": "markdown",
   "metadata": {},
   "source": [
    "**Task 2**: Checking Data Type Validity\n",
    "\n",
    "**Description**: Ensure that columns contain data of expected types, e.g., ages are integers."
   ]
  },
  {
   "cell_type": "code",
   "execution_count": null,
   "metadata": {},
   "outputs": [],
   "source": [
    "# Write your code from here\n",
    "def check_data_type_validity(dataset, expected_types):\n",
    "    invalid_counts = {field: 0 for field in expected_types}\n",
    "    for record in dataset:\n",
    "        for field, expected_type in expected_types.items():\n",
    "            value = record.get(field)\n",
    "            if value is not None and not isinstance(value, expected_type):\n",
    "                invalid_counts[field] += 1\n",
    "    return invalid_counts\n"
   ]
  },
  {
   "cell_type": "markdown",
   "metadata": {},
   "source": [
    "**Task 3**: Verify Uniqueness of Identifiers\n",
    "\n",
    "**Description**: Check if a dataset has unique identifiers (e.g., emails)."
   ]
  },
  {
   "cell_type": "code",
   "execution_count": null,
   "metadata": {},
   "outputs": [],
   "source": [
    "# Write your code from here\n",
    "def verify_uniqueness(dataset, key):\n",
    "    seen = set()\n",
    "    duplicates = []\n",
    "    for record in dataset:\n",
    "        val = record.get(key)\n",
    "        if val in seen:\n",
    "            duplicates.append(record)\n",
    "        else:\n",
    "            seen.add(val)\n",
    "    return len(duplicates) == 0\n"
   ]
  },
  {
   "cell_type": "markdown",
   "metadata": {},
   "source": [
    "Task 4: Validate Email Format Using Regex\n",
    "\n",
    "Description: Validate if email addresses in a dataset have the correct format."
   ]
  },
  {
   "cell_type": "code",
   "execution_count": null,
   "metadata": {},
   "outputs": [],
   "source": [
    "# Write your code from here\n",
    "import re\n",
    "\n",
    "def validate_email_format(emails):\n",
    "    pattern = re.compile(r'^[\\w\\.-]+@[\\w\\.-]+\\.\\w+$')\n",
    "    return [email for email in emails if pattern.match(email)]\n"
   ]
  },
  {
   "cell_type": "markdown",
   "metadata": {},
   "source": [
    "Task 5: Check for Logical Age Validity\n",
    "\n",
    "Description: Ensure ages are within a reasonable human range (e.g., 0-120)."
   ]
  },
  {
   "cell_type": "code",
   "execution_count": null,
   "metadata": {},
   "outputs": [],
   "source": [
    "# Write your code from here\n",
    "def check_age_validity(ages):\n",
    "    return [age for age in ages if isinstance(age, int) and 0 <= age <= 120]\n"
   ]
  },
  {
   "cell_type": "markdown",
   "metadata": {},
   "source": [
    "Task 6: Identify and Handle Missing Data\n",
    "\n",
    "Description: Identify missing values in a dataset and impute them using a simple strategy (e.g., mean)."
   ]
  },
  {
   "cell_type": "code",
   "execution_count": null,
   "metadata": {},
   "outputs": [],
   "source": [
    "# Write your code from here\n",
    "import numpy as np\n",
    "\n",
    "def impute_missing_with_mean(data):\n",
    "    arr = np.array(data, dtype=float)\n",
    "    mean_val = np.nanmean(arr)\n",
    "    arr[np.isnan(arr)] = mean_val\n",
    "    return arr.tolist()\n"
   ]
  },
  {
   "cell_type": "markdown",
   "metadata": {},
   "source": [
    "Task 7: Detect Duplicates\n",
    "\n",
    "Description: Detect duplicate rows in the dataset."
   ]
  },
  {
   "cell_type": "code",
   "execution_count": null,
   "metadata": {},
   "outputs": [],
   "source": [
    "# Write your code from here\n",
    "def detect_duplicates(data):\n",
    "    seen = set()\n",
    "    duplicates = []\n",
    "    for row in data:\n",
    "        tup = tuple(row.items()) if isinstance(row, dict) else tuple(row)\n",
    "        if tup in seen:\n",
    "            duplicates.append(row)\n",
    "        else:\n",
    "            seen.add(tup)\n",
    "    return duplicates\n"
   ]
  },
  {
   "cell_type": "markdown",
   "metadata": {},
   "source": [
    "Task 8: Validate Correctness of Numerical Values\n",
    "\n",
    "Description: Ensure numerical columns are within a specified range."
   ]
  },
  {
   "cell_type": "code",
   "execution_count": null,
   "metadata": {},
   "outputs": [],
   "source": [
    "# Write your code from here\n",
    "def validate_numerical_range(data, column, min_value, max_value):\n",
    "    invalid_rows = []\n",
    "    for row in data:\n",
    "        value = row.get(column)\n",
    "        if value is None:\n",
    "            continue\n",
    "        try:\n",
    "            num = float(value)\n",
    "            if num < min_value or num > max_value:\n",
    "                invalid_rows.append(row)\n",
    "        except (ValueError, TypeError):\n",
    "            invalid_rows.append(row)\n",
    "    return invalid_rows\n"
   ]
  },
  {
   "cell_type": "markdown",
   "metadata": {},
   "source": [
    "Task 9: Custom Completeness Rule Violation Report\n",
    "\n",
    "Description: Create a report showing which rows violate specific completeness rules, such as mandatory fields being empty."
   ]
  },
  {
   "cell_type": "code",
   "execution_count": null,
   "metadata": {},
   "outputs": [],
   "source": [
    "# Write your code from here\n",
    "def completeness_violation_report(data, mandatory_fields):\n",
    "    violations = []\n",
    "    for idx, row in enumerate(data):\n",
    "        for field in mandatory_fields:\n",
    "            if field not in row or row[field] is None or row[field] == \"\":\n",
    "                violations.append({'row_index': idx, 'field': field, 'value': row.get(field)})\n",
    "    return violations\n"
   ]
  },
  {
   "cell_type": "markdown",
   "metadata": {},
   "source": [
    "Task 10: Advanced Regex for Data Validity Check\n",
    "\n",
    "Description: Check for validity with advanced regex patterns, such as validating complex fields with multi-level rules."
   ]
  },
  {
   "cell_type": "code",
   "execution_count": null,
   "metadata": {},
   "outputs": [],
   "source": [
    "# Write your code from here\n",
    "import re\n",
    "\n",
    "def validate_advanced_regex(data, field, pattern):\n",
    "    regex = re.compile(pattern)\n",
    "    invalid_records = []\n",
    "    for idx, record in enumerate(data):\n",
    "        value = record.get(field, \"\")\n",
    "        if not regex.fullmatch(value):\n",
    "            invalid_records.append({'index': idx, 'field': field, 'value': value})\n",
    "    return invalid_records\n"
   ]
  }
 ],
 "metadata": {
  "kernelspec": {
   "display_name": "base",
   "language": "python",
   "name": "python3"
  },
  "language_info": {
   "name": "python",
   "version": "3.12.7"
  }
 },
 "nbformat": 4,
 "nbformat_minor": 2
}
